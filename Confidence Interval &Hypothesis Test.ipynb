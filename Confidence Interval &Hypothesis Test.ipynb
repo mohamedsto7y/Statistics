{
 "cells": [
  {
   "cell_type": "markdown",
   "id": "6e8f6e57",
   "metadata": {},
   "source": [
    "## Sampling\n",
    "#### Read employees.csv file.\n",
    "#### Display column counts.\n",
    "#### Remove any row contains null and display column counts"
   ]
  },
  {
   "cell_type": "code",
   "execution_count": 22,
   "id": "05ede515-1ac0-419f-bdea-b61d65fa88ee",
   "metadata": {},
   "outputs": [],
   "source": [
    "import pandas as pd\n",
    "import seaborn as sns"
   ]
  },
  {
   "cell_type": "code",
   "execution_count": 3,
   "id": "3f16bc57",
   "metadata": {},
   "outputs": [],
   "source": [
    "df = pd.read_csv('employees.csv')"
   ]
  },
  {
   "cell_type": "code",
   "execution_count": 4,
   "id": "a083da3f-fd86-4db9-981d-f5ce68c822ef",
   "metadata": {},
   "outputs": [
    {
     "name": "stdout",
     "output_type": "stream",
     "text": [
      "First Name            933\n",
      "Gender                855\n",
      "Start Date           1000\n",
      "Last Login Time      1000\n",
      "Salary               1000\n",
      "Bonus %              1000\n",
      "Senior Management     933\n",
      "Team                  957\n",
      "dtype: int64\n"
     ]
    }
   ],
   "source": [
    "print(df.count())"
   ]
  },
  {
   "cell_type": "code",
   "execution_count": 3,
   "id": "4e14996a",
   "metadata": {},
   "outputs": [
    {
     "data": {
      "text/plain": [
       "First Name            933\n",
       "Gender                855\n",
       "Start Date           1000\n",
       "Last Login Time      1000\n",
       "Salary               1000\n",
       "Bonus %              1000\n",
       "Senior Management     933\n",
       "Team                  957\n",
       "dtype: int64"
      ]
     },
     "execution_count": 3,
     "metadata": {},
     "output_type": "execute_result"
    }
   ],
   "source": []
  },
  {
   "cell_type": "code",
   "execution_count": 9,
   "id": "bb613bf7-b5b7-40da-8db8-7a29190e6702",
   "metadata": {},
   "outputs": [],
   "source": []
  },
  {
   "cell_type": "code",
   "execution_count": 6,
   "id": "01895655-cd67-4247-aa10-984b39a9faf4",
   "metadata": {},
   "outputs": [
    {
     "name": "stdout",
     "output_type": "stream",
     "text": [
      "First Name           764\n",
      "Gender               764\n",
      "Start Date           764\n",
      "Last Login Time      764\n",
      "Salary               764\n",
      "Bonus %              764\n",
      "Senior Management    764\n",
      "Team                 764\n",
      "dtype: int64\n"
     ]
    }
   ],
   "source": [
    "df_clean = df.dropna()\n",
    "print(df_clean.count())"
   ]
  },
  {
   "cell_type": "code",
   "execution_count": 4,
   "id": "47b8da3f",
   "metadata": {},
   "outputs": [
    {
     "data": {
      "text/plain": [
       "index                764\n",
       "First Name           764\n",
       "Gender               764\n",
       "Start Date           764\n",
       "Last Login Time      764\n",
       "Salary               764\n",
       "Bonus %              764\n",
       "Senior Management    764\n",
       "Team                 764\n",
       "dtype: int64"
      ]
     },
     "execution_count": 4,
     "metadata": {},
     "output_type": "execute_result"
    }
   ],
   "source": []
  },
  {
   "cell_type": "markdown",
   "id": "e4b73c7a",
   "metadata": {},
   "source": [
    "## Simple Random Sample (SRS)\n",
    "#### Select simple random sample of size=50.\n",
    "#### Select 50% SRS.\n",
    "#### Display column counts in both cases."
   ]
  },
  {
   "cell_type": "code",
   "execution_count": null,
   "id": "b83f5d68-be59-4fc4-90b9-e2e5c4600d03",
   "metadata": {},
   "outputs": [],
   "source": []
  },
  {
   "cell_type": "code",
   "execution_count": 14,
   "id": "b3e4c78a-b3bd-4607-b7ae-43614af53ec0",
   "metadata": {},
   "outputs": [
    {
     "name": "stdout",
     "output_type": "stream",
     "text": [
      "First Name           50\n",
      "Gender               50\n",
      "Start Date           50\n",
      "Last Login Time      50\n",
      "Salary               50\n",
      "Bonus %              50\n",
      "Senior Management    50\n",
      "Team                 50\n",
      "dtype: int64\n"
     ]
    }
   ],
   "source": [
    "srs50 = df_clean.sample(n=50)\n",
    "print(srs50.count())"
   ]
  },
  {
   "cell_type": "code",
   "execution_count": 5,
   "id": "7975f507",
   "metadata": {},
   "outputs": [
    {
     "data": {
      "text/plain": [
       "index                50\n",
       "First Name           50\n",
       "Gender               50\n",
       "Start Date           50\n",
       "Last Login Time      50\n",
       "Salary               50\n",
       "Bonus %              50\n",
       "Senior Management    50\n",
       "Team                 50\n",
       "dtype: int64"
      ]
     },
     "execution_count": 5,
     "metadata": {},
     "output_type": "execute_result"
    }
   ],
   "source": []
  },
  {
   "cell_type": "code",
   "execution_count": 16,
   "id": "1bd0fbc6-d4ec-4c9f-bee0-bb934bf98201",
   "metadata": {},
   "outputs": [
    {
     "name": "stdout",
     "output_type": "stream",
     "text": [
      "First Name           382\n",
      "Gender               382\n",
      "Start Date           382\n",
      "Last Login Time      382\n",
      "Salary               382\n",
      "Bonus %              382\n",
      "Senior Management    382\n",
      "Team                 382\n",
      "dtype: int64\n"
     ]
    }
   ],
   "source": [
    "srs50p = df_clean.sample(frac=0.5)\n",
    "print(srs50p.count())"
   ]
  },
  {
   "cell_type": "code",
   "execution_count": null,
   "id": "ba740292-a566-4733-8c7e-dc94ed56a598",
   "metadata": {},
   "outputs": [],
   "source": []
  },
  {
   "cell_type": "code",
   "execution_count": 6,
   "id": "34d28bee",
   "metadata": {},
   "outputs": [
    {
     "data": {
      "text/plain": [
       "index                382\n",
       "First Name           382\n",
       "Gender               382\n",
       "Start Date           382\n",
       "Last Login Time      382\n",
       "Salary               382\n",
       "Bonus %              382\n",
       "Senior Management    382\n",
       "Team                 382\n",
       "dtype: int64"
      ]
     },
     "execution_count": 6,
     "metadata": {},
     "output_type": "execute_result"
    }
   ],
   "source": []
  },
  {
   "cell_type": "markdown",
   "id": "18234c8a",
   "metadata": {},
   "source": [
    "## Systematic Sampling\n",
    "#### Select a systematic sample with 25, 50, and 100 intervals."
   ]
  },
  {
   "cell_type": "code",
   "execution_count": null,
   "id": "6f92f662-f5f4-468a-885e-ecfc7389b14c",
   "metadata": {},
   "outputs": [],
   "source": []
  },
  {
   "cell_type": "code",
   "execution_count": 17,
   "id": "8a4d10e4",
   "metadata": {},
   "outputs": [],
   "source": [
    "intervals = [25, 50, 100]"
   ]
  },
  {
   "cell_type": "code",
   "execution_count": 30,
   "id": "e4ee811c-6f26-470a-afe5-81e3b97e6008",
   "metadata": {},
   "outputs": [],
   "source": [
    "systematic_sample = df_clean.iloc[::25]"
   ]
  },
  {
   "cell_type": "code",
   "execution_count": 31,
   "id": "58bf40b4-a109-46dd-8917-7ded6b04b823",
   "metadata": {},
   "outputs": [
    {
     "name": "stdout",
     "output_type": "stream",
     "text": [
      "      First Name  Gender  Start Date Last Login Time  Salary  Bonus %  \\\n",
      "0        Douglas    Male    8/6/1993        12:42 PM   97308    6.945   \n",
      "35       Theresa  Female  10/10/2006         1:12 AM   85182   16.675   \n",
      "68          Jose    Male  10/30/2004         1:39 PM   84834   14.330   \n",
      "101        Aaron    Male   2/17/2012        10:20 AM   61602   11.849   \n",
      "130      Shirley  Female    5/1/1984         1:15 PM   41334    6.219   \n",
      "167  Christopher    Male  12/24/2011        12:22 PM  142178   17.984   \n",
      "197      Carolyn  Female   11/6/2012         3:51 AM   69268    3.031   \n",
      "225        Harry    Male   10/1/2015         7:47 PM   64579   15.266   \n",
      "260       Gloria  Female   3/27/2007         1:44 AM   90730    2.491   \n",
      "294     Virginia  Female  10/20/1999         6:23 AM   46905   19.154   \n",
      "326      Jeffrey    Male   6/18/1997         8:01 PM   45150   12.075   \n",
      "355       Andrea  Female   9/14/2003        10:30 PM  115913   12.121   \n",
      "391      Marilyn  Female   8/15/1989         9:14 AM  140502    9.989   \n",
      "425        Alice  Female    5/2/1986         1:50 AM   51395    2.378   \n",
      "458       Albert    Male   9/30/2007         5:34 PM  102626   15.843   \n",
      "488       Robert    Male   3/11/2007        11:20 AM  135882   19.944   \n",
      "522    Catherine  Female   8/31/2013         7:24 PM   58047   14.858   \n",
      "553       Amanda  Female    6/7/2002         7:46 AM  109290   13.853   \n",
      "584         Jack    Male   5/30/2012         3:17 AM   70367   18.266   \n",
      "619      Beverly  Female  10/22/1990         2:45 PM   59070   19.064   \n",
      "653        Debra  Female   5/28/2006         6:51 AM   42296   16.922   \n",
      "690        Bruce    Male   1/28/2007        11:10 PM  134988   13.926   \n",
      "725       Jeremy    Male   5/19/1991         1:40 PM  131513    1.876   \n",
      "759         Ruth  Female    9/2/1980         6:52 AM   59678   10.895   \n",
      "796    Catherine  Female   8/31/1986         6:20 PM   59970   12.801   \n",
      "828      Cynthia  Female   7/12/2006         8:55 AM  149684    7.864   \n",
      "861        Jerry    Male   3/26/1989         4:15 AM  140850   18.855   \n",
      "893        Frank    Male   7/27/2013         4:32 PM   91406    5.681   \n",
      "922       Arthur    Male   12/5/2013         8:44 AM   86615    3.412   \n",
      "956      Beverly  Female  10/17/1986        12:51 AM   80838    8.115   \n",
      "983         John    Male  12/23/1982        10:35 PM  146907   11.738   \n",
      "\n",
      "    Senior Management                  Team  \n",
      "0                True             Marketing  \n",
      "35              False                 Sales  \n",
      "68               True               Finance  \n",
      "101              True             Marketing  \n",
      "130              True       Human Resources  \n",
      "167              True                 Sales  \n",
      "197             False       Client Services  \n",
      "225              True                 Sales  \n",
      "260             False          Distribution  \n",
      "294             False          Distribution  \n",
      "326              True               Product  \n",
      "355             False                 Legal  \n",
      "391              True                 Sales  \n",
      "425              True               Finance  \n",
      "458             False               Finance  \n",
      "488             False                 Legal  \n",
      "522              True          Distribution  \n",
      "553             False           Engineering  \n",
      "584              True                 Legal  \n",
      "619              True           Engineering  \n",
      "653             False               Product  \n",
      "690              True                 Sales  \n",
      "725              True               Finance  \n",
      "759             False          Distribution  \n",
      "796             False       Client Services  \n",
      "828             False               Product  \n",
      "861             False               Finance  \n",
      "893              True  Business Development  \n",
      "922              True  Business Development  \n",
      "956             False           Engineering  \n",
      "983             False           Engineering  \n"
     ]
    }
   ],
   "source": [
    "print(systematic_sample)"
   ]
  },
  {
   "cell_type": "code",
   "execution_count": 8,
   "id": "9830833a",
   "metadata": {},
   "outputs": [
    {
     "data": {
      "text/html": [
       "<div>\n",
       "<style scoped>\n",
       "    .dataframe tbody tr th:only-of-type {\n",
       "        vertical-align: middle;\n",
       "    }\n",
       "\n",
       "    .dataframe tbody tr th {\n",
       "        vertical-align: top;\n",
       "    }\n",
       "\n",
       "    .dataframe thead th {\n",
       "        text-align: right;\n",
       "    }\n",
       "</style>\n",
       "<table border=\"1\" class=\"dataframe\">\n",
       "  <thead>\n",
       "    <tr style=\"text-align: right;\">\n",
       "      <th></th>\n",
       "      <th>index</th>\n",
       "      <th>First Name</th>\n",
       "      <th>Gender</th>\n",
       "      <th>Start Date</th>\n",
       "      <th>Last Login Time</th>\n",
       "      <th>Salary</th>\n",
       "      <th>Bonus %</th>\n",
       "      <th>Senior Management</th>\n",
       "      <th>Team</th>\n",
       "    </tr>\n",
       "  </thead>\n",
       "  <tbody>\n",
       "    <tr>\n",
       "      <th>0</th>\n",
       "      <td>0</td>\n",
       "      <td>Douglas</td>\n",
       "      <td>Male</td>\n",
       "      <td>8/6/1993</td>\n",
       "      <td>12:42 PM</td>\n",
       "      <td>97308</td>\n",
       "      <td>6.945</td>\n",
       "      <td>True</td>\n",
       "      <td>Marketing</td>\n",
       "    </tr>\n",
       "    <tr>\n",
       "      <th>25</th>\n",
       "      <td>35</td>\n",
       "      <td>Theresa</td>\n",
       "      <td>Female</td>\n",
       "      <td>10/10/2006</td>\n",
       "      <td>1:12 AM</td>\n",
       "      <td>85182</td>\n",
       "      <td>16.675</td>\n",
       "      <td>False</td>\n",
       "      <td>Sales</td>\n",
       "    </tr>\n",
       "    <tr>\n",
       "      <th>50</th>\n",
       "      <td>68</td>\n",
       "      <td>Jose</td>\n",
       "      <td>Male</td>\n",
       "      <td>10/30/2004</td>\n",
       "      <td>1:39 PM</td>\n",
       "      <td>84834</td>\n",
       "      <td>14.330</td>\n",
       "      <td>True</td>\n",
       "      <td>Finance</td>\n",
       "    </tr>\n",
       "    <tr>\n",
       "      <th>75</th>\n",
       "      <td>101</td>\n",
       "      <td>Aaron</td>\n",
       "      <td>Male</td>\n",
       "      <td>2/17/2012</td>\n",
       "      <td>10:20 AM</td>\n",
       "      <td>61602</td>\n",
       "      <td>11.849</td>\n",
       "      <td>True</td>\n",
       "      <td>Marketing</td>\n",
       "    </tr>\n",
       "    <tr>\n",
       "      <th>100</th>\n",
       "      <td>130</td>\n",
       "      <td>Shirley</td>\n",
       "      <td>Female</td>\n",
       "      <td>5/1/1984</td>\n",
       "      <td>1:15 PM</td>\n",
       "      <td>41334</td>\n",
       "      <td>6.219</td>\n",
       "      <td>True</td>\n",
       "      <td>Human Resources</td>\n",
       "    </tr>\n",
       "    <tr>\n",
       "      <th>125</th>\n",
       "      <td>167</td>\n",
       "      <td>Christopher</td>\n",
       "      <td>Male</td>\n",
       "      <td>12/24/2011</td>\n",
       "      <td>12:22 PM</td>\n",
       "      <td>142178</td>\n",
       "      <td>17.984</td>\n",
       "      <td>True</td>\n",
       "      <td>Sales</td>\n",
       "    </tr>\n",
       "    <tr>\n",
       "      <th>150</th>\n",
       "      <td>197</td>\n",
       "      <td>Carolyn</td>\n",
       "      <td>Female</td>\n",
       "      <td>11/6/2012</td>\n",
       "      <td>3:51 AM</td>\n",
       "      <td>69268</td>\n",
       "      <td>3.031</td>\n",
       "      <td>False</td>\n",
       "      <td>Client Services</td>\n",
       "    </tr>\n",
       "    <tr>\n",
       "      <th>175</th>\n",
       "      <td>225</td>\n",
       "      <td>Harry</td>\n",
       "      <td>Male</td>\n",
       "      <td>10/1/2015</td>\n",
       "      <td>7:47 PM</td>\n",
       "      <td>64579</td>\n",
       "      <td>15.266</td>\n",
       "      <td>True</td>\n",
       "      <td>Sales</td>\n",
       "    </tr>\n",
       "    <tr>\n",
       "      <th>200</th>\n",
       "      <td>260</td>\n",
       "      <td>Gloria</td>\n",
       "      <td>Female</td>\n",
       "      <td>3/27/2007</td>\n",
       "      <td>1:44 AM</td>\n",
       "      <td>90730</td>\n",
       "      <td>2.491</td>\n",
       "      <td>False</td>\n",
       "      <td>Distribution</td>\n",
       "    </tr>\n",
       "    <tr>\n",
       "      <th>225</th>\n",
       "      <td>294</td>\n",
       "      <td>Virginia</td>\n",
       "      <td>Female</td>\n",
       "      <td>10/20/1999</td>\n",
       "      <td>6:23 AM</td>\n",
       "      <td>46905</td>\n",
       "      <td>19.154</td>\n",
       "      <td>False</td>\n",
       "      <td>Distribution</td>\n",
       "    </tr>\n",
       "    <tr>\n",
       "      <th>250</th>\n",
       "      <td>326</td>\n",
       "      <td>Jeffrey</td>\n",
       "      <td>Male</td>\n",
       "      <td>6/18/1997</td>\n",
       "      <td>8:01 PM</td>\n",
       "      <td>45150</td>\n",
       "      <td>12.075</td>\n",
       "      <td>True</td>\n",
       "      <td>Product</td>\n",
       "    </tr>\n",
       "    <tr>\n",
       "      <th>275</th>\n",
       "      <td>355</td>\n",
       "      <td>Andrea</td>\n",
       "      <td>Female</td>\n",
       "      <td>9/14/2003</td>\n",
       "      <td>10:30 PM</td>\n",
       "      <td>115913</td>\n",
       "      <td>12.121</td>\n",
       "      <td>False</td>\n",
       "      <td>Legal</td>\n",
       "    </tr>\n",
       "    <tr>\n",
       "      <th>300</th>\n",
       "      <td>391</td>\n",
       "      <td>Marilyn</td>\n",
       "      <td>Female</td>\n",
       "      <td>8/15/1989</td>\n",
       "      <td>9:14 AM</td>\n",
       "      <td>140502</td>\n",
       "      <td>9.989</td>\n",
       "      <td>True</td>\n",
       "      <td>Sales</td>\n",
       "    </tr>\n",
       "    <tr>\n",
       "      <th>325</th>\n",
       "      <td>425</td>\n",
       "      <td>Alice</td>\n",
       "      <td>Female</td>\n",
       "      <td>5/2/1986</td>\n",
       "      <td>1:50 AM</td>\n",
       "      <td>51395</td>\n",
       "      <td>2.378</td>\n",
       "      <td>True</td>\n",
       "      <td>Finance</td>\n",
       "    </tr>\n",
       "    <tr>\n",
       "      <th>350</th>\n",
       "      <td>458</td>\n",
       "      <td>Albert</td>\n",
       "      <td>Male</td>\n",
       "      <td>9/30/2007</td>\n",
       "      <td>5:34 PM</td>\n",
       "      <td>102626</td>\n",
       "      <td>15.843</td>\n",
       "      <td>False</td>\n",
       "      <td>Finance</td>\n",
       "    </tr>\n",
       "    <tr>\n",
       "      <th>375</th>\n",
       "      <td>488</td>\n",
       "      <td>Robert</td>\n",
       "      <td>Male</td>\n",
       "      <td>3/11/2007</td>\n",
       "      <td>11:20 AM</td>\n",
       "      <td>135882</td>\n",
       "      <td>19.944</td>\n",
       "      <td>False</td>\n",
       "      <td>Legal</td>\n",
       "    </tr>\n",
       "    <tr>\n",
       "      <th>400</th>\n",
       "      <td>522</td>\n",
       "      <td>Catherine</td>\n",
       "      <td>Female</td>\n",
       "      <td>8/31/2013</td>\n",
       "      <td>7:24 PM</td>\n",
       "      <td>58047</td>\n",
       "      <td>14.858</td>\n",
       "      <td>True</td>\n",
       "      <td>Distribution</td>\n",
       "    </tr>\n",
       "    <tr>\n",
       "      <th>425</th>\n",
       "      <td>553</td>\n",
       "      <td>Amanda</td>\n",
       "      <td>Female</td>\n",
       "      <td>6/7/2002</td>\n",
       "      <td>7:46 AM</td>\n",
       "      <td>109290</td>\n",
       "      <td>13.853</td>\n",
       "      <td>False</td>\n",
       "      <td>Engineering</td>\n",
       "    </tr>\n",
       "    <tr>\n",
       "      <th>450</th>\n",
       "      <td>584</td>\n",
       "      <td>Jack</td>\n",
       "      <td>Male</td>\n",
       "      <td>5/30/2012</td>\n",
       "      <td>3:17 AM</td>\n",
       "      <td>70367</td>\n",
       "      <td>18.266</td>\n",
       "      <td>True</td>\n",
       "      <td>Legal</td>\n",
       "    </tr>\n",
       "    <tr>\n",
       "      <th>475</th>\n",
       "      <td>619</td>\n",
       "      <td>Beverly</td>\n",
       "      <td>Female</td>\n",
       "      <td>10/22/1990</td>\n",
       "      <td>2:45 PM</td>\n",
       "      <td>59070</td>\n",
       "      <td>19.064</td>\n",
       "      <td>True</td>\n",
       "      <td>Engineering</td>\n",
       "    </tr>\n",
       "    <tr>\n",
       "      <th>500</th>\n",
       "      <td>653</td>\n",
       "      <td>Debra</td>\n",
       "      <td>Female</td>\n",
       "      <td>5/28/2006</td>\n",
       "      <td>6:51 AM</td>\n",
       "      <td>42296</td>\n",
       "      <td>16.922</td>\n",
       "      <td>False</td>\n",
       "      <td>Product</td>\n",
       "    </tr>\n",
       "    <tr>\n",
       "      <th>525</th>\n",
       "      <td>690</td>\n",
       "      <td>Bruce</td>\n",
       "      <td>Male</td>\n",
       "      <td>1/28/2007</td>\n",
       "      <td>11:10 PM</td>\n",
       "      <td>134988</td>\n",
       "      <td>13.926</td>\n",
       "      <td>True</td>\n",
       "      <td>Sales</td>\n",
       "    </tr>\n",
       "    <tr>\n",
       "      <th>550</th>\n",
       "      <td>725</td>\n",
       "      <td>Jeremy</td>\n",
       "      <td>Male</td>\n",
       "      <td>5/19/1991</td>\n",
       "      <td>1:40 PM</td>\n",
       "      <td>131513</td>\n",
       "      <td>1.876</td>\n",
       "      <td>True</td>\n",
       "      <td>Finance</td>\n",
       "    </tr>\n",
       "    <tr>\n",
       "      <th>575</th>\n",
       "      <td>759</td>\n",
       "      <td>Ruth</td>\n",
       "      <td>Female</td>\n",
       "      <td>9/2/1980</td>\n",
       "      <td>6:52 AM</td>\n",
       "      <td>59678</td>\n",
       "      <td>10.895</td>\n",
       "      <td>False</td>\n",
       "      <td>Distribution</td>\n",
       "    </tr>\n",
       "    <tr>\n",
       "      <th>600</th>\n",
       "      <td>796</td>\n",
       "      <td>Catherine</td>\n",
       "      <td>Female</td>\n",
       "      <td>8/31/1986</td>\n",
       "      <td>6:20 PM</td>\n",
       "      <td>59970</td>\n",
       "      <td>12.801</td>\n",
       "      <td>False</td>\n",
       "      <td>Client Services</td>\n",
       "    </tr>\n",
       "    <tr>\n",
       "      <th>625</th>\n",
       "      <td>828</td>\n",
       "      <td>Cynthia</td>\n",
       "      <td>Female</td>\n",
       "      <td>7/12/2006</td>\n",
       "      <td>8:55 AM</td>\n",
       "      <td>149684</td>\n",
       "      <td>7.864</td>\n",
       "      <td>False</td>\n",
       "      <td>Product</td>\n",
       "    </tr>\n",
       "    <tr>\n",
       "      <th>650</th>\n",
       "      <td>861</td>\n",
       "      <td>Jerry</td>\n",
       "      <td>Male</td>\n",
       "      <td>3/26/1989</td>\n",
       "      <td>4:15 AM</td>\n",
       "      <td>140850</td>\n",
       "      <td>18.855</td>\n",
       "      <td>False</td>\n",
       "      <td>Finance</td>\n",
       "    </tr>\n",
       "    <tr>\n",
       "      <th>675</th>\n",
       "      <td>893</td>\n",
       "      <td>Frank</td>\n",
       "      <td>Male</td>\n",
       "      <td>7/27/2013</td>\n",
       "      <td>4:32 PM</td>\n",
       "      <td>91406</td>\n",
       "      <td>5.681</td>\n",
       "      <td>True</td>\n",
       "      <td>Business Development</td>\n",
       "    </tr>\n",
       "    <tr>\n",
       "      <th>700</th>\n",
       "      <td>922</td>\n",
       "      <td>Arthur</td>\n",
       "      <td>Male</td>\n",
       "      <td>12/5/2013</td>\n",
       "      <td>8:44 AM</td>\n",
       "      <td>86615</td>\n",
       "      <td>3.412</td>\n",
       "      <td>True</td>\n",
       "      <td>Business Development</td>\n",
       "    </tr>\n",
       "    <tr>\n",
       "      <th>725</th>\n",
       "      <td>956</td>\n",
       "      <td>Beverly</td>\n",
       "      <td>Female</td>\n",
       "      <td>10/17/1986</td>\n",
       "      <td>12:51 AM</td>\n",
       "      <td>80838</td>\n",
       "      <td>8.115</td>\n",
       "      <td>False</td>\n",
       "      <td>Engineering</td>\n",
       "    </tr>\n",
       "    <tr>\n",
       "      <th>750</th>\n",
       "      <td>983</td>\n",
       "      <td>John</td>\n",
       "      <td>Male</td>\n",
       "      <td>12/23/1982</td>\n",
       "      <td>10:35 PM</td>\n",
       "      <td>146907</td>\n",
       "      <td>11.738</td>\n",
       "      <td>False</td>\n",
       "      <td>Engineering</td>\n",
       "    </tr>\n",
       "  </tbody>\n",
       "</table>\n",
       "</div>"
      ],
      "text/plain": [
       "     index   First Name  Gender  Start Date Last Login Time  Salary  Bonus %  \\\n",
       "0        0      Douglas    Male    8/6/1993        12:42 PM   97308    6.945   \n",
       "25      35      Theresa  Female  10/10/2006         1:12 AM   85182   16.675   \n",
       "50      68         Jose    Male  10/30/2004         1:39 PM   84834   14.330   \n",
       "75     101        Aaron    Male   2/17/2012        10:20 AM   61602   11.849   \n",
       "100    130      Shirley  Female    5/1/1984         1:15 PM   41334    6.219   \n",
       "125    167  Christopher    Male  12/24/2011        12:22 PM  142178   17.984   \n",
       "150    197      Carolyn  Female   11/6/2012         3:51 AM   69268    3.031   \n",
       "175    225        Harry    Male   10/1/2015         7:47 PM   64579   15.266   \n",
       "200    260       Gloria  Female   3/27/2007         1:44 AM   90730    2.491   \n",
       "225    294     Virginia  Female  10/20/1999         6:23 AM   46905   19.154   \n",
       "250    326      Jeffrey    Male   6/18/1997         8:01 PM   45150   12.075   \n",
       "275    355       Andrea  Female   9/14/2003        10:30 PM  115913   12.121   \n",
       "300    391      Marilyn  Female   8/15/1989         9:14 AM  140502    9.989   \n",
       "325    425        Alice  Female    5/2/1986         1:50 AM   51395    2.378   \n",
       "350    458       Albert    Male   9/30/2007         5:34 PM  102626   15.843   \n",
       "375    488       Robert    Male   3/11/2007        11:20 AM  135882   19.944   \n",
       "400    522    Catherine  Female   8/31/2013         7:24 PM   58047   14.858   \n",
       "425    553       Amanda  Female    6/7/2002         7:46 AM  109290   13.853   \n",
       "450    584         Jack    Male   5/30/2012         3:17 AM   70367   18.266   \n",
       "475    619      Beverly  Female  10/22/1990         2:45 PM   59070   19.064   \n",
       "500    653        Debra  Female   5/28/2006         6:51 AM   42296   16.922   \n",
       "525    690        Bruce    Male   1/28/2007        11:10 PM  134988   13.926   \n",
       "550    725       Jeremy    Male   5/19/1991         1:40 PM  131513    1.876   \n",
       "575    759         Ruth  Female    9/2/1980         6:52 AM   59678   10.895   \n",
       "600    796    Catherine  Female   8/31/1986         6:20 PM   59970   12.801   \n",
       "625    828      Cynthia  Female   7/12/2006         8:55 AM  149684    7.864   \n",
       "650    861        Jerry    Male   3/26/1989         4:15 AM  140850   18.855   \n",
       "675    893        Frank    Male   7/27/2013         4:32 PM   91406    5.681   \n",
       "700    922       Arthur    Male   12/5/2013         8:44 AM   86615    3.412   \n",
       "725    956      Beverly  Female  10/17/1986        12:51 AM   80838    8.115   \n",
       "750    983         John    Male  12/23/1982        10:35 PM  146907   11.738   \n",
       "\n",
       "    Senior Management                  Team  \n",
       "0                True             Marketing  \n",
       "25              False                 Sales  \n",
       "50               True               Finance  \n",
       "75               True             Marketing  \n",
       "100              True       Human Resources  \n",
       "125              True                 Sales  \n",
       "150             False       Client Services  \n",
       "175              True                 Sales  \n",
       "200             False          Distribution  \n",
       "225             False          Distribution  \n",
       "250              True               Product  \n",
       "275             False                 Legal  \n",
       "300              True                 Sales  \n",
       "325              True               Finance  \n",
       "350             False               Finance  \n",
       "375             False                 Legal  \n",
       "400              True          Distribution  \n",
       "425             False           Engineering  \n",
       "450              True                 Legal  \n",
       "475              True           Engineering  \n",
       "500             False               Product  \n",
       "525              True                 Sales  \n",
       "550              True               Finance  \n",
       "575             False          Distribution  \n",
       "600             False       Client Services  \n",
       "625             False               Product  \n",
       "650             False               Finance  \n",
       "675              True  Business Development  \n",
       "700              True  Business Development  \n",
       "725             False           Engineering  \n",
       "750             False           Engineering  "
      ]
     },
     "execution_count": 8,
     "metadata": {},
     "output_type": "execute_result"
    }
   ],
   "source": []
  },
  {
   "cell_type": "code",
   "execution_count": null,
   "id": "29e1a44d-33d7-4a0b-9ced-965b41376c20",
   "metadata": {},
   "outputs": [],
   "source": []
  },
  {
   "cell_type": "code",
   "execution_count": 33,
   "id": "7e7dccb8-db30-437a-b989-cf2aebcd7329",
   "metadata": {},
   "outputs": [
    {
     "data": {
      "text/html": [
       "<div>\n",
       "<style scoped>\n",
       "    .dataframe tbody tr th:only-of-type {\n",
       "        vertical-align: middle;\n",
       "    }\n",
       "\n",
       "    .dataframe tbody tr th {\n",
       "        vertical-align: top;\n",
       "    }\n",
       "\n",
       "    .dataframe thead th {\n",
       "        text-align: right;\n",
       "    }\n",
       "</style>\n",
       "<table border=\"1\" class=\"dataframe\">\n",
       "  <thead>\n",
       "    <tr style=\"text-align: right;\">\n",
       "      <th></th>\n",
       "      <th>First Name</th>\n",
       "      <th>Gender</th>\n",
       "      <th>Start Date</th>\n",
       "      <th>Last Login Time</th>\n",
       "      <th>Salary</th>\n",
       "      <th>Bonus %</th>\n",
       "      <th>Senior Management</th>\n",
       "      <th>Team</th>\n",
       "    </tr>\n",
       "  </thead>\n",
       "  <tbody>\n",
       "    <tr>\n",
       "      <th>0</th>\n",
       "      <td>Douglas</td>\n",
       "      <td>Male</td>\n",
       "      <td>8/6/1993</td>\n",
       "      <td>12:42 PM</td>\n",
       "      <td>97308</td>\n",
       "      <td>6.945</td>\n",
       "      <td>True</td>\n",
       "      <td>Marketing</td>\n",
       "    </tr>\n",
       "    <tr>\n",
       "      <th>68</th>\n",
       "      <td>Jose</td>\n",
       "      <td>Male</td>\n",
       "      <td>10/30/2004</td>\n",
       "      <td>1:39 PM</td>\n",
       "      <td>84834</td>\n",
       "      <td>14.330</td>\n",
       "      <td>True</td>\n",
       "      <td>Finance</td>\n",
       "    </tr>\n",
       "    <tr>\n",
       "      <th>130</th>\n",
       "      <td>Shirley</td>\n",
       "      <td>Female</td>\n",
       "      <td>5/1/1984</td>\n",
       "      <td>1:15 PM</td>\n",
       "      <td>41334</td>\n",
       "      <td>6.219</td>\n",
       "      <td>True</td>\n",
       "      <td>Human Resources</td>\n",
       "    </tr>\n",
       "    <tr>\n",
       "      <th>197</th>\n",
       "      <td>Carolyn</td>\n",
       "      <td>Female</td>\n",
       "      <td>11/6/2012</td>\n",
       "      <td>3:51 AM</td>\n",
       "      <td>69268</td>\n",
       "      <td>3.031</td>\n",
       "      <td>False</td>\n",
       "      <td>Client Services</td>\n",
       "    </tr>\n",
       "    <tr>\n",
       "      <th>260</th>\n",
       "      <td>Gloria</td>\n",
       "      <td>Female</td>\n",
       "      <td>3/27/2007</td>\n",
       "      <td>1:44 AM</td>\n",
       "      <td>90730</td>\n",
       "      <td>2.491</td>\n",
       "      <td>False</td>\n",
       "      <td>Distribution</td>\n",
       "    </tr>\n",
       "    <tr>\n",
       "      <th>326</th>\n",
       "      <td>Jeffrey</td>\n",
       "      <td>Male</td>\n",
       "      <td>6/18/1997</td>\n",
       "      <td>8:01 PM</td>\n",
       "      <td>45150</td>\n",
       "      <td>12.075</td>\n",
       "      <td>True</td>\n",
       "      <td>Product</td>\n",
       "    </tr>\n",
       "    <tr>\n",
       "      <th>391</th>\n",
       "      <td>Marilyn</td>\n",
       "      <td>Female</td>\n",
       "      <td>8/15/1989</td>\n",
       "      <td>9:14 AM</td>\n",
       "      <td>140502</td>\n",
       "      <td>9.989</td>\n",
       "      <td>True</td>\n",
       "      <td>Sales</td>\n",
       "    </tr>\n",
       "    <tr>\n",
       "      <th>458</th>\n",
       "      <td>Albert</td>\n",
       "      <td>Male</td>\n",
       "      <td>9/30/2007</td>\n",
       "      <td>5:34 PM</td>\n",
       "      <td>102626</td>\n",
       "      <td>15.843</td>\n",
       "      <td>False</td>\n",
       "      <td>Finance</td>\n",
       "    </tr>\n",
       "    <tr>\n",
       "      <th>522</th>\n",
       "      <td>Catherine</td>\n",
       "      <td>Female</td>\n",
       "      <td>8/31/2013</td>\n",
       "      <td>7:24 PM</td>\n",
       "      <td>58047</td>\n",
       "      <td>14.858</td>\n",
       "      <td>True</td>\n",
       "      <td>Distribution</td>\n",
       "    </tr>\n",
       "    <tr>\n",
       "      <th>584</th>\n",
       "      <td>Jack</td>\n",
       "      <td>Male</td>\n",
       "      <td>5/30/2012</td>\n",
       "      <td>3:17 AM</td>\n",
       "      <td>70367</td>\n",
       "      <td>18.266</td>\n",
       "      <td>True</td>\n",
       "      <td>Legal</td>\n",
       "    </tr>\n",
       "    <tr>\n",
       "      <th>653</th>\n",
       "      <td>Debra</td>\n",
       "      <td>Female</td>\n",
       "      <td>5/28/2006</td>\n",
       "      <td>6:51 AM</td>\n",
       "      <td>42296</td>\n",
       "      <td>16.922</td>\n",
       "      <td>False</td>\n",
       "      <td>Product</td>\n",
       "    </tr>\n",
       "    <tr>\n",
       "      <th>725</th>\n",
       "      <td>Jeremy</td>\n",
       "      <td>Male</td>\n",
       "      <td>5/19/1991</td>\n",
       "      <td>1:40 PM</td>\n",
       "      <td>131513</td>\n",
       "      <td>1.876</td>\n",
       "      <td>True</td>\n",
       "      <td>Finance</td>\n",
       "    </tr>\n",
       "    <tr>\n",
       "      <th>796</th>\n",
       "      <td>Catherine</td>\n",
       "      <td>Female</td>\n",
       "      <td>8/31/1986</td>\n",
       "      <td>6:20 PM</td>\n",
       "      <td>59970</td>\n",
       "      <td>12.801</td>\n",
       "      <td>False</td>\n",
       "      <td>Client Services</td>\n",
       "    </tr>\n",
       "    <tr>\n",
       "      <th>861</th>\n",
       "      <td>Jerry</td>\n",
       "      <td>Male</td>\n",
       "      <td>3/26/1989</td>\n",
       "      <td>4:15 AM</td>\n",
       "      <td>140850</td>\n",
       "      <td>18.855</td>\n",
       "      <td>False</td>\n",
       "      <td>Finance</td>\n",
       "    </tr>\n",
       "    <tr>\n",
       "      <th>922</th>\n",
       "      <td>Arthur</td>\n",
       "      <td>Male</td>\n",
       "      <td>12/5/2013</td>\n",
       "      <td>8:44 AM</td>\n",
       "      <td>86615</td>\n",
       "      <td>3.412</td>\n",
       "      <td>True</td>\n",
       "      <td>Business Development</td>\n",
       "    </tr>\n",
       "    <tr>\n",
       "      <th>983</th>\n",
       "      <td>John</td>\n",
       "      <td>Male</td>\n",
       "      <td>12/23/1982</td>\n",
       "      <td>10:35 PM</td>\n",
       "      <td>146907</td>\n",
       "      <td>11.738</td>\n",
       "      <td>False</td>\n",
       "      <td>Engineering</td>\n",
       "    </tr>\n",
       "  </tbody>\n",
       "</table>\n",
       "</div>"
      ],
      "text/plain": [
       "    First Name  Gender  Start Date Last Login Time  Salary  Bonus %  \\\n",
       "0      Douglas    Male    8/6/1993        12:42 PM   97308    6.945   \n",
       "68        Jose    Male  10/30/2004         1:39 PM   84834   14.330   \n",
       "130    Shirley  Female    5/1/1984         1:15 PM   41334    6.219   \n",
       "197    Carolyn  Female   11/6/2012         3:51 AM   69268    3.031   \n",
       "260     Gloria  Female   3/27/2007         1:44 AM   90730    2.491   \n",
       "326    Jeffrey    Male   6/18/1997         8:01 PM   45150   12.075   \n",
       "391    Marilyn  Female   8/15/1989         9:14 AM  140502    9.989   \n",
       "458     Albert    Male   9/30/2007         5:34 PM  102626   15.843   \n",
       "522  Catherine  Female   8/31/2013         7:24 PM   58047   14.858   \n",
       "584       Jack    Male   5/30/2012         3:17 AM   70367   18.266   \n",
       "653      Debra  Female   5/28/2006         6:51 AM   42296   16.922   \n",
       "725     Jeremy    Male   5/19/1991         1:40 PM  131513    1.876   \n",
       "796  Catherine  Female   8/31/1986         6:20 PM   59970   12.801   \n",
       "861      Jerry    Male   3/26/1989         4:15 AM  140850   18.855   \n",
       "922     Arthur    Male   12/5/2013         8:44 AM   86615    3.412   \n",
       "983       John    Male  12/23/1982        10:35 PM  146907   11.738   \n",
       "\n",
       "    Senior Management                  Team  \n",
       "0                True             Marketing  \n",
       "68               True               Finance  \n",
       "130              True       Human Resources  \n",
       "197             False       Client Services  \n",
       "260             False          Distribution  \n",
       "326              True               Product  \n",
       "391              True                 Sales  \n",
       "458             False               Finance  \n",
       "522              True          Distribution  \n",
       "584              True                 Legal  \n",
       "653             False               Product  \n",
       "725              True               Finance  \n",
       "796             False       Client Services  \n",
       "861             False               Finance  \n",
       "922              True  Business Development  \n",
       "983             False           Engineering  "
      ]
     },
     "execution_count": 33,
     "metadata": {},
     "output_type": "execute_result"
    }
   ],
   "source": [
    "systematic_sample = df_clean.iloc[::50]\n",
    "systematic_sample"
   ]
  },
  {
   "cell_type": "code",
   "execution_count": 9,
   "id": "fb411bc2",
   "metadata": {},
   "outputs": [
    {
     "data": {
      "text/html": [
       "<div>\n",
       "<style scoped>\n",
       "    .dataframe tbody tr th:only-of-type {\n",
       "        vertical-align: middle;\n",
       "    }\n",
       "\n",
       "    .dataframe tbody tr th {\n",
       "        vertical-align: top;\n",
       "    }\n",
       "\n",
       "    .dataframe thead th {\n",
       "        text-align: right;\n",
       "    }\n",
       "</style>\n",
       "<table border=\"1\" class=\"dataframe\">\n",
       "  <thead>\n",
       "    <tr style=\"text-align: right;\">\n",
       "      <th></th>\n",
       "      <th>index</th>\n",
       "      <th>First Name</th>\n",
       "      <th>Gender</th>\n",
       "      <th>Start Date</th>\n",
       "      <th>Last Login Time</th>\n",
       "      <th>Salary</th>\n",
       "      <th>Bonus %</th>\n",
       "      <th>Senior Management</th>\n",
       "      <th>Team</th>\n",
       "    </tr>\n",
       "  </thead>\n",
       "  <tbody>\n",
       "    <tr>\n",
       "      <th>0</th>\n",
       "      <td>0</td>\n",
       "      <td>Douglas</td>\n",
       "      <td>Male</td>\n",
       "      <td>8/6/1993</td>\n",
       "      <td>12:42 PM</td>\n",
       "      <td>97308</td>\n",
       "      <td>6.945</td>\n",
       "      <td>True</td>\n",
       "      <td>Marketing</td>\n",
       "    </tr>\n",
       "    <tr>\n",
       "      <th>50</th>\n",
       "      <td>68</td>\n",
       "      <td>Jose</td>\n",
       "      <td>Male</td>\n",
       "      <td>10/30/2004</td>\n",
       "      <td>1:39 PM</td>\n",
       "      <td>84834</td>\n",
       "      <td>14.330</td>\n",
       "      <td>True</td>\n",
       "      <td>Finance</td>\n",
       "    </tr>\n",
       "    <tr>\n",
       "      <th>100</th>\n",
       "      <td>130</td>\n",
       "      <td>Shirley</td>\n",
       "      <td>Female</td>\n",
       "      <td>5/1/1984</td>\n",
       "      <td>1:15 PM</td>\n",
       "      <td>41334</td>\n",
       "      <td>6.219</td>\n",
       "      <td>True</td>\n",
       "      <td>Human Resources</td>\n",
       "    </tr>\n",
       "    <tr>\n",
       "      <th>150</th>\n",
       "      <td>197</td>\n",
       "      <td>Carolyn</td>\n",
       "      <td>Female</td>\n",
       "      <td>11/6/2012</td>\n",
       "      <td>3:51 AM</td>\n",
       "      <td>69268</td>\n",
       "      <td>3.031</td>\n",
       "      <td>False</td>\n",
       "      <td>Client Services</td>\n",
       "    </tr>\n",
       "    <tr>\n",
       "      <th>200</th>\n",
       "      <td>260</td>\n",
       "      <td>Gloria</td>\n",
       "      <td>Female</td>\n",
       "      <td>3/27/2007</td>\n",
       "      <td>1:44 AM</td>\n",
       "      <td>90730</td>\n",
       "      <td>2.491</td>\n",
       "      <td>False</td>\n",
       "      <td>Distribution</td>\n",
       "    </tr>\n",
       "    <tr>\n",
       "      <th>250</th>\n",
       "      <td>326</td>\n",
       "      <td>Jeffrey</td>\n",
       "      <td>Male</td>\n",
       "      <td>6/18/1997</td>\n",
       "      <td>8:01 PM</td>\n",
       "      <td>45150</td>\n",
       "      <td>12.075</td>\n",
       "      <td>True</td>\n",
       "      <td>Product</td>\n",
       "    </tr>\n",
       "    <tr>\n",
       "      <th>300</th>\n",
       "      <td>391</td>\n",
       "      <td>Marilyn</td>\n",
       "      <td>Female</td>\n",
       "      <td>8/15/1989</td>\n",
       "      <td>9:14 AM</td>\n",
       "      <td>140502</td>\n",
       "      <td>9.989</td>\n",
       "      <td>True</td>\n",
       "      <td>Sales</td>\n",
       "    </tr>\n",
       "    <tr>\n",
       "      <th>350</th>\n",
       "      <td>458</td>\n",
       "      <td>Albert</td>\n",
       "      <td>Male</td>\n",
       "      <td>9/30/2007</td>\n",
       "      <td>5:34 PM</td>\n",
       "      <td>102626</td>\n",
       "      <td>15.843</td>\n",
       "      <td>False</td>\n",
       "      <td>Finance</td>\n",
       "    </tr>\n",
       "    <tr>\n",
       "      <th>400</th>\n",
       "      <td>522</td>\n",
       "      <td>Catherine</td>\n",
       "      <td>Female</td>\n",
       "      <td>8/31/2013</td>\n",
       "      <td>7:24 PM</td>\n",
       "      <td>58047</td>\n",
       "      <td>14.858</td>\n",
       "      <td>True</td>\n",
       "      <td>Distribution</td>\n",
       "    </tr>\n",
       "    <tr>\n",
       "      <th>450</th>\n",
       "      <td>584</td>\n",
       "      <td>Jack</td>\n",
       "      <td>Male</td>\n",
       "      <td>5/30/2012</td>\n",
       "      <td>3:17 AM</td>\n",
       "      <td>70367</td>\n",
       "      <td>18.266</td>\n",
       "      <td>True</td>\n",
       "      <td>Legal</td>\n",
       "    </tr>\n",
       "    <tr>\n",
       "      <th>500</th>\n",
       "      <td>653</td>\n",
       "      <td>Debra</td>\n",
       "      <td>Female</td>\n",
       "      <td>5/28/2006</td>\n",
       "      <td>6:51 AM</td>\n",
       "      <td>42296</td>\n",
       "      <td>16.922</td>\n",
       "      <td>False</td>\n",
       "      <td>Product</td>\n",
       "    </tr>\n",
       "    <tr>\n",
       "      <th>550</th>\n",
       "      <td>725</td>\n",
       "      <td>Jeremy</td>\n",
       "      <td>Male</td>\n",
       "      <td>5/19/1991</td>\n",
       "      <td>1:40 PM</td>\n",
       "      <td>131513</td>\n",
       "      <td>1.876</td>\n",
       "      <td>True</td>\n",
       "      <td>Finance</td>\n",
       "    </tr>\n",
       "    <tr>\n",
       "      <th>600</th>\n",
       "      <td>796</td>\n",
       "      <td>Catherine</td>\n",
       "      <td>Female</td>\n",
       "      <td>8/31/1986</td>\n",
       "      <td>6:20 PM</td>\n",
       "      <td>59970</td>\n",
       "      <td>12.801</td>\n",
       "      <td>False</td>\n",
       "      <td>Client Services</td>\n",
       "    </tr>\n",
       "    <tr>\n",
       "      <th>650</th>\n",
       "      <td>861</td>\n",
       "      <td>Jerry</td>\n",
       "      <td>Male</td>\n",
       "      <td>3/26/1989</td>\n",
       "      <td>4:15 AM</td>\n",
       "      <td>140850</td>\n",
       "      <td>18.855</td>\n",
       "      <td>False</td>\n",
       "      <td>Finance</td>\n",
       "    </tr>\n",
       "    <tr>\n",
       "      <th>700</th>\n",
       "      <td>922</td>\n",
       "      <td>Arthur</td>\n",
       "      <td>Male</td>\n",
       "      <td>12/5/2013</td>\n",
       "      <td>8:44 AM</td>\n",
       "      <td>86615</td>\n",
       "      <td>3.412</td>\n",
       "      <td>True</td>\n",
       "      <td>Business Development</td>\n",
       "    </tr>\n",
       "    <tr>\n",
       "      <th>750</th>\n",
       "      <td>983</td>\n",
       "      <td>John</td>\n",
       "      <td>Male</td>\n",
       "      <td>12/23/1982</td>\n",
       "      <td>10:35 PM</td>\n",
       "      <td>146907</td>\n",
       "      <td>11.738</td>\n",
       "      <td>False</td>\n",
       "      <td>Engineering</td>\n",
       "    </tr>\n",
       "  </tbody>\n",
       "</table>\n",
       "</div>"
      ],
      "text/plain": [
       "     index First Name  Gender  Start Date Last Login Time  Salary  Bonus %  \\\n",
       "0        0    Douglas    Male    8/6/1993        12:42 PM   97308    6.945   \n",
       "50      68       Jose    Male  10/30/2004         1:39 PM   84834   14.330   \n",
       "100    130    Shirley  Female    5/1/1984         1:15 PM   41334    6.219   \n",
       "150    197    Carolyn  Female   11/6/2012         3:51 AM   69268    3.031   \n",
       "200    260     Gloria  Female   3/27/2007         1:44 AM   90730    2.491   \n",
       "250    326    Jeffrey    Male   6/18/1997         8:01 PM   45150   12.075   \n",
       "300    391    Marilyn  Female   8/15/1989         9:14 AM  140502    9.989   \n",
       "350    458     Albert    Male   9/30/2007         5:34 PM  102626   15.843   \n",
       "400    522  Catherine  Female   8/31/2013         7:24 PM   58047   14.858   \n",
       "450    584       Jack    Male   5/30/2012         3:17 AM   70367   18.266   \n",
       "500    653      Debra  Female   5/28/2006         6:51 AM   42296   16.922   \n",
       "550    725     Jeremy    Male   5/19/1991         1:40 PM  131513    1.876   \n",
       "600    796  Catherine  Female   8/31/1986         6:20 PM   59970   12.801   \n",
       "650    861      Jerry    Male   3/26/1989         4:15 AM  140850   18.855   \n",
       "700    922     Arthur    Male   12/5/2013         8:44 AM   86615    3.412   \n",
       "750    983       John    Male  12/23/1982        10:35 PM  146907   11.738   \n",
       "\n",
       "    Senior Management                  Team  \n",
       "0                True             Marketing  \n",
       "50               True               Finance  \n",
       "100              True       Human Resources  \n",
       "150             False       Client Services  \n",
       "200             False          Distribution  \n",
       "250              True               Product  \n",
       "300              True                 Sales  \n",
       "350             False               Finance  \n",
       "400              True          Distribution  \n",
       "450              True                 Legal  \n",
       "500             False               Product  \n",
       "550              True               Finance  \n",
       "600             False       Client Services  \n",
       "650             False               Finance  \n",
       "700              True  Business Development  \n",
       "750             False           Engineering  "
      ]
     },
     "execution_count": 9,
     "metadata": {},
     "output_type": "execute_result"
    }
   ],
   "source": []
  },
  {
   "cell_type": "code",
   "execution_count": null,
   "id": "9a90e679-41b9-4f67-9644-577f7a6e2c87",
   "metadata": {},
   "outputs": [],
   "source": []
  },
  {
   "cell_type": "code",
   "execution_count": 34,
   "id": "35e5aec6-f294-4020-bcaf-7feeaef1031b",
   "metadata": {},
   "outputs": [
    {
     "data": {
      "text/html": [
       "<div>\n",
       "<style scoped>\n",
       "    .dataframe tbody tr th:only-of-type {\n",
       "        vertical-align: middle;\n",
       "    }\n",
       "\n",
       "    .dataframe tbody tr th {\n",
       "        vertical-align: top;\n",
       "    }\n",
       "\n",
       "    .dataframe thead th {\n",
       "        text-align: right;\n",
       "    }\n",
       "</style>\n",
       "<table border=\"1\" class=\"dataframe\">\n",
       "  <thead>\n",
       "    <tr style=\"text-align: right;\">\n",
       "      <th></th>\n",
       "      <th>First Name</th>\n",
       "      <th>Gender</th>\n",
       "      <th>Start Date</th>\n",
       "      <th>Last Login Time</th>\n",
       "      <th>Salary</th>\n",
       "      <th>Bonus %</th>\n",
       "      <th>Senior Management</th>\n",
       "      <th>Team</th>\n",
       "    </tr>\n",
       "  </thead>\n",
       "  <tbody>\n",
       "    <tr>\n",
       "      <th>0</th>\n",
       "      <td>Douglas</td>\n",
       "      <td>Male</td>\n",
       "      <td>8/6/1993</td>\n",
       "      <td>12:42 PM</td>\n",
       "      <td>97308</td>\n",
       "      <td>6.945</td>\n",
       "      <td>True</td>\n",
       "      <td>Marketing</td>\n",
       "    </tr>\n",
       "    <tr>\n",
       "      <th>130</th>\n",
       "      <td>Shirley</td>\n",
       "      <td>Female</td>\n",
       "      <td>5/1/1984</td>\n",
       "      <td>1:15 PM</td>\n",
       "      <td>41334</td>\n",
       "      <td>6.219</td>\n",
       "      <td>True</td>\n",
       "      <td>Human Resources</td>\n",
       "    </tr>\n",
       "    <tr>\n",
       "      <th>260</th>\n",
       "      <td>Gloria</td>\n",
       "      <td>Female</td>\n",
       "      <td>3/27/2007</td>\n",
       "      <td>1:44 AM</td>\n",
       "      <td>90730</td>\n",
       "      <td>2.491</td>\n",
       "      <td>False</td>\n",
       "      <td>Distribution</td>\n",
       "    </tr>\n",
       "    <tr>\n",
       "      <th>391</th>\n",
       "      <td>Marilyn</td>\n",
       "      <td>Female</td>\n",
       "      <td>8/15/1989</td>\n",
       "      <td>9:14 AM</td>\n",
       "      <td>140502</td>\n",
       "      <td>9.989</td>\n",
       "      <td>True</td>\n",
       "      <td>Sales</td>\n",
       "    </tr>\n",
       "    <tr>\n",
       "      <th>522</th>\n",
       "      <td>Catherine</td>\n",
       "      <td>Female</td>\n",
       "      <td>8/31/2013</td>\n",
       "      <td>7:24 PM</td>\n",
       "      <td>58047</td>\n",
       "      <td>14.858</td>\n",
       "      <td>True</td>\n",
       "      <td>Distribution</td>\n",
       "    </tr>\n",
       "    <tr>\n",
       "      <th>653</th>\n",
       "      <td>Debra</td>\n",
       "      <td>Female</td>\n",
       "      <td>5/28/2006</td>\n",
       "      <td>6:51 AM</td>\n",
       "      <td>42296</td>\n",
       "      <td>16.922</td>\n",
       "      <td>False</td>\n",
       "      <td>Product</td>\n",
       "    </tr>\n",
       "    <tr>\n",
       "      <th>796</th>\n",
       "      <td>Catherine</td>\n",
       "      <td>Female</td>\n",
       "      <td>8/31/1986</td>\n",
       "      <td>6:20 PM</td>\n",
       "      <td>59970</td>\n",
       "      <td>12.801</td>\n",
       "      <td>False</td>\n",
       "      <td>Client Services</td>\n",
       "    </tr>\n",
       "    <tr>\n",
       "      <th>922</th>\n",
       "      <td>Arthur</td>\n",
       "      <td>Male</td>\n",
       "      <td>12/5/2013</td>\n",
       "      <td>8:44 AM</td>\n",
       "      <td>86615</td>\n",
       "      <td>3.412</td>\n",
       "      <td>True</td>\n",
       "      <td>Business Development</td>\n",
       "    </tr>\n",
       "  </tbody>\n",
       "</table>\n",
       "</div>"
      ],
      "text/plain": [
       "    First Name  Gender Start Date Last Login Time  Salary  Bonus %  \\\n",
       "0      Douglas    Male   8/6/1993        12:42 PM   97308    6.945   \n",
       "130    Shirley  Female   5/1/1984         1:15 PM   41334    6.219   \n",
       "260     Gloria  Female  3/27/2007         1:44 AM   90730    2.491   \n",
       "391    Marilyn  Female  8/15/1989         9:14 AM  140502    9.989   \n",
       "522  Catherine  Female  8/31/2013         7:24 PM   58047   14.858   \n",
       "653      Debra  Female  5/28/2006         6:51 AM   42296   16.922   \n",
       "796  Catherine  Female  8/31/1986         6:20 PM   59970   12.801   \n",
       "922     Arthur    Male  12/5/2013         8:44 AM   86615    3.412   \n",
       "\n",
       "    Senior Management                  Team  \n",
       "0                True             Marketing  \n",
       "130              True       Human Resources  \n",
       "260             False          Distribution  \n",
       "391              True                 Sales  \n",
       "522              True          Distribution  \n",
       "653             False               Product  \n",
       "796             False       Client Services  \n",
       "922              True  Business Development  "
      ]
     },
     "execution_count": 34,
     "metadata": {},
     "output_type": "execute_result"
    }
   ],
   "source": [
    "systematic_sample = df_clean.iloc[::100]\n",
    "systematic_sample"
   ]
  },
  {
   "cell_type": "code",
   "execution_count": 10,
   "id": "b12221ae",
   "metadata": {},
   "outputs": [
    {
     "data": {
      "text/html": [
       "<div>\n",
       "<style scoped>\n",
       "    .dataframe tbody tr th:only-of-type {\n",
       "        vertical-align: middle;\n",
       "    }\n",
       "\n",
       "    .dataframe tbody tr th {\n",
       "        vertical-align: top;\n",
       "    }\n",
       "\n",
       "    .dataframe thead th {\n",
       "        text-align: right;\n",
       "    }\n",
       "</style>\n",
       "<table border=\"1\" class=\"dataframe\">\n",
       "  <thead>\n",
       "    <tr style=\"text-align: right;\">\n",
       "      <th></th>\n",
       "      <th>index</th>\n",
       "      <th>First Name</th>\n",
       "      <th>Gender</th>\n",
       "      <th>Start Date</th>\n",
       "      <th>Last Login Time</th>\n",
       "      <th>Salary</th>\n",
       "      <th>Bonus %</th>\n",
       "      <th>Senior Management</th>\n",
       "      <th>Team</th>\n",
       "    </tr>\n",
       "  </thead>\n",
       "  <tbody>\n",
       "    <tr>\n",
       "      <th>0</th>\n",
       "      <td>0</td>\n",
       "      <td>Douglas</td>\n",
       "      <td>Male</td>\n",
       "      <td>8/6/1993</td>\n",
       "      <td>12:42 PM</td>\n",
       "      <td>97308</td>\n",
       "      <td>6.945</td>\n",
       "      <td>True</td>\n",
       "      <td>Marketing</td>\n",
       "    </tr>\n",
       "    <tr>\n",
       "      <th>100</th>\n",
       "      <td>130</td>\n",
       "      <td>Shirley</td>\n",
       "      <td>Female</td>\n",
       "      <td>5/1/1984</td>\n",
       "      <td>1:15 PM</td>\n",
       "      <td>41334</td>\n",
       "      <td>6.219</td>\n",
       "      <td>True</td>\n",
       "      <td>Human Resources</td>\n",
       "    </tr>\n",
       "    <tr>\n",
       "      <th>200</th>\n",
       "      <td>260</td>\n",
       "      <td>Gloria</td>\n",
       "      <td>Female</td>\n",
       "      <td>3/27/2007</td>\n",
       "      <td>1:44 AM</td>\n",
       "      <td>90730</td>\n",
       "      <td>2.491</td>\n",
       "      <td>False</td>\n",
       "      <td>Distribution</td>\n",
       "    </tr>\n",
       "    <tr>\n",
       "      <th>300</th>\n",
       "      <td>391</td>\n",
       "      <td>Marilyn</td>\n",
       "      <td>Female</td>\n",
       "      <td>8/15/1989</td>\n",
       "      <td>9:14 AM</td>\n",
       "      <td>140502</td>\n",
       "      <td>9.989</td>\n",
       "      <td>True</td>\n",
       "      <td>Sales</td>\n",
       "    </tr>\n",
       "    <tr>\n",
       "      <th>400</th>\n",
       "      <td>522</td>\n",
       "      <td>Catherine</td>\n",
       "      <td>Female</td>\n",
       "      <td>8/31/2013</td>\n",
       "      <td>7:24 PM</td>\n",
       "      <td>58047</td>\n",
       "      <td>14.858</td>\n",
       "      <td>True</td>\n",
       "      <td>Distribution</td>\n",
       "    </tr>\n",
       "    <tr>\n",
       "      <th>500</th>\n",
       "      <td>653</td>\n",
       "      <td>Debra</td>\n",
       "      <td>Female</td>\n",
       "      <td>5/28/2006</td>\n",
       "      <td>6:51 AM</td>\n",
       "      <td>42296</td>\n",
       "      <td>16.922</td>\n",
       "      <td>False</td>\n",
       "      <td>Product</td>\n",
       "    </tr>\n",
       "    <tr>\n",
       "      <th>600</th>\n",
       "      <td>796</td>\n",
       "      <td>Catherine</td>\n",
       "      <td>Female</td>\n",
       "      <td>8/31/1986</td>\n",
       "      <td>6:20 PM</td>\n",
       "      <td>59970</td>\n",
       "      <td>12.801</td>\n",
       "      <td>False</td>\n",
       "      <td>Client Services</td>\n",
       "    </tr>\n",
       "    <tr>\n",
       "      <th>700</th>\n",
       "      <td>922</td>\n",
       "      <td>Arthur</td>\n",
       "      <td>Male</td>\n",
       "      <td>12/5/2013</td>\n",
       "      <td>8:44 AM</td>\n",
       "      <td>86615</td>\n",
       "      <td>3.412</td>\n",
       "      <td>True</td>\n",
       "      <td>Business Development</td>\n",
       "    </tr>\n",
       "  </tbody>\n",
       "</table>\n",
       "</div>"
      ],
      "text/plain": [
       "     index First Name  Gender Start Date Last Login Time  Salary  Bonus %  \\\n",
       "0        0    Douglas    Male   8/6/1993        12:42 PM   97308    6.945   \n",
       "100    130    Shirley  Female   5/1/1984         1:15 PM   41334    6.219   \n",
       "200    260     Gloria  Female  3/27/2007         1:44 AM   90730    2.491   \n",
       "300    391    Marilyn  Female  8/15/1989         9:14 AM  140502    9.989   \n",
       "400    522  Catherine  Female  8/31/2013         7:24 PM   58047   14.858   \n",
       "500    653      Debra  Female  5/28/2006         6:51 AM   42296   16.922   \n",
       "600    796  Catherine  Female  8/31/1986         6:20 PM   59970   12.801   \n",
       "700    922     Arthur    Male  12/5/2013         8:44 AM   86615    3.412   \n",
       "\n",
       "    Senior Management                  Team  \n",
       "0                True             Marketing  \n",
       "100              True       Human Resources  \n",
       "200             False          Distribution  \n",
       "300              True                 Sales  \n",
       "400              True          Distribution  \n",
       "500             False               Product  \n",
       "600             False       Client Services  \n",
       "700              True  Business Development  "
      ]
     },
     "execution_count": 10,
     "metadata": {},
     "output_type": "execute_result"
    }
   ],
   "source": []
  },
  {
   "cell_type": "markdown",
   "id": "af1a3ba5",
   "metadata": {},
   "source": [
    "## Stratified Sampling\n",
    "#### Perform a countplot and pieplot for Gender column.\n",
    "#### Select 20% startified sample from data based on Gender.\n",
    "#### Perform a countplot and pieplot for Gender column for the data sample."
   ]
  },
  {
   "cell_type": "code",
   "execution_count": 45,
   "id": "276812d8-a61f-42d6-b441-21da0c252827",
   "metadata": {},
   "outputs": [
    {
     "name": "stdout",
     "output_type": "stream",
     "text": [
      "Collecting scikit-learnNote: you may need to restart the kernel to use updated packages.\n"
     ]
    },
    {
     "name": "stderr",
     "output_type": "stream",
     "text": [
      "\n",
      "[notice] A new release of pip available: 22.3.1 -> 23.3.1\n",
      "[notice] To update, run: C:\\Users\\HP\\AppData\\Local\\Programs\\Python\\Python311\\python.exe -m pip install --upgrade pip\n"
     ]
    },
    {
     "name": "stdout",
     "output_type": "stream",
     "text": [
      "\n",
      "  Downloading scikit_learn-1.3.2-cp311-cp311-win_amd64.whl (9.2 MB)\n",
      "     ---------------------------------------- 9.2/9.2 MB 2.0 MB/s eta 0:00:00\n",
      "Requirement already satisfied: numpy<2.0,>=1.17.3 in c:\\users\\hp\\appdata\\local\\programs\\python\\python311\\lib\\site-packages (from scikit-learn) (1.26.2)\n",
      "Requirement already satisfied: scipy>=1.5.0 in c:\\users\\hp\\appdata\\local\\programs\\python\\python311\\lib\\site-packages (from scikit-learn) (1.11.4)\n",
      "Collecting joblib>=1.1.1\n",
      "  Downloading joblib-1.3.2-py3-none-any.whl (302 kB)\n",
      "     ------------------------------------ 302.2/302.2 kB 666.6 kB/s eta 0:00:00\n",
      "Collecting threadpoolctl>=2.0.0\n",
      "  Downloading threadpoolctl-3.2.0-py3-none-any.whl (15 kB)\n",
      "Installing collected packages: threadpoolctl, joblib, scikit-learn\n",
      "Successfully installed joblib-1.3.2 scikit-learn-1.3.2 threadpoolctl-3.2.0\n"
     ]
    }
   ],
   "source": [
    "pip install scikit-learn"
   ]
  },
  {
   "cell_type": "code",
   "execution_count": 46,
   "id": "783e7b59-1b64-4d96-9a79-46549134ecf3",
   "metadata": {},
   "outputs": [],
   "source": [
    "\n",
    "from sklearn.model_selection import train_test_split"
   ]
  },
  {
   "cell_type": "code",
   "execution_count": 36,
   "id": "e141fc37-5f0b-475f-be4e-c949130ff3ce",
   "metadata": {},
   "outputs": [
    {
     "data": {
      "text/html": [
       "<div>\n",
       "<style scoped>\n",
       "    .dataframe tbody tr th:only-of-type {\n",
       "        vertical-align: middle;\n",
       "    }\n",
       "\n",
       "    .dataframe tbody tr th {\n",
       "        vertical-align: top;\n",
       "    }\n",
       "\n",
       "    .dataframe thead th {\n",
       "        text-align: right;\n",
       "    }\n",
       "</style>\n",
       "<table border=\"1\" class=\"dataframe\">\n",
       "  <thead>\n",
       "    <tr style=\"text-align: right;\">\n",
       "      <th></th>\n",
       "      <th>First Name</th>\n",
       "      <th>Gender</th>\n",
       "      <th>Start Date</th>\n",
       "      <th>Last Login Time</th>\n",
       "      <th>Salary</th>\n",
       "      <th>Bonus %</th>\n",
       "      <th>Senior Management</th>\n",
       "      <th>Team</th>\n",
       "    </tr>\n",
       "  </thead>\n",
       "  <tbody>\n",
       "    <tr>\n",
       "      <th>0</th>\n",
       "      <td>Douglas</td>\n",
       "      <td>Male</td>\n",
       "      <td>8/6/1993</td>\n",
       "      <td>12:42 PM</td>\n",
       "      <td>97308</td>\n",
       "      <td>6.945</td>\n",
       "      <td>True</td>\n",
       "      <td>Marketing</td>\n",
       "    </tr>\n",
       "    <tr>\n",
       "      <th>2</th>\n",
       "      <td>Maria</td>\n",
       "      <td>Female</td>\n",
       "      <td>4/23/1993</td>\n",
       "      <td>11:17 AM</td>\n",
       "      <td>130590</td>\n",
       "      <td>11.858</td>\n",
       "      <td>False</td>\n",
       "      <td>Finance</td>\n",
       "    </tr>\n",
       "    <tr>\n",
       "      <th>3</th>\n",
       "      <td>Jerry</td>\n",
       "      <td>Male</td>\n",
       "      <td>3/4/2005</td>\n",
       "      <td>1:00 PM</td>\n",
       "      <td>138705</td>\n",
       "      <td>9.340</td>\n",
       "      <td>True</td>\n",
       "      <td>Finance</td>\n",
       "    </tr>\n",
       "    <tr>\n",
       "      <th>4</th>\n",
       "      <td>Larry</td>\n",
       "      <td>Male</td>\n",
       "      <td>1/24/1998</td>\n",
       "      <td>4:47 PM</td>\n",
       "      <td>101004</td>\n",
       "      <td>1.389</td>\n",
       "      <td>True</td>\n",
       "      <td>Client Services</td>\n",
       "    </tr>\n",
       "    <tr>\n",
       "      <th>5</th>\n",
       "      <td>Dennis</td>\n",
       "      <td>Male</td>\n",
       "      <td>4/18/1987</td>\n",
       "      <td>1:35 AM</td>\n",
       "      <td>115163</td>\n",
       "      <td>10.125</td>\n",
       "      <td>False</td>\n",
       "      <td>Legal</td>\n",
       "    </tr>\n",
       "  </tbody>\n",
       "</table>\n",
       "</div>"
      ],
      "text/plain": [
       "  First Name  Gender Start Date Last Login Time  Salary  Bonus %  \\\n",
       "0    Douglas    Male   8/6/1993        12:42 PM   97308    6.945   \n",
       "2      Maria  Female  4/23/1993        11:17 AM  130590   11.858   \n",
       "3      Jerry    Male   3/4/2005         1:00 PM  138705    9.340   \n",
       "4      Larry    Male  1/24/1998         4:47 PM  101004    1.389   \n",
       "5     Dennis    Male  4/18/1987         1:35 AM  115163   10.125   \n",
       "\n",
       "  Senior Management             Team  \n",
       "0              True        Marketing  \n",
       "2             False          Finance  \n",
       "3              True          Finance  \n",
       "4              True  Client Services  \n",
       "5             False            Legal  "
      ]
     },
     "execution_count": 36,
     "metadata": {},
     "output_type": "execute_result"
    }
   ],
   "source": [
    "df_clean.head()"
   ]
  },
  {
   "cell_type": "code",
   "execution_count": 11,
   "id": "64575d7e",
   "metadata": {},
   "outputs": [
    {
     "data": {
      "text/html": [
       "<div>\n",
       "<style scoped>\n",
       "    .dataframe tbody tr th:only-of-type {\n",
       "        vertical-align: middle;\n",
       "    }\n",
       "\n",
       "    .dataframe tbody tr th {\n",
       "        vertical-align: top;\n",
       "    }\n",
       "\n",
       "    .dataframe thead th {\n",
       "        text-align: right;\n",
       "    }\n",
       "</style>\n",
       "<table border=\"1\" class=\"dataframe\">\n",
       "  <thead>\n",
       "    <tr style=\"text-align: right;\">\n",
       "      <th></th>\n",
       "      <th>index</th>\n",
       "      <th>First Name</th>\n",
       "      <th>Gender</th>\n",
       "      <th>Start Date</th>\n",
       "      <th>Last Login Time</th>\n",
       "      <th>Salary</th>\n",
       "      <th>Bonus %</th>\n",
       "      <th>Senior Management</th>\n",
       "      <th>Team</th>\n",
       "    </tr>\n",
       "  </thead>\n",
       "  <tbody>\n",
       "    <tr>\n",
       "      <th>0</th>\n",
       "      <td>0</td>\n",
       "      <td>Douglas</td>\n",
       "      <td>Male</td>\n",
       "      <td>8/6/1993</td>\n",
       "      <td>12:42 PM</td>\n",
       "      <td>97308</td>\n",
       "      <td>6.945</td>\n",
       "      <td>True</td>\n",
       "      <td>Marketing</td>\n",
       "    </tr>\n",
       "    <tr>\n",
       "      <th>1</th>\n",
       "      <td>2</td>\n",
       "      <td>Maria</td>\n",
       "      <td>Female</td>\n",
       "      <td>4/23/1993</td>\n",
       "      <td>11:17 AM</td>\n",
       "      <td>130590</td>\n",
       "      <td>11.858</td>\n",
       "      <td>False</td>\n",
       "      <td>Finance</td>\n",
       "    </tr>\n",
       "    <tr>\n",
       "      <th>2</th>\n",
       "      <td>3</td>\n",
       "      <td>Jerry</td>\n",
       "      <td>Male</td>\n",
       "      <td>3/4/2005</td>\n",
       "      <td>1:00 PM</td>\n",
       "      <td>138705</td>\n",
       "      <td>9.340</td>\n",
       "      <td>True</td>\n",
       "      <td>Finance</td>\n",
       "    </tr>\n",
       "    <tr>\n",
       "      <th>3</th>\n",
       "      <td>4</td>\n",
       "      <td>Larry</td>\n",
       "      <td>Male</td>\n",
       "      <td>1/24/1998</td>\n",
       "      <td>4:47 PM</td>\n",
       "      <td>101004</td>\n",
       "      <td>1.389</td>\n",
       "      <td>True</td>\n",
       "      <td>Client Services</td>\n",
       "    </tr>\n",
       "    <tr>\n",
       "      <th>4</th>\n",
       "      <td>5</td>\n",
       "      <td>Dennis</td>\n",
       "      <td>Male</td>\n",
       "      <td>4/18/1987</td>\n",
       "      <td>1:35 AM</td>\n",
       "      <td>115163</td>\n",
       "      <td>10.125</td>\n",
       "      <td>False</td>\n",
       "      <td>Legal</td>\n",
       "    </tr>\n",
       "  </tbody>\n",
       "</table>\n",
       "</div>"
      ],
      "text/plain": [
       "   index First Name  Gender Start Date Last Login Time  Salary  Bonus %  \\\n",
       "0      0    Douglas    Male   8/6/1993        12:42 PM   97308    6.945   \n",
       "1      2      Maria  Female  4/23/1993        11:17 AM  130590   11.858   \n",
       "2      3      Jerry    Male   3/4/2005         1:00 PM  138705    9.340   \n",
       "3      4      Larry    Male  1/24/1998         4:47 PM  101004    1.389   \n",
       "4      5     Dennis    Male  4/18/1987         1:35 AM  115163   10.125   \n",
       "\n",
       "  Senior Management             Team  \n",
       "0              True        Marketing  \n",
       "1             False          Finance  \n",
       "2              True          Finance  \n",
       "3              True  Client Services  \n",
       "4             False            Legal  "
      ]
     },
     "execution_count": 11,
     "metadata": {},
     "output_type": "execute_result"
    }
   ],
   "source": []
  },
  {
   "cell_type": "code",
   "execution_count": null,
   "id": "6fdfe204-20dd-4b21-b8e6-8ba98329c3a3",
   "metadata": {},
   "outputs": [],
   "source": []
  },
  {
   "cell_type": "code",
   "execution_count": 37,
   "id": "adc01f53-5006-4bc5-976e-e0206b7bdc2d",
   "metadata": {},
   "outputs": [
    {
     "data": {
      "text/plain": [
       "<Axes: xlabel='Gender', ylabel='count'>"
      ]
     },
     "execution_count": 37,
     "metadata": {},
     "output_type": "execute_result"
    },
    {
     "data": {
      "image/png": "[encoded data removed]",
      "text/plain": [
       "<Figure size 640x480 with 1 Axes>"
      ]
     },
     "metadata": {},
     "output_type": "display_data"
    }
   ],
   "source": [
    "sns.countplot(x='Gender', data=df_clean,hue='Gender')"
   ]
  },
  {
   "cell_type": "code",
   "execution_count": 24,
   "id": "3347be0e-237f-4bb1-aa90-10666e8582fa",
   "metadata": {},
   "outputs": [
    {
     "data": {
      "text/plain": [
       "<Axes: xlabel='Gender', ylabel='count'>"
      ]
     },
     "execution_count": 24,
     "metadata": {},
     "output_type": "execute_result"
    },
    {
     "data": {
      "image/png": "[encoded data removed]",
      "text/plain": [
       "<Figure size 640x480 with 1 Axes>"
      ]
     },
     "metadata": {},
     "output_type": "display_data"
    }
   ],
   "source": [
    "sns.countplot(x='Gender', data=df_clean,hue='Gender')"
   ]
  },
  {
   "cell_type": "code",
   "execution_count": null,
   "id": "dd2803d3-6b95-4f4d-962d-454ac5cf0ff3",
   "metadata": {},
   "outputs": [],
   "source": []
  },
  {
   "cell_type": "code",
   "execution_count": 12,
   "id": "503c5b39",
   "metadata": {},
   "outputs": [
    {
     "data": {
      "text/plain": [
       "<AxesSubplot:xlabel='Gender', ylabel='count'>"
      ]
     },
     "execution_count": 12,
     "metadata": {},
     "output_type": "execute_result"
    },
    {
     "data": {
      "image/png": "[encoded data removed]",
      "text/plain": [
       "<Figure size 1080x504 with 1 Axes>"
      ]
     },
     "metadata": {
      "needs_background": "light"
     },
     "output_type": "display_data"
    }
   ],
   "source": []
  },
  {
   "cell_type": "code",
   "execution_count": 38,
   "id": "fa04b66f-06f8-4d5d-9bec-317860da42c0",
   "metadata": {},
   "outputs": [
    {
     "data": {
      "text/plain": [
       "Gender\n",
       "Female    393\n",
       "Male      371\n",
       "Name: count, dtype: int64"
      ]
     },
     "execution_count": 38,
     "metadata": {},
     "output_type": "execute_result"
    }
   ],
   "source": [
    "df_clean['Gender'].value_counts()"
   ]
  },
  {
   "cell_type": "code",
   "execution_count": null,
   "id": "ad429204-2453-47cf-9e7d-16597ec5f8c1",
   "metadata": {},
   "outputs": [],
   "source": []
  },
  {
   "cell_type": "code",
   "execution_count": 29,
   "id": "28b415f5-969f-4f40-9e31-fa0baa68f5f3",
   "metadata": {},
   "outputs": [
    {
     "data": {
      "text/plain": [
       "Gender\n",
       "Female    393\n",
       "Male      371\n",
       "Name: count, dtype: int64"
      ]
     },
     "execution_count": 29,
     "metadata": {},
     "output_type": "execute_result"
    }
   ],
   "source": [
    "df_clean['Gender'].value_counts()"
   ]
  },
  {
   "cell_type": "code",
   "execution_count": 13,
   "id": "923528b4",
   "metadata": {},
   "outputs": [
    {
     "data": {
      "text/html": [
       "<div>\n",
       "<style scoped>\n",
       "    .dataframe tbody tr th:only-of-type {\n",
       "        vertical-align: middle;\n",
       "    }\n",
       "\n",
       "    .dataframe tbody tr th {\n",
       "        vertical-align: top;\n",
       "    }\n",
       "\n",
       "    .dataframe thead th {\n",
       "        text-align: right;\n",
       "    }\n",
       "</style>\n",
       "<table border=\"1\" class=\"dataframe\">\n",
       "  <thead>\n",
       "    <tr style=\"text-align: right;\">\n",
       "      <th></th>\n",
       "      <th>Gender</th>\n",
       "    </tr>\n",
       "  </thead>\n",
       "  <tbody>\n",
       "    <tr>\n",
       "      <th>Female</th>\n",
       "      <td>393</td>\n",
       "    </tr>\n",
       "    <tr>\n",
       "      <th>Male</th>\n",
       "      <td>371</td>\n",
       "    </tr>\n",
       "  </tbody>\n",
       "</table>\n",
       "</div>"
      ],
      "text/plain": [
       "        Gender\n",
       "Female     393\n",
       "Male       371"
      ]
     },
     "execution_count": 13,
     "metadata": {},
     "output_type": "execute_result"
    }
   ],
   "source": []
  },
  {
   "cell_type": "code",
   "execution_count": 41,
   "id": "01001752-8594-413e-8861-8c6c1910e705",
   "metadata": {},
   "outputs": [
    {
     "data": {
      "text/plain": [
       "<Axes: ylabel='count'>"
      ]
     },
     "execution_count": 41,
     "metadata": {},
     "output_type": "execute_result"
    },
    {
     "data": {
      "image/png": "[encoded data removed]",
      "text/plain": [
       "<Figure size 640x480 with 1 Axes>"
      ]
     },
     "metadata": {},
     "output_type": "display_data"
    }
   ],
   "source": [
    "df['Gender'].value_counts().plot.pie(autopct='%1.1f%%')"
   ]
  },
  {
   "cell_type": "code",
   "execution_count": null,
   "id": "d52f56db-b027-4f03-bc9a-edcfe4bd1ffe",
   "metadata": {},
   "outputs": [],
   "source": []
  },
  {
   "cell_type": "code",
   "execution_count": null,
   "id": "da407798-e3d2-4401-b8b9-f53066f7a2a2",
   "metadata": {},
   "outputs": [],
   "source": [
    "df['Gender'].value_counts().plot.pie(autopct='%1.1f%%', startangle=90)"
   ]
  },
  {
   "cell_type": "code",
   "execution_count": 14,
   "id": "1553da7e",
   "metadata": {},
   "outputs": [
    {
     "data": {
      "text/plain": [
       "<AxesSubplot:ylabel='Gender'>"
      ]
     },
     "execution_count": 14,
     "metadata": {},
     "output_type": "execute_result"
    },
    {
     "data": {
      "image/png": "[encoded data removed]",
      "text/plain": [
       "<Figure size 720x720 with 1 Axes>"
      ]
     },
     "metadata": {},
     "output_type": "display_data"
    }
   ],
   "source": []
  },
  {
   "cell_type": "code",
   "execution_count": 47,
   "id": "236641ef-2358-4d01-9ceb-b97f72917822",
   "metadata": {},
   "outputs": [],
   "source": [
    "x=df_clean.drop(columns=['Gender'])\n",
    "y=df_clean['Gender']"
   ]
  },
  {
   "cell_type": "code",
   "execution_count": 50,
   "id": "49bfd936-a396-4bef-9ff1-6d8e19011ef1",
   "metadata": {},
   "outputs": [],
   "source": [
    "x1, x2,y1,y2 = train_test_split(x,y, test_size=0.2, stratify=y)\n"
   ]
  },
  {
   "cell_type": "code",
   "execution_count": 53,
   "id": "339ac05e-2a5d-4db9-8503-f7d7136d2070",
   "metadata": {},
   "outputs": [],
   "source": [
    "strat_data = pd.concat([x1, pd.DataFrame({'Gender': y1})], axis=1)"
   ]
  },
  {
   "cell_type": "code",
   "execution_count": 54,
   "id": "4740b977-42cf-437e-bc5f-fdb5254815f1",
   "metadata": {},
   "outputs": [
    {
     "data": {
      "text/html": [
       "<div>\n",
       "<style scoped>\n",
       "    .dataframe tbody tr th:only-of-type {\n",
       "        vertical-align: middle;\n",
       "    }\n",
       "\n",
       "    .dataframe tbody tr th {\n",
       "        vertical-align: top;\n",
       "    }\n",
       "\n",
       "    .dataframe thead th {\n",
       "        text-align: right;\n",
       "    }\n",
       "</style>\n",
       "<table border=\"1\" class=\"dataframe\">\n",
       "  <thead>\n",
       "    <tr style=\"text-align: right;\">\n",
       "      <th></th>\n",
       "      <th>First Name</th>\n",
       "      <th>Start Date</th>\n",
       "      <th>Last Login Time</th>\n",
       "      <th>Salary</th>\n",
       "      <th>Bonus %</th>\n",
       "      <th>Senior Management</th>\n",
       "      <th>Team</th>\n",
       "      <th>Gender</th>\n",
       "    </tr>\n",
       "  </thead>\n",
       "  <tbody>\n",
       "    <tr>\n",
       "      <th>700</th>\n",
       "      <td>Frank</td>\n",
       "      <td>3/2/2009</td>\n",
       "      <td>9:15 PM</td>\n",
       "      <td>78891</td>\n",
       "      <td>7.927</td>\n",
       "      <td>True</td>\n",
       "      <td>Distribution</td>\n",
       "      <td>Male</td>\n",
       "    </tr>\n",
       "    <tr>\n",
       "      <th>119</th>\n",
       "      <td>Paul</td>\n",
       "      <td>6/3/2008</td>\n",
       "      <td>3:05 PM</td>\n",
       "      <td>41054</td>\n",
       "      <td>12.299</td>\n",
       "      <td>False</td>\n",
       "      <td>Marketing</td>\n",
       "      <td>Male</td>\n",
       "    </tr>\n",
       "    <tr>\n",
       "      <th>3</th>\n",
       "      <td>Jerry</td>\n",
       "      <td>3/4/2005</td>\n",
       "      <td>1:00 PM</td>\n",
       "      <td>138705</td>\n",
       "      <td>9.340</td>\n",
       "      <td>True</td>\n",
       "      <td>Finance</td>\n",
       "      <td>Male</td>\n",
       "    </tr>\n",
       "    <tr>\n",
       "      <th>77</th>\n",
       "      <td>Charles</td>\n",
       "      <td>9/14/2004</td>\n",
       "      <td>8:13 PM</td>\n",
       "      <td>107391</td>\n",
       "      <td>1.260</td>\n",
       "      <td>True</td>\n",
       "      <td>Marketing</td>\n",
       "      <td>Male</td>\n",
       "    </tr>\n",
       "    <tr>\n",
       "      <th>188</th>\n",
       "      <td>Charles</td>\n",
       "      <td>10/14/2000</td>\n",
       "      <td>9:40 PM</td>\n",
       "      <td>71749</td>\n",
       "      <td>15.931</td>\n",
       "      <td>False</td>\n",
       "      <td>Legal</td>\n",
       "      <td>Male</td>\n",
       "    </tr>\n",
       "    <tr>\n",
       "      <th>...</th>\n",
       "      <td>...</td>\n",
       "      <td>...</td>\n",
       "      <td>...</td>\n",
       "      <td>...</td>\n",
       "      <td>...</td>\n",
       "      <td>...</td>\n",
       "      <td>...</td>\n",
       "      <td>...</td>\n",
       "    </tr>\n",
       "    <tr>\n",
       "      <th>357</th>\n",
       "      <td>Russell</td>\n",
       "      <td>8/13/2014</td>\n",
       "      <td>3:51 PM</td>\n",
       "      <td>121160</td>\n",
       "      <td>7.843</td>\n",
       "      <td>False</td>\n",
       "      <td>Engineering</td>\n",
       "      <td>Male</td>\n",
       "    </tr>\n",
       "    <tr>\n",
       "      <th>563</th>\n",
       "      <td>Randy</td>\n",
       "      <td>5/2/2002</td>\n",
       "      <td>7:39 PM</td>\n",
       "      <td>86723</td>\n",
       "      <td>14.842</td>\n",
       "      <td>False</td>\n",
       "      <td>Engineering</td>\n",
       "      <td>Male</td>\n",
       "    </tr>\n",
       "    <tr>\n",
       "      <th>74</th>\n",
       "      <td>Thomas</td>\n",
       "      <td>6/4/1995</td>\n",
       "      <td>2:24 PM</td>\n",
       "      <td>62096</td>\n",
       "      <td>17.029</td>\n",
       "      <td>False</td>\n",
       "      <td>Marketing</td>\n",
       "      <td>Male</td>\n",
       "    </tr>\n",
       "    <tr>\n",
       "      <th>552</th>\n",
       "      <td>Barbara</td>\n",
       "      <td>9/2/1991</td>\n",
       "      <td>3:41 PM</td>\n",
       "      <td>127297</td>\n",
       "      <td>11.905</td>\n",
       "      <td>True</td>\n",
       "      <td>Product</td>\n",
       "      <td>Female</td>\n",
       "    </tr>\n",
       "    <tr>\n",
       "      <th>472</th>\n",
       "      <td>Joshua</td>\n",
       "      <td>7/10/1984</td>\n",
       "      <td>7:22 PM</td>\n",
       "      <td>68230</td>\n",
       "      <td>8.047</td>\n",
       "      <td>False</td>\n",
       "      <td>Client Services</td>\n",
       "      <td>Male</td>\n",
       "    </tr>\n",
       "  </tbody>\n",
       "</table>\n",
       "<p>611 rows × 8 columns</p>\n",
       "</div>"
      ],
      "text/plain": [
       "    First Name  Start Date Last Login Time  Salary  Bonus % Senior Management  \\\n",
       "700      Frank    3/2/2009         9:15 PM   78891    7.927              True   \n",
       "119       Paul    6/3/2008         3:05 PM   41054   12.299             False   \n",
       "3        Jerry    3/4/2005         1:00 PM  138705    9.340              True   \n",
       "77     Charles   9/14/2004         8:13 PM  107391    1.260              True   \n",
       "188    Charles  10/14/2000         9:40 PM   71749   15.931             False   \n",
       "..         ...         ...             ...     ...      ...               ...   \n",
       "357    Russell   8/13/2014         3:51 PM  121160    7.843             False   \n",
       "563      Randy    5/2/2002         7:39 PM   86723   14.842             False   \n",
       "74      Thomas    6/4/1995         2:24 PM   62096   17.029             False   \n",
       "552    Barbara    9/2/1991         3:41 PM  127297   11.905              True   \n",
       "472     Joshua   7/10/1984         7:22 PM   68230    8.047             False   \n",
       "\n",
       "                Team  Gender  \n",
       "700     Distribution    Male  \n",
       "119        Marketing    Male  \n",
       "3            Finance    Male  \n",
       "77         Marketing    Male  \n",
       "188            Legal    Male  \n",
       "..               ...     ...  \n",
       "357      Engineering    Male  \n",
       "563      Engineering    Male  \n",
       "74         Marketing    Male  \n",
       "552          Product  Female  \n",
       "472  Client Services    Male  \n",
       "\n",
       "[611 rows x 8 columns]"
      ]
     },
     "execution_count": 54,
     "metadata": {},
     "output_type": "execute_result"
    }
   ],
   "source": [
    "strat_data"
   ]
  },
  {
   "cell_type": "code",
   "execution_count": 15,
   "id": "39b28a39",
   "metadata": {},
   "outputs": [
    {
     "data": {
      "text/html": [
       "<div>\n",
       "<style scoped>\n",
       "    .dataframe tbody tr th:only-of-type {\n",
       "        vertical-align: middle;\n",
       "    }\n",
       "\n",
       "    .dataframe tbody tr th {\n",
       "        vertical-align: top;\n",
       "    }\n",
       "\n",
       "    .dataframe thead th {\n",
       "        text-align: right;\n",
       "    }\n",
       "</style>\n",
       "<table border=\"1\" class=\"dataframe\">\n",
       "  <thead>\n",
       "    <tr style=\"text-align: right;\">\n",
       "      <th></th>\n",
       "      <th>index</th>\n",
       "      <th>First Name</th>\n",
       "      <th>Gender</th>\n",
       "      <th>Start Date</th>\n",
       "      <th>Last Login Time</th>\n",
       "      <th>Salary</th>\n",
       "      <th>Bonus %</th>\n",
       "      <th>Senior Management</th>\n",
       "      <th>Team</th>\n",
       "    </tr>\n",
       "  </thead>\n",
       "  <tbody>\n",
       "    <tr>\n",
       "      <th>617</th>\n",
       "      <td>814</td>\n",
       "      <td>Rachel</td>\n",
       "      <td>Female</td>\n",
       "      <td>6/23/2011</td>\n",
       "      <td>12:52 AM</td>\n",
       "      <td>54941</td>\n",
       "      <td>3.221</td>\n",
       "      <td>True</td>\n",
       "      <td>Distribution</td>\n",
       "    </tr>\n",
       "    <tr>\n",
       "      <th>222</th>\n",
       "      <td>291</td>\n",
       "      <td>Tammy</td>\n",
       "      <td>Female</td>\n",
       "      <td>11/11/1984</td>\n",
       "      <td>10:30 AM</td>\n",
       "      <td>132839</td>\n",
       "      <td>17.463</td>\n",
       "      <td>True</td>\n",
       "      <td>Client Services</td>\n",
       "    </tr>\n",
       "    <tr>\n",
       "      <th>706</th>\n",
       "      <td>930</td>\n",
       "      <td>Nancy</td>\n",
       "      <td>Female</td>\n",
       "      <td>9/10/2001</td>\n",
       "      <td>11:57 PM</td>\n",
       "      <td>85213</td>\n",
       "      <td>2.386</td>\n",
       "      <td>True</td>\n",
       "      <td>Marketing</td>\n",
       "    </tr>\n",
       "    <tr>\n",
       "      <th>236</th>\n",
       "      <td>308</td>\n",
       "      <td>Cheryl</td>\n",
       "      <td>Female</td>\n",
       "      <td>9/8/2009</td>\n",
       "      <td>10:16 AM</td>\n",
       "      <td>81308</td>\n",
       "      <td>2.196</td>\n",
       "      <td>True</td>\n",
       "      <td>Legal</td>\n",
       "    </tr>\n",
       "    <tr>\n",
       "      <th>516</th>\n",
       "      <td>675</td>\n",
       "      <td>Diane</td>\n",
       "      <td>Female</td>\n",
       "      <td>10/30/2009</td>\n",
       "      <td>6:56 PM</td>\n",
       "      <td>130577</td>\n",
       "      <td>12.791</td>\n",
       "      <td>False</td>\n",
       "      <td>Marketing</td>\n",
       "    </tr>\n",
       "    <tr>\n",
       "      <th>...</th>\n",
       "      <td>...</td>\n",
       "      <td>...</td>\n",
       "      <td>...</td>\n",
       "      <td>...</td>\n",
       "      <td>...</td>\n",
       "      <td>...</td>\n",
       "      <td>...</td>\n",
       "      <td>...</td>\n",
       "      <td>...</td>\n",
       "    </tr>\n",
       "    <tr>\n",
       "      <th>748</th>\n",
       "      <td>981</td>\n",
       "      <td>James</td>\n",
       "      <td>Male</td>\n",
       "      <td>1/15/1993</td>\n",
       "      <td>5:19 PM</td>\n",
       "      <td>148985</td>\n",
       "      <td>19.280</td>\n",
       "      <td>False</td>\n",
       "      <td>Legal</td>\n",
       "    </tr>\n",
       "    <tr>\n",
       "      <th>761</th>\n",
       "      <td>997</td>\n",
       "      <td>Russell</td>\n",
       "      <td>Male</td>\n",
       "      <td>5/20/2013</td>\n",
       "      <td>12:39 PM</td>\n",
       "      <td>96914</td>\n",
       "      <td>1.421</td>\n",
       "      <td>False</td>\n",
       "      <td>Product</td>\n",
       "    </tr>\n",
       "    <tr>\n",
       "      <th>97</th>\n",
       "      <td>127</td>\n",
       "      <td>William</td>\n",
       "      <td>Male</td>\n",
       "      <td>9/29/2002</td>\n",
       "      <td>4:09 PM</td>\n",
       "      <td>66521</td>\n",
       "      <td>5.830</td>\n",
       "      <td>False</td>\n",
       "      <td>Human Resources</td>\n",
       "    </tr>\n",
       "    <tr>\n",
       "      <th>626</th>\n",
       "      <td>829</td>\n",
       "      <td>Johnny</td>\n",
       "      <td>Male</td>\n",
       "      <td>1/14/2007</td>\n",
       "      <td>2:54 PM</td>\n",
       "      <td>71383</td>\n",
       "      <td>2.097</td>\n",
       "      <td>True</td>\n",
       "      <td>Human Resources</td>\n",
       "    </tr>\n",
       "    <tr>\n",
       "      <th>169</th>\n",
       "      <td>217</td>\n",
       "      <td>Douglas</td>\n",
       "      <td>Male</td>\n",
       "      <td>9/3/1999</td>\n",
       "      <td>4:00 PM</td>\n",
       "      <td>83341</td>\n",
       "      <td>1.015</td>\n",
       "      <td>True</td>\n",
       "      <td>Client Services</td>\n",
       "    </tr>\n",
       "  </tbody>\n",
       "</table>\n",
       "<p>153 rows × 9 columns</p>\n",
       "</div>"
      ],
      "text/plain": [
       "     index First Name  Gender  Start Date Last Login Time  Salary  Bonus %  \\\n",
       "617    814     Rachel  Female   6/23/2011        12:52 AM   54941    3.221   \n",
       "222    291      Tammy  Female  11/11/1984        10:30 AM  132839   17.463   \n",
       "706    930      Nancy  Female   9/10/2001        11:57 PM   85213    2.386   \n",
       "236    308     Cheryl  Female    9/8/2009        10:16 AM   81308    2.196   \n",
       "516    675      Diane  Female  10/30/2009         6:56 PM  130577   12.791   \n",
       "..     ...        ...     ...         ...             ...     ...      ...   \n",
       "748    981      James    Male   1/15/1993         5:19 PM  148985   19.280   \n",
       "761    997    Russell    Male   5/20/2013        12:39 PM   96914    1.421   \n",
       "97     127    William    Male   9/29/2002         4:09 PM   66521    5.830   \n",
       "626    829     Johnny    Male   1/14/2007         2:54 PM   71383    2.097   \n",
       "169    217    Douglas    Male    9/3/1999         4:00 PM   83341    1.015   \n",
       "\n",
       "    Senior Management             Team  \n",
       "617              True     Distribution  \n",
       "222              True  Client Services  \n",
       "706              True        Marketing  \n",
       "236              True            Legal  \n",
       "516             False        Marketing  \n",
       "..                ...              ...  \n",
       "748             False            Legal  \n",
       "761             False          Product  \n",
       "97              False  Human Resources  \n",
       "626              True  Human Resources  \n",
       "169              True  Client Services  \n",
       "\n",
       "[153 rows x 9 columns]"
      ]
     },
     "execution_count": 15,
     "metadata": {},
     "output_type": "execute_result"
    }
   ],
   "source": []
  },
  {
   "cell_type": "code",
   "execution_count": null,
   "id": "1286083a-8362-450a-b5cd-e113aef658ff",
   "metadata": {},
   "outputs": [],
   "source": []
  },
  {
   "cell_type": "code",
   "execution_count": 56,
   "id": "a4b74ece-933b-4814-9fd4-0ed22006b63b",
   "metadata": {},
   "outputs": [
    {
     "data": {
      "text/plain": [
       "<Axes: xlabel='Gender', ylabel='count'>"
      ]
     },
     "execution_count": 56,
     "metadata": {},
     "output_type": "execute_result"
    },
    {
     "data": {
      "image/png": "[encoded data removed]",
      "text/plain": [
       "<Figure size 640x480 with 1 Axes>"
      ]
     },
     "metadata": {},
     "output_type": "display_data"
    }
   ],
   "source": [
    "sns.countplot(x='Gender', data=strat_data,hue='Gender')"
   ]
  },
  {
   "cell_type": "code",
   "execution_count": 16,
   "id": "bc725f5c",
   "metadata": {},
   "outputs": [
    {
     "data": {
      "text/plain": [
       "<AxesSubplot:xlabel='Gender', ylabel='count'>"
      ]
     },
     "execution_count": 16,
     "metadata": {},
     "output_type": "execute_result"
    },
    {
     "data": {
      "image/png": "[encoded data removed]",
      "text/plain": [
       "<Figure size 1080x504 with 1 Axes>"
      ]
     },
     "metadata": {
      "needs_background": "light"
     },
     "output_type": "display_data"
    }
   ],
   "source": []
  },
  {
   "cell_type": "code",
   "execution_count": null,
   "id": "4648da6d-38a4-4b99-825f-b53f9b144490",
   "metadata": {},
   "outputs": [],
   "source": []
  },
  {
   "cell_type": "code",
   "execution_count": 57,
   "id": "75db6a47-c1ae-4440-a6a2-a6bc9d3c91a5",
   "metadata": {},
   "outputs": [
    {
     "data": {
      "text/plain": [
       "<Axes: ylabel='count'>"
      ]
     },
     "execution_count": 57,
     "metadata": {},
     "output_type": "execute_result"
    },
    {
     "data": {
      "image/png": "[encoded data removed]",
      "text/plain": [
       "<Figure size 640x480 with 1 Axes>"
      ]
     },
     "metadata": {},
     "output_type": "display_data"
    }
   ],
   "source": [
    "df_clean['Gender'].value_counts().plot.pie(autopct='%1.1f%%')"
   ]
  },
  {
   "cell_type": "code",
   "execution_count": 17,
   "id": "c38ed716",
   "metadata": {},
   "outputs": [
    {
     "data": {
      "text/plain": [
       "<AxesSubplot:ylabel='Gender'>"
      ]
     },
     "execution_count": 17,
     "metadata": {},
     "output_type": "execute_result"
    },
    {
     "data": {
      "image/png": "[encoded data removed]",
      "text/plain": [
       "<Figure size 720x720 with 1 Axes>"
      ]
     },
     "metadata": {},
     "output_type": "display_data"
    }
   ],
   "source": []
  },
  {
   "cell_type": "markdown",
   "id": "44f4b61d",
   "metadata": {},
   "source": [
    "## Sampling Distributions and CLT\n",
    "### Take a 10000 samples of sizes 1, 5, 10, 50 from a continuous uniform distribution a=1, b=11. Plot the sampling distribution of the sample mean.\n",
    "### Calculate mean and variance of sampling distribution.\n",
    "### Plot a histogram for the sampling distribution.\n",
    "### Repeat for any distribution of your choice.\n",
    "##### Hint: fix the scale of x-axis to be able to notice the difference."
   ]
  },
  {
   "cell_type": "code",
   "execution_count": 59,
   "id": "7334fa5a-82f7-4d8e-b126-d79ca9ccb25f",
   "metadata": {},
   "outputs": [],
   "source": [
    "import numpy as np"
   ]
  },
  {
   "cell_type": "code",
   "execution_count": 62,
   "id": "5fadb05f-438b-4a14-89ad-8f252d68a177",
   "metadata": {},
   "outputs": [
    {
     "data": {
      "text/plain": [
       "<Axes: ylabel='Count'>"
      ]
     },
     "execution_count": 62,
     "metadata": {},
     "output_type": "execute_result"
    },
    {
     "data": {
      "image/png": "[encoded data removed]",
      "text/plain": [
       "<Figure size 640x480 with 1 Axes>"
      ]
     },
     "metadata": {},
     "output_type": "display_data"
    }
   ],
   "source": [
    "samples = np.random.uniform(1, 11, size=(1000, 1))\n",
    "sns.histplot(samples, kde=True)"
   ]
  },
  {
   "cell_type": "code",
   "execution_count": 19,
   "id": "d1d8398c",
   "metadata": {},
   "outputs": [
    {
     "name": "stdout",
     "output_type": "stream",
     "text": [
      "Population mean: 6 ; Var: 8.333\n",
      "Sample distribution mean: 6.032579894347128 ; Var: 8.39904960088306\n"
     ]
    },
    {
     "data": {
      "text/plain": [
       "<matplotlib.legend.Legend at 0x25352f85cd0>"
      ]
     },
     "execution_count": 19,
     "metadata": {},
     "output_type": "execute_result"
    },
    {
     "data": {
      "image/png": "[encoded data removed]",
      "text/plain": [
       "<Figure size 720x504 with 1 Axes>"
      ]
     },
     "metadata": {
      "needs_background": "light"
     },
     "output_type": "display_data"
    }
   ],
   "source": []
  },
  {
   "cell_type": "code",
   "execution_count": null,
   "id": "bd631edf-4b61-44e6-adff-bb0ad28a7fa6",
   "metadata": {},
   "outputs": [],
   "source": []
  },
  {
   "cell_type": "code",
   "execution_count": 63,
   "id": "06d3d31d-6ced-4aac-8ce1-d66b27d72b32",
   "metadata": {},
   "outputs": [
    {
     "data": {
      "text/plain": [
       "<Axes: ylabel='Count'>"
      ]
     },
     "execution_count": 63,
     "metadata": {},
     "output_type": "execute_result"
    },
    {
     "data": {
      "image/png": "[encoded data removed]",
      "text/plain": [
       "<Figure size 640x480 with 1 Axes>"
      ]
     },
     "metadata": {},
     "output_type": "display_data"
    }
   ],
   "source": [
    "samples = np.random.uniform(1, 11, size=(1000, 5))\n",
    "sns.histplot(samples, kde=True)"
   ]
  },
  {
   "cell_type": "code",
   "execution_count": 20,
   "id": "674b3b86",
   "metadata": {},
   "outputs": [
    {
     "name": "stdout",
     "output_type": "stream",
     "text": [
      "Population mean: 6 ; Var: 8.333\n",
      "Sampling distribution mean: 5.998905477964378 ; Var: 1.693743465446434\n"
     ]
    },
    {
     "data": {
      "text/plain": [
       "<matplotlib.legend.Legend at 0x25353068970>"
      ]
     },
     "execution_count": 20,
     "metadata": {},
     "output_type": "execute_result"
    },
    {
     "data": {
      "image/png": "[encoded data removed]",
      "text/plain": [
       "<Figure size 720x504 with 1 Axes>"
      ]
     },
     "metadata": {
      "needs_background": "light"
     },
     "output_type": "display_data"
    }
   ],
   "source": []
  },
  {
   "cell_type": "code",
   "execution_count": 21,
   "id": "4e9ab02e",
   "metadata": {},
   "outputs": [
    {
     "name": "stdout",
     "output_type": "stream",
     "text": [
      "Population mean: 6 ; Var: 8.333\n",
      "Sampling distribution mean: 6.0007346431735105 ; Var: 0.821151149262561\n"
     ]
    },
    {
     "data": {
      "text/plain": [
       "<matplotlib.legend.Legend at 0x253531496a0>"
      ]
     },
     "execution_count": 21,
     "metadata": {},
     "output_type": "execute_result"
    },
    {
     "data": {
      "image/png": "[encoded data removed]",
      "text/plain": [
       "<Figure size 720x504 with 1 Axes>"
      ]
     },
     "metadata": {
      "needs_background": "light"
     },
     "output_type": "display_data"
    }
   ],
   "source": []
  },
  {
   "cell_type": "code",
   "execution_count": 22,
   "id": "e2f29c48",
   "metadata": {},
   "outputs": [
    {
     "name": "stdout",
     "output_type": "stream",
     "text": [
      "Population mean: 6 ; Var: 8.333\n",
      "Sampling distribution mean: 5.9963333738444025 ; Var: 0.16501722945036526\n"
     ]
    },
    {
     "data": {
      "text/plain": [
       "<matplotlib.legend.Legend at 0x253530a8430>"
      ]
     },
     "execution_count": 22,
     "metadata": {},
     "output_type": "execute_result"
    },
    {
     "data": {
      "image/png": "[encoded data removed]",
      "text/plain": [
       "<Figure size 720x504 with 1 Axes>"
      ]
     },
     "metadata": {
      "needs_background": "light"
     },
     "output_type": "display_data"
    }
   ],
   "source": []
  },
  {
   "cell_type": "code",
   "execution_count": 23,
   "id": "0aeea1e8",
   "metadata": {},
   "outputs": [
    {
     "name": "stdout",
     "output_type": "stream",
     "text": [
      "Population mean: 6 ; Var: 8.333\n",
      "Sampling distribution mean: 5.995190842546846 ; Var: 0.08194103003865086\n"
     ]
    },
    {
     "data": {
      "text/plain": [
       "<matplotlib.legend.Legend at 0x25353276df0>"
      ]
     },
     "execution_count": 23,
     "metadata": {},
     "output_type": "execute_result"
    },
    {
     "data": {
      "image/png": "[encoded data removed]",
      "text/plain": [
       "<Figure size 720x504 with 1 Axes>"
      ]
     },
     "metadata": {
      "needs_background": "light"
     },
     "output_type": "display_data"
    }
   ],
   "source": []
  },
  {
   "cell_type": "markdown",
   "id": "72d01cbf",
   "metadata": {},
   "source": [
    "### Repeat for any distribution of your choice."
   ]
  },
  {
   "cell_type": "code",
   "execution_count": null,
   "id": "f2df6603",
   "metadata": {},
   "outputs": [],
   "source": []
  },
  {
   "cell_type": "code",
   "execution_count": null,
   "id": "58df7e8d",
   "metadata": {},
   "outputs": [],
   "source": []
  },
  {
   "cell_type": "code",
   "execution_count": null,
   "id": "4ce4af7b",
   "metadata": {},
   "outputs": [],
   "source": []
  },
  {
   "cell_type": "code",
   "execution_count": null,
   "id": "54ad1b92",
   "metadata": {},
   "outputs": [],
   "source": []
  },
  {
   "cell_type": "markdown",
   "id": "017aceae",
   "metadata": {},
   "source": [
    "## Confidence Interval (CI)\n",
    "### Within how many standard deviations the estimated sample mean should be located for CIs 90%, 92%, 95%, 98%, 99%.   "
   ]
  },
  {
   "cell_type": "code",
   "execution_count": 129,
   "id": "8d12e6bf-ef6b-42ca-9dd7-d35d9e6a55c2",
   "metadata": {},
   "outputs": [
    {
     "ename": "ModuleNotFoundError",
     "evalue": "No module named 'statsmodels'",
     "output_type": "error",
     "traceback": [
      "\u001b[1;31m---------------------------------------------------------------------------\u001b[0m",
      "\u001b[1;31mModuleNotFoundError\u001b[0m                       Traceback (most recent call last)",
      "Cell \u001b[1;32mIn[129], line 4\u001b[0m\n\u001b[0;32m      2\u001b[0m \u001b[38;5;28;01mimport\u001b[39;00m \u001b[38;5;21;01mscipy\u001b[39;00m\u001b[38;5;21;01m.\u001b[39;00m\u001b[38;5;21;01mstats\u001b[39;00m \u001b[38;5;28;01mas\u001b[39;00m \u001b[38;5;21;01mstats\u001b[39;00m\n\u001b[0;32m      3\u001b[0m \u001b[38;5;28;01mfrom\u001b[39;00m \u001b[38;5;21;01mscipy\u001b[39;00m\u001b[38;5;21;01m.\u001b[39;00m\u001b[38;5;21;01mstats\u001b[39;00m \u001b[38;5;28;01mimport\u001b[39;00m t\n\u001b[1;32m----> 4\u001b[0m \u001b[38;5;28;01mimport\u001b[39;00m \u001b[38;5;21;01mstatsmodels\u001b[39;00m\u001b[38;5;21;01m.\u001b[39;00m\u001b[38;5;21;01mapi\u001b[39;00m \u001b[38;5;28;01mas\u001b[39;00m \u001b[38;5;21;01msm\u001b[39;00m\n",
      "\u001b[1;31mModuleNotFoundError\u001b[0m: No module named 'statsmodels'"
     ]
    }
   ],
   "source": [
    "import numpy as np\n",
    "import scipy.stats as stats\n",
    "from scipy.stats import t\n",
    "import statsmodels.api as sm"
   ]
  },
  {
   "cell_type": "code",
   "execution_count": 130,
   "id": "840d315c-51bc-493d-b208-a186c022e7b7",
   "metadata": {},
   "outputs": [
    {
     "name": "stdout",
     "output_type": "stream",
     "text": [
      "Collecting statsmodelsNote: you may need to restart the kernel to use updated packages.\n"
     ]
    },
    {
     "name": "stderr",
     "output_type": "stream",
     "text": [
      "\n",
      "[notice] A new release of pip available: 22.3.1 -> 23.3.1\n",
      "[notice] To update, run: C:\\Users\\HP\\AppData\\Local\\Programs\\Python\\Python311\\python.exe -m pip install --upgrade pip\n"
     ]
    },
    {
     "name": "stdout",
     "output_type": "stream",
     "text": [
      "\n",
      "  Downloading statsmodels-0.14.0-cp311-cp311-win_amd64.whl (9.2 MB)\n",
      "     ---------------------------------------- 9.2/9.2 MB 2.6 MB/s eta 0:00:00\n",
      "Requirement already satisfied: numpy>=1.18 in c:\\users\\hp\\appdata\\local\\programs\\python\\python311\\lib\\site-packages (from statsmodels) (1.26.2)\n",
      "Requirement already satisfied: scipy!=1.9.2,>=1.4 in c:\\users\\hp\\appdata\\local\\programs\\python\\python311\\lib\\site-packages (from statsmodels) (1.11.4)\n",
      "Requirement already satisfied: pandas>=1.0 in c:\\users\\hp\\appdata\\local\\programs\\python\\python311\\lib\\site-packages (from statsmodels) (2.1.3)\n",
      "Collecting patsy>=0.5.2\n",
      "  Downloading patsy-0.5.3-py2.py3-none-any.whl (233 kB)\n",
      "     -------------------------------------- 233.8/233.8 kB 1.8 MB/s eta 0:00:00\n",
      "Requirement already satisfied: packaging>=21.3 in c:\\users\\hp\\appdata\\local\\programs\\python\\python311\\lib\\site-packages (from statsmodels) (23.2)\n",
      "Requirement already satisfied: python-dateutil>=2.8.2 in c:\\users\\hp\\appdata\\local\\programs\\python\\python311\\lib\\site-packages (from pandas>=1.0->statsmodels) (2.8.2)\n",
      "Requirement already satisfied: pytz>=2020.1 in c:\\users\\hp\\appdata\\local\\programs\\python\\python311\\lib\\site-packages (from pandas>=1.0->statsmodels) (2023.3.post1)\n",
      "Requirement already satisfied: tzdata>=2022.1 in c:\\users\\hp\\appdata\\local\\programs\\python\\python311\\lib\\site-packages (from pandas>=1.0->statsmodels) (2022.7)\n",
      "Requirement already satisfied: six in c:\\users\\hp\\appdata\\local\\programs\\python\\python311\\lib\\site-packages (from patsy>=0.5.2->statsmodels) (1.16.0)\n",
      "Installing collected packages: patsy, statsmodels\n",
      "Successfully installed patsy-0.5.3 statsmodels-0.14.0\n"
     ]
    }
   ],
   "source": [
    "pip install statsmodels"
   ]
  },
  {
   "cell_type": "code",
   "execution_count": 69,
   "id": "963ac127-5156-4f76-bf3d-2e090ff9b2ba",
   "metadata": {},
   "outputs": [],
   "source": [
    "confidence_levels = [0.90, 0.92, 0.95, 0.98, 0.99]"
   ]
  },
  {
   "cell_type": "code",
   "execution_count": 80,
   "id": "3c3305dd-ae80-4835-96fc-cd453f1d7a88",
   "metadata": {},
   "outputs": [
    {
     "name": "stdout",
     "output_type": "stream",
     "text": [
      "1.6448536269514722\n",
      "1.7506860712521692\n",
      "1.959963984540054\n",
      "2.3263478740408408\n",
      "2.5758293035489004\n"
     ]
    }
   ],
   "source": [
    "for level in confidence_levels:\n",
    "    z_score = stats.norm.ppf(1-(1 - level) / 2)\n",
    "    print(z_score)"
   ]
  },
  {
   "cell_type": "code",
   "execution_count": null,
   "id": "65a083e5-81a0-466c-8842-6f5d6e76c2ba",
   "metadata": {},
   "outputs": [],
   "source": []
  },
  {
   "cell_type": "code",
   "execution_count": 24,
   "id": "aa5cfc2d",
   "metadata": {},
   "outputs": [
    {
     "name": "stdout",
     "output_type": "stream",
     "text": [
      "For CI 90%: within 1.6448536269514722 std.\n",
      "For CI 92%: within 1.7506860712521692 std.\n",
      "For CI 95%: within 1.959963984540054 std.\n",
      "For CI 98%: within 2.3263478740408408 std.\n",
      "For CI 99%: within 2.5758293035489004 std.\n"
     ]
    }
   ],
   "source": []
  },
  {
   "cell_type": "markdown",
   "id": "2fb5db46",
   "metadata": {},
   "source": [
    "### Calculate the expected mean salary with 95% CI for each team for the employees data as follow:\n",
    "##### Using z-value.\n",
    "##### Using t-value.\n",
    "##### Compare the results obtaind from the above calculation and write a conclusion.\n",
    "##### Perform  sns.barplot() and check out the displayed confidence intervals. Compare with your results."
   ]
  },
  {
   "cell_type": "code",
   "execution_count": null,
   "id": "f0ffb07f-7162-408d-bf72-5148571a0330",
   "metadata": {},
   "outputs": [],
   "source": []
  },
  {
   "cell_type": "code",
   "execution_count": 81,
   "id": "81b1f01c-f09f-42d2-9692-44fc90d6a3c7",
   "metadata": {},
   "outputs": [],
   "source": [
    "team_stats = pd.DataFrame(df.groupby('Team')['Salary'].agg(['mean','std','count']))"
   ]
  },
  {
   "cell_type": "code",
   "execution_count": 102,
   "id": "826e4727-49f5-4821-9636-0c78594ec19d",
   "metadata": {},
   "outputs": [
    {
     "data": {
      "text/plain": [
       "1.959963984540054"
      ]
     },
     "execution_count": 102,
     "metadata": {},
     "output_type": "execute_result"
    }
   ],
   "source": [
    "z_score = stats.norm.ppf(1-(1 - 0.95) / 2)\n",
    "z_score"
   ]
  },
  {
   "cell_type": "code",
   "execution_count": 84,
   "id": "d5c45420-4898-482a-a2fe-9fdae53c4c2f",
   "metadata": {},
   "outputs": [],
   "source": [
    "std_error= team_stats['std'] / np.sqrt(team_stats['count']) "
   ]
  },
  {
   "cell_type": "code",
   "execution_count": 88,
   "id": "f3cbbdcc-037f-441d-a727-6f3e40858c34",
   "metadata": {},
   "outputs": [],
   "source": [
    "team_stats['upper']= team_stats['mean'] + z_score * std_error"
   ]
  },
  {
   "cell_type": "code",
   "execution_count": 89,
   "id": "af04e6f0-c16f-41bd-8c1c-a8980fa4a38c",
   "metadata": {},
   "outputs": [],
   "source": [
    "team_stats['lower']= team_stats['mean'] - z_score * std_error"
   ]
  },
  {
   "cell_type": "code",
   "execution_count": 90,
   "id": "d9c761a7-570f-4d28-adaf-52b5790ecd8a",
   "metadata": {},
   "outputs": [
    {
     "data": {
      "text/html": [
       "<div>\n",
       "<style scoped>\n",
       "    .dataframe tbody tr th:only-of-type {\n",
       "        vertical-align: middle;\n",
       "    }\n",
       "\n",
       "    .dataframe tbody tr th {\n",
       "        vertical-align: top;\n",
       "    }\n",
       "\n",
       "    .dataframe thead th {\n",
       "        text-align: right;\n",
       "    }\n",
       "</style>\n",
       "<table border=\"1\" class=\"dataframe\">\n",
       "  <thead>\n",
       "    <tr style=\"text-align: right;\">\n",
       "      <th></th>\n",
       "      <th>mean</th>\n",
       "      <th>std</th>\n",
       "      <th>count</th>\n",
       "      <th>upper</th>\n",
       "      <th>lower</th>\n",
       "    </tr>\n",
       "    <tr>\n",
       "      <th>Team</th>\n",
       "      <th></th>\n",
       "      <th></th>\n",
       "      <th></th>\n",
       "      <th></th>\n",
       "      <th></th>\n",
       "    </tr>\n",
       "  </thead>\n",
       "  <tbody>\n",
       "    <tr>\n",
       "      <th>Business Development</th>\n",
       "      <td>91866.316832</td>\n",
       "      <td>33461.860802</td>\n",
       "      <td>101</td>\n",
       "      <td>98392.172922</td>\n",
       "      <td>85340.460741</td>\n",
       "    </tr>\n",
       "    <tr>\n",
       "      <th>Client Services</th>\n",
       "      <td>88224.424528</td>\n",
       "      <td>31272.598888</td>\n",
       "      <td>106</td>\n",
       "      <td>94177.743236</td>\n",
       "      <td>82271.105821</td>\n",
       "    </tr>\n",
       "    <tr>\n",
       "      <th>Distribution</th>\n",
       "      <td>88500.466667</td>\n",
       "      <td>33538.473345</td>\n",
       "      <td>90</td>\n",
       "      <td>95429.459723</td>\n",
       "      <td>81571.473610</td>\n",
       "    </tr>\n",
       "    <tr>\n",
       "      <th>Engineering</th>\n",
       "      <td>94269.195652</td>\n",
       "      <td>32349.531179</td>\n",
       "      <td>92</td>\n",
       "      <td>100879.510852</td>\n",
       "      <td>87658.880452</td>\n",
       "    </tr>\n",
       "    <tr>\n",
       "      <th>Finance</th>\n",
       "      <td>92219.480392</td>\n",
       "      <td>34475.515066</td>\n",
       "      <td>102</td>\n",
       "      <td>98909.983371</td>\n",
       "      <td>85528.977413</td>\n",
       "    </tr>\n",
       "    <tr>\n",
       "      <th>Human Resources</th>\n",
       "      <td>90944.527473</td>\n",
       "      <td>33107.945736</td>\n",
       "      <td>91</td>\n",
       "      <td>97746.887743</td>\n",
       "      <td>84142.167202</td>\n",
       "    </tr>\n",
       "    <tr>\n",
       "      <th>Legal</th>\n",
       "      <td>89303.613636</td>\n",
       "      <td>32755.649720</td>\n",
       "      <td>88</td>\n",
       "      <td>96147.345304</td>\n",
       "      <td>82459.881969</td>\n",
       "    </tr>\n",
       "    <tr>\n",
       "      <th>Marketing</th>\n",
       "      <td>90435.591837</td>\n",
       "      <td>34175.230632</td>\n",
       "      <td>98</td>\n",
       "      <td>97201.817955</td>\n",
       "      <td>83669.365718</td>\n",
       "    </tr>\n",
       "    <tr>\n",
       "      <th>Product</th>\n",
       "      <td>88665.505263</td>\n",
       "      <td>31997.406562</td>\n",
       "      <td>95</td>\n",
       "      <td>95099.801735</td>\n",
       "      <td>82231.208792</td>\n",
       "    </tr>\n",
       "    <tr>\n",
       "      <th>Sales</th>\n",
       "      <td>92173.436170</td>\n",
       "      <td>32202.944274</td>\n",
       "      <td>94</td>\n",
       "      <td>98683.417525</td>\n",
       "      <td>85663.454815</td>\n",
       "    </tr>\n",
       "  </tbody>\n",
       "</table>\n",
       "</div>"
      ],
      "text/plain": [
       "                              mean           std  count          upper  \\\n",
       "Team                                                                     \n",
       "Business Development  91866.316832  33461.860802    101   98392.172922   \n",
       "Client Services       88224.424528  31272.598888    106   94177.743236   \n",
       "Distribution          88500.466667  33538.473345     90   95429.459723   \n",
       "Engineering           94269.195652  32349.531179     92  100879.510852   \n",
       "Finance               92219.480392  34475.515066    102   98909.983371   \n",
       "Human Resources       90944.527473  33107.945736     91   97746.887743   \n",
       "Legal                 89303.613636  32755.649720     88   96147.345304   \n",
       "Marketing             90435.591837  34175.230632     98   97201.817955   \n",
       "Product               88665.505263  31997.406562     95   95099.801735   \n",
       "Sales                 92173.436170  32202.944274     94   98683.417525   \n",
       "\n",
       "                             lower  \n",
       "Team                                \n",
       "Business Development  85340.460741  \n",
       "Client Services       82271.105821  \n",
       "Distribution          81571.473610  \n",
       "Engineering           87658.880452  \n",
       "Finance               85528.977413  \n",
       "Human Resources       84142.167202  \n",
       "Legal                 82459.881969  \n",
       "Marketing             83669.365718  \n",
       "Product               82231.208792  \n",
       "Sales                 85663.454815  "
      ]
     },
     "execution_count": 90,
     "metadata": {},
     "output_type": "execute_result"
    }
   ],
   "source": [
    "team_stats"
   ]
  },
  {
   "cell_type": "code",
   "execution_count": null,
   "id": "55616e03-24ac-4ac7-a4a6-0833d384a61c",
   "metadata": {},
   "outputs": [],
   "source": []
  },
  {
   "cell_type": "code",
   "execution_count": 25,
   "id": "d45b359d",
   "metadata": {},
   "outputs": [
    {
     "data": {
      "text/html": [
       "<div>\n",
       "<style scoped>\n",
       "    .dataframe tbody tr th:only-of-type {\n",
       "        vertical-align: middle;\n",
       "    }\n",
       "\n",
       "    .dataframe tbody tr th {\n",
       "        vertical-align: top;\n",
       "    }\n",
       "\n",
       "    .dataframe thead th {\n",
       "        text-align: right;\n",
       "    }\n",
       "</style>\n",
       "<table border=\"1\" class=\"dataframe\">\n",
       "  <thead>\n",
       "    <tr style=\"text-align: right;\">\n",
       "      <th></th>\n",
       "      <th>index</th>\n",
       "      <th>First Name</th>\n",
       "      <th>Gender</th>\n",
       "      <th>Start Date</th>\n",
       "      <th>Last Login Time</th>\n",
       "      <th>Salary</th>\n",
       "      <th>Bonus %</th>\n",
       "      <th>Senior Management</th>\n",
       "      <th>Team</th>\n",
       "    </tr>\n",
       "  </thead>\n",
       "  <tbody>\n",
       "    <tr>\n",
       "      <th>0</th>\n",
       "      <td>0</td>\n",
       "      <td>Douglas</td>\n",
       "      <td>Male</td>\n",
       "      <td>8/6/1993</td>\n",
       "      <td>12:42 PM</td>\n",
       "      <td>97308</td>\n",
       "      <td>6.945</td>\n",
       "      <td>True</td>\n",
       "      <td>Marketing</td>\n",
       "    </tr>\n",
       "    <tr>\n",
       "      <th>1</th>\n",
       "      <td>2</td>\n",
       "      <td>Maria</td>\n",
       "      <td>Female</td>\n",
       "      <td>4/23/1993</td>\n",
       "      <td>11:17 AM</td>\n",
       "      <td>130590</td>\n",
       "      <td>11.858</td>\n",
       "      <td>False</td>\n",
       "      <td>Finance</td>\n",
       "    </tr>\n",
       "    <tr>\n",
       "      <th>2</th>\n",
       "      <td>3</td>\n",
       "      <td>Jerry</td>\n",
       "      <td>Male</td>\n",
       "      <td>3/4/2005</td>\n",
       "      <td>1:00 PM</td>\n",
       "      <td>138705</td>\n",
       "      <td>9.340</td>\n",
       "      <td>True</td>\n",
       "      <td>Finance</td>\n",
       "    </tr>\n",
       "    <tr>\n",
       "      <th>3</th>\n",
       "      <td>4</td>\n",
       "      <td>Larry</td>\n",
       "      <td>Male</td>\n",
       "      <td>1/24/1998</td>\n",
       "      <td>4:47 PM</td>\n",
       "      <td>101004</td>\n",
       "      <td>1.389</td>\n",
       "      <td>True</td>\n",
       "      <td>Client Services</td>\n",
       "    </tr>\n",
       "    <tr>\n",
       "      <th>4</th>\n",
       "      <td>5</td>\n",
       "      <td>Dennis</td>\n",
       "      <td>Male</td>\n",
       "      <td>4/18/1987</td>\n",
       "      <td>1:35 AM</td>\n",
       "      <td>115163</td>\n",
       "      <td>10.125</td>\n",
       "      <td>False</td>\n",
       "      <td>Legal</td>\n",
       "    </tr>\n",
       "  </tbody>\n",
       "</table>\n",
       "</div>"
      ],
      "text/plain": [
       "   index First Name  Gender Start Date Last Login Time  Salary  Bonus %  \\\n",
       "0      0    Douglas    Male   8/6/1993        12:42 PM   97308    6.945   \n",
       "1      2      Maria  Female  4/23/1993        11:17 AM  130590   11.858   \n",
       "2      3      Jerry    Male   3/4/2005         1:00 PM  138705    9.340   \n",
       "3      4      Larry    Male  1/24/1998         4:47 PM  101004    1.389   \n",
       "4      5     Dennis    Male  4/18/1987         1:35 AM  115163   10.125   \n",
       "\n",
       "  Senior Management             Team  \n",
       "0              True        Marketing  \n",
       "1             False          Finance  \n",
       "2              True          Finance  \n",
       "3              True  Client Services  \n",
       "4             False            Legal  "
      ]
     },
     "execution_count": 25,
     "metadata": {},
     "output_type": "execute_result"
    }
   ],
   "source": []
  },
  {
   "cell_type": "code",
   "execution_count": 26,
   "id": "3d62e7ae",
   "metadata": {},
   "outputs": [
    {
     "name": "stdout",
     "output_type": "stream",
     "text": [
      "                              mean  count           std\n",
      "Team                                                   \n",
      "Business Development  90520.397727     88  34003.949519\n",
      "Client Services       89336.658824     85  31388.107545\n",
      "Distribution          85849.100000     60  34591.228251\n",
      "Engineering           94369.405063     79  33128.774280\n",
      "Finance               94519.075000     80  34888.408496\n",
      "Human Resources       91145.171053     76  33003.806207\n",
      "Legal                 88066.402985     67  32946.885027\n",
      "Marketing             90764.081081     74  32547.554819\n",
      "Product               86935.963855     83  32005.495537\n",
      "Sales                 91724.819444     72  31003.120063\n"
     ]
    }
   ],
   "source": []
  },
  {
   "cell_type": "code",
   "execution_count": 28,
   "id": "ec823aa5",
   "metadata": {},
   "outputs": [
    {
     "name": "stdout",
     "output_type": "stream",
     "text": [
      "                              mean  count           std    CI95_Low_z  \\\n",
      "Team                                                                    \n",
      "Business Development  90520.397727     88  34003.949519  83415.724659   \n",
      "Client Services       89336.658824     85  31388.107545  82663.803014   \n",
      "Distribution          85849.100000     60  34591.228251  77096.311605   \n",
      "Engineering           94369.405063     79  33128.774280  87063.939573   \n",
      "Finance               94519.075000     80  34888.408496  86873.815404   \n",
      "Human Resources       91145.171053     76  33003.806207  83725.010480   \n",
      "Legal                 88066.402985     67  32946.885027  80177.201816   \n",
      "Marketing             90764.081081     74  32547.554819  83348.271348   \n",
      "Product               86935.963855     83  32005.495537  80050.367170   \n",
      "Sales                 91724.819444     72  31003.120063  84563.464076   \n",
      "\n",
      "                        CI95_Low_t      CI95_HI_z      CI95_HI_t  \n",
      "Team                                                              \n",
      "Business Development  83315.649244   97625.070796   97725.146211  \n",
      "Client Services       82566.400881   96009.514633   96106.916766  \n",
      "Distribution          76913.238207   94601.888395   94784.961793  \n",
      "Engineering           86948.963963  101674.870554  101789.846164  \n",
      "Finance               86755.040016  102164.334596  102283.109984  \n",
      "Human Resources       83603.478268   98565.331626   98686.863837  \n",
      "Legal                 80030.026280   95955.604154   96102.779690  \n",
      "Marketing             83223.424202   98179.890814   98304.737960  \n",
      "Product               79947.369334   93821.560541   93924.558376  \n",
      "Sales                 84439.443404   98886.174813   99010.195485  \n"
     ]
    }
   ],
   "source": []
  },
  {
   "cell_type": "code",
   "execution_count": null,
   "id": "b7e4582e-ed32-410e-be59-e3cc4b1c1a02",
   "metadata": {},
   "outputs": [],
   "source": []
  },
  {
   "cell_type": "code",
   "execution_count": 95,
   "id": "d6c510de-1104-437a-bcf6-ad759b68f6af",
   "metadata": {},
   "outputs": [
    {
     "data": {
      "text/plain": [
       "<Axes: xlabel='Team', ylabel='Salary'>"
      ]
     },
     "execution_count": 95,
     "metadata": {},
     "output_type": "execute_result"
    },
    {
     "data": {
      "image/png": "[encoded data removed]",
      "text/plain": [
       "<Figure size 640x480 with 1 Axes>"
      ]
     },
     "metadata": {},
     "output_type": "display_data"
    }
   ],
   "source": [
    "sns.barplot(x=df['Team'],y=df['Salary'])"
   ]
  },
  {
   "cell_type": "code",
   "execution_count": 29,
   "id": "af8ea1a1",
   "metadata": {},
   "outputs": [
    {
     "data": {
      "text/plain": [
       "<AxesSubplot:xlabel='Team', ylabel='Salary'>"
      ]
     },
     "execution_count": 29,
     "metadata": {},
     "output_type": "execute_result"
    },
    {
     "data": {
      "image/png": "[encoded data removed]",
      "text/plain": [
       "<Figure size 1440x720 with 1 Axes>"
      ]
     },
     "metadata": {
      "needs_background": "light"
     },
     "output_type": "display_data"
    }
   ],
   "source": []
  },
  {
   "cell_type": "markdown",
   "id": "bf6db06a",
   "metadata": {},
   "source": [
    "## Hypothesis Testing"
   ]
  },
  {
   "cell_type": "markdown",
   "id": "d8c24a16",
   "metadata": {},
   "source": [
    "### Plot a histogram of salary."
   ]
  },
  {
   "cell_type": "code",
   "execution_count": null,
   "id": "1b1e2b27-1f9b-4a07-9e26-43d263f7e931",
   "metadata": {},
   "outputs": [],
   "source": []
  },
  {
   "cell_type": "code",
   "execution_count": 98,
   "id": "6eec6162-671b-44c7-92c7-8bbeb074713d",
   "metadata": {},
   "outputs": [
    {
     "data": {
      "text/plain": [
       "<Axes: xlabel='Salary', ylabel='Count'>"
      ]
     },
     "execution_count": 98,
     "metadata": {},
     "output_type": "execute_result"
    },
    {
     "data": {
      "image/png": "[encoded data removed]",
      "text/plain": [
       "<Figure size 640x480 with 1 Axes>"
      ]
     },
     "metadata": {},
     "output_type": "display_data"
    }
   ],
   "source": [
    "sns.histplot(df['Salary'])"
   ]
  },
  {
   "cell_type": "code",
   "execution_count": 30,
   "id": "8cf50603",
   "metadata": {},
   "outputs": [
    {
     "data": {
      "text/plain": [
       "<AxesSubplot:xlabel='Salary', ylabel='Count'>"
      ]
     },
     "execution_count": 30,
     "metadata": {},
     "output_type": "execute_result"
    },
    {
     "data": {
      "image/png": "[encoded data removed]",
      "text/plain": [
       "<Figure size 432x288 with 1 Axes>"
      ]
     },
     "metadata": {
      "needs_background": "light"
     },
     "output_type": "display_data"
    }
   ],
   "source": []
  },
  {
   "cell_type": "markdown",
   "id": "60a03f24",
   "metadata": {},
   "source": [
    "### Find mean, standard deviation, and count of salary."
   ]
  },
  {
   "cell_type": "code",
   "execution_count": null,
   "id": "37c585c2-86b9-4537-8671-71a13d79ba20",
   "metadata": {},
   "outputs": [],
   "source": []
  },
  {
   "cell_type": "code",
   "execution_count": 101,
   "id": "c7e844fd-cdf2-4ac7-9b8f-e81387dc0e20",
   "metadata": {},
   "outputs": [
    {
     "name": "stdout",
     "output_type": "stream",
     "text": [
      "90662.181\n",
      "32923.69334202223\n",
      "1000\n"
     ]
    }
   ],
   "source": [
    "print(df['Salary'].mean())\n",
    "print(df['Salary'].std())\n",
    "print(df['Salary'].count())"
   ]
  },
  {
   "cell_type": "code",
   "execution_count": 108,
   "id": "804939d9-eb3f-4c4e-ad7b-449bd719d44a",
   "metadata": {},
   "outputs": [
    {
     "data": {
      "text/plain": [
       "90662.181"
      ]
     },
     "execution_count": 108,
     "metadata": {},
     "output_type": "execute_result"
    }
   ],
   "source": [
    "s_mean=df['Salary'].mean()\n",
    "s_mean"
   ]
  },
  {
   "cell_type": "code",
   "execution_count": 31,
   "id": "b6f1461b",
   "metadata": {},
   "outputs": [
    {
     "name": "stdout",
     "output_type": "stream",
     "text": [
      "mean: 90433.19633507854\n",
      "std.: 32864.665282356\n",
      "count: 764\n"
     ]
    }
   ],
   "source": []
  },
  {
   "cell_type": "markdown",
   "id": "ec55c23f",
   "metadata": {},
   "source": [
    "### For all of the following Hypothesis Tests you must:\n",
    "#### Define your null and alternate Hypothesis.\n",
    "#### Perform z-test and t-test. (this is only used for comparison. However, you should know z-test is used for proportion and t-test is used for mean).\n",
    "#### State which test you need (two tailed / one tailed - right or left )\n",
    "#### The calculation must be performed using the Hypothesis test equations. \n",
    "#### i.e., calculate the standard error then calculate the z or t values then calculate p-value once using z-distribution and once using t-distribution.\n",
    "#### Repeat using statsmodels.stats.weightstats.ztest() and scipy.stats.ttest_1samp() to confirm the obtained results.\n",
    "#### Write down your conclusion (Reject H0 or not)."
   ]
  },
  {
   "cell_type": "markdown",
   "id": "3da9fb4f",
   "metadata": {},
   "source": [
    "**The claim is that the mean salary is 90000. Check if the data supports this claim or not. i.e., reject this claim or not.**"
   ]
  },
  {
   "cell_type": "code",
   "execution_count": 124,
   "id": "58718b4e-bfd5-4e50-bf27-3a1d39fb5734",
   "metadata": {},
   "outputs": [],
   "source": [
    "claimed_mean_salary = 9000\n",
    "sample_mean = df['Salary'].mean()\n",
    "sample_std = df['Salary'].std()\n",
    "n=df['Salary'].count()\n",
    "degree_of_freedom=n-1\n",
    "standard_error = sample_std / np.sqrt(n)\n",
    "z_value = (sample_mean - claimed_mean_salary) / standard_error\n",
    "p_value_z = 2 * (1 - stats.norm.cdf(z_value))\n",
    "p_value_t = 2 * t.cdf(z_value,df=degree_of_freedom)"
   ]
  },
  {
   "cell_type": "code",
   "execution_count": 127,
   "id": "d9763b0d-4c1e-45a6-abf9-b743993ca996",
   "metadata": {},
   "outputs": [
    {
     "name": "stdout",
     "output_type": "stream",
     "text": [
      "sample_mean=90662.181\n",
      "p_value_z=0.0\n",
      "p_value_t=2.0\n"
     ]
    }
   ],
   "source": [
    "print(f'sample_mean={sample_mean}')\n",
    "print(f'p_value_z={p_value_z}')\n",
    "print(f'p_value_t={p_value_t}')"
   ]
  },
  {
   "cell_type": "code",
   "execution_count": 34,
   "id": "33d5373c",
   "metadata": {},
   "outputs": [
    {
     "name": "stdout",
     "output_type": "stream",
     "text": [
      "Sample mean: 90433.19633507854\n",
      "t or z value: 0.3643361288778425\n",
      "p-value using z-dist.: 0.7156070241477361\n",
      "p-value using t-dist.: 0.7157079691365715\n"
     ]
    }
   ],
   "source": [
    "# Using Hypothesis test equations\n"
   ]
  },
  {
   "cell_type": "code",
   "execution_count": null,
   "id": "6e5a8452-73ba-4565-98c5-2d274a5c7174",
   "metadata": {},
   "outputs": [],
   "source": []
  },
  {
   "cell_type": "code",
   "execution_count": 33,
   "id": "532f4773",
   "metadata": {},
   "outputs": [
    {
     "name": "stdout",
     "output_type": "stream",
     "text": [
      "z-value: 0.3643361288778422\n",
      "p-value using z-dist: 0.7156070241477364\n"
     ]
    }
   ],
   "source": [
    "# Using statsmodels.stats.weightstats.ztest() \n"
   ]
  },
  {
   "cell_type": "code",
   "execution_count": 134,
   "id": "ba42909c-3381-445f-b9fb-cf9dc6a9e2e2",
   "metadata": {},
   "outputs": [],
   "source": [
    "import statsmodels.api as sm\n",
    "import statsmodels as sm"
   ]
  },
  {
   "cell_type": "code",
   "execution_count": 140,
   "id": "77deaab9-aecd-404b-8f51-44cba7e6cc9c",
   "metadata": {},
   "outputs": [],
   "source": [
    "z_test_result = sm.stats.weightstats.ztest(df['Salary'], value=9000)\n",
    "z_value = z_test_result[0]\n",
    "p_value_z = z_test_result[1]\n",
    "t_test_result = stats.ttest_1samp(df['Salary'], claimed_mean_salary)"
   ]
  },
  {
   "cell_type": "code",
   "execution_count": 141,
   "id": "1bcf80a2-5ba6-42d8-b54d-dc1100b63d59",
   "metadata": {},
   "outputs": [
    {
     "data": {
      "text/plain": [
       "78.43545618477847"
      ]
     },
     "execution_count": 141,
     "metadata": {},
     "output_type": "execute_result"
    }
   ],
   "source": [
    "z_value"
   ]
  },
  {
   "cell_type": "code",
   "execution_count": 142,
   "id": "6f6346bb-1e66-40c8-b047-5a263675c469",
   "metadata": {},
   "outputs": [
    {
     "data": {
      "text/plain": [
       "0.0"
      ]
     },
     "execution_count": 142,
     "metadata": {},
     "output_type": "execute_result"
    }
   ],
   "source": [
    "p_value_z"
   ]
  },
  {
   "cell_type": "code",
   "execution_count": 137,
   "id": "c4543bc7-9165-4298-99f3-30b2a916a8e9",
   "metadata": {},
   "outputs": [
    {
     "name": "stdout",
     "output_type": "stream",
     "text": [
      "sample_mean=90662.181\n",
      "p_value_z=(78.43545618477847, 0.0)\n",
      "p_value_t=TtestResult(statistic=78.43545618477847, pvalue=0.0, df=999)\n"
     ]
    }
   ],
   "source": [
    "print(f'sample_mean={sample_mean}')\n",
    "print(f'p_value_z={z_test_result}')\n",
    "print(f'p_value_t={t_test_result}')"
   ]
  },
  {
   "cell_type": "code",
   "execution_count": 34,
   "id": "86e2b3b0",
   "metadata": {},
   "outputs": [
    {
     "name": "stdout",
     "output_type": "stream",
     "text": [
      "t-value: 0.3643361288778422\n",
      "p-value using t-dist: 0.7157079691365718\n"
     ]
    }
   ],
   "source": [
    "# Using scipy.stats.ttest_1samp() \n"
   ]
  },
  {
   "cell_type": "markdown",
   "id": "6c1afb49",
   "metadata": {},
   "source": [
    "### The claim is that the mean salary is 100000. Check if the data supports this claim or not. i.e., reject this claim or not."
   ]
  },
  {
   "cell_type": "code",
   "execution_count": 144,
   "id": "eb726114-6ade-4463-8298-e111c154463c",
   "metadata": {},
   "outputs": [],
   "source": [
    "sample_mean = df['Salary'].mean()\n",
    "sample_std = df['Salary'].std(ddof=1)\n",
    "standard_error = sample_std / np.sqrt(len(df['Salary']))\n",
    "z_value = (sample_mean - claimed_mean_salary) / standard_error\n",
    "p_value_z = 2 * (1 - stats.norm.cdf(np.abs(z_value)))"
   ]
  },
  {
   "cell_type": "code",
   "execution_count": null,
   "id": "f65e3963-4583-4d4b-998d-76a67b059991",
   "metadata": {},
   "outputs": [],
   "source": [
    "z_score = stats.norm.ppf(1-(1 - 0.95) / 2)"
   ]
  },
  {
   "cell_type": "code",
   "execution_count": 145,
   "id": "2c828126-7a25-48dd-8d94-567b04d26756",
   "metadata": {},
   "outputs": [
    {
     "data": {
      "text/plain": [
       "78.43545618477846"
      ]
     },
     "execution_count": 145,
     "metadata": {},
     "output_type": "execute_result"
    }
   ],
   "source": [
    "z_value"
   ]
  },
  {
   "cell_type": "code",
   "execution_count": null,
   "id": "1be83f1f-2fd1-4731-a69e-c789b7843c4f",
   "metadata": {},
   "outputs": [],
   "source": []
  },
  {
   "cell_type": "code",
   "execution_count": 38,
   "id": "19d6ec78",
   "metadata": {},
   "outputs": [
    {
     "name": "stdout",
     "output_type": "stream",
     "text": [
      "Sample mean: 90433.19633507854\n",
      "t or z value: -8.046079642801976\n",
      "p-value using z-dist.: 8.881784197001252e-16\n",
      "p-value using t-dist.: 3.1086244689504383e-15\n"
     ]
    }
   ],
   "source": [
    "# Using Hypothesis test equations\n"
   ]
  },
  {
   "cell_type": "code",
   "execution_count": 36,
   "id": "e8a85387",
   "metadata": {},
   "outputs": [
    {
     "name": "stdout",
     "output_type": "stream",
     "text": [
      "z-value: -8.04607964280197\n",
      "p-value using z-dist: 8.548837039392978e-16\n"
     ]
    }
   ],
   "source": [
    "# Using statsmodels.stats.weightstats.ztest() \n"
   ]
  },
  {
   "cell_type": "code",
   "execution_count": 37,
   "id": "d7955eaa",
   "metadata": {},
   "outputs": [
    {
     "name": "stdout",
     "output_type": "stream",
     "text": [
      "t-value: -8.04607964280197\n",
      "p-value using t-dist: 3.266925104077574e-15\n"
     ]
    }
   ],
   "source": [
    "# Using scipy.stats.ttest_1samp() \n"
   ]
  },
  {
   "cell_type": "markdown",
   "id": "7c9b6ddb",
   "metadata": {},
   "source": [
    "### The claim is that the mean salary is greater than or equal to 92000. Check if the data supports this claim or not. i.e., reject this claim or not."
   ]
  },
  {
   "cell_type": "code",
   "execution_count": 41,
   "id": "5e0c326e",
   "metadata": {},
   "outputs": [
    {
     "name": "stdout",
     "output_type": "stream",
     "text": [
      "Sample mean: 90433.19633507854\n",
      "t or z value: -1.3177470254581212\n",
      "p-value using z-dist: 0.0937941733886824\n",
      "p-value using t-dist: 0.0939919301061735\n"
     ]
    }
   ],
   "source": [
    "# Using Hypothesis test equations\n"
   ]
  },
  {
   "cell_type": "code",
   "execution_count": 39,
   "id": "cc533921",
   "metadata": {},
   "outputs": [
    {
     "name": "stdout",
     "output_type": "stream",
     "text": [
      "z-value: -1.3177470254581203\n",
      "p-value using z-dist: 0.09379417338868268\n"
     ]
    }
   ],
   "source": [
    "# Using statsmodels.stats.weightstats.ztest() \n"
   ]
  },
  {
   "cell_type": "code",
   "execution_count": 40,
   "id": "52d4a33b",
   "metadata": {},
   "outputs": [
    {
     "name": "stdout",
     "output_type": "stream",
     "text": [
      "t-value: -1.3177470254581203\n",
      "p-value using t-dist: 0.0939919301061736\n"
     ]
    }
   ],
   "source": [
    "# Using scipy.stats.ttest_1samp() \n"
   ]
  },
  {
   "cell_type": "markdown",
   "id": "2be529af",
   "metadata": {},
   "source": [
    "### The claim is that the mean salary is greater than or equal to 93000. Check if the data supports this claim or not. i.e., reject this claim or not."
   ]
  },
  {
   "cell_type": "code",
   "execution_count": 45,
   "id": "e79815c8",
   "metadata": {},
   "outputs": [
    {
     "name": "stdout",
     "output_type": "stream",
     "text": [
      "Sample mean: 90433.19633507854\n",
      "t or z value: -2.158788602626103\n",
      "p-value using z-dist: 0.015433285555675354\n",
      "p-value using t-dist: 0.015588852380115925\n"
     ]
    }
   ],
   "source": [
    "# Using Hypothesis test equations\n"
   ]
  },
  {
   "cell_type": "code",
   "execution_count": 42,
   "id": "8c08904e",
   "metadata": {},
   "outputs": [
    {
     "name": "stdout",
     "output_type": "stream",
     "text": [
      "z-value: -2.1587886026261014\n",
      "p-value using z-dist: 0.015433285555675419\n"
     ]
    }
   ],
   "source": [
    "# Using statsmodels.stats.weightstats.ztest() \n"
   ]
  },
  {
   "cell_type": "code",
   "execution_count": 43,
   "id": "787d5e3a",
   "metadata": {},
   "outputs": [
    {
     "name": "stdout",
     "output_type": "stream",
     "text": [
      "t-value: -2.1587886026261014\n",
      "p-value using t-dist: 0.015588852380116005\n"
     ]
    }
   ],
   "source": [
    "# Using scipy.stats.ttest_1samp() \n"
   ]
  },
  {
   "cell_type": "markdown",
   "id": "b8a757e1",
   "metadata": {},
   "source": [
    "### The claim is that the mean salary is less than or equal to 88000. Check if the data supports this claim or not. i.e., reject this claim or not."
   ]
  },
  {
   "cell_type": "code",
   "execution_count": 46,
   "id": "3ed0da15",
   "metadata": {},
   "outputs": [
    {
     "name": "stdout",
     "output_type": "stream",
     "text": [
      "Sample mean: 90433.19633507854\n",
      "t or z value: 2.0464192832138064\n",
      "p-value using z-dist: 0.02035756823028878\n",
      "p-value using t-dist: 0.020528674104731914\n"
     ]
    }
   ],
   "source": [
    "# Using Hypothesis test equations\n"
   ]
  },
  {
   "cell_type": "code",
   "execution_count": 45,
   "id": "3e6026d4",
   "metadata": {},
   "outputs": [
    {
     "name": "stdout",
     "output_type": "stream",
     "text": [
      "z-value: 2.0464192832138046\n",
      "p-value using z-dist: 0.020357568230288822\n"
     ]
    }
   ],
   "source": [
    "# Using statsmodels.stats.weightstats.ztest() \n"
   ]
  },
  {
   "cell_type": "code",
   "execution_count": 46,
   "id": "be6d3c89",
   "metadata": {},
   "outputs": [
    {
     "name": "stdout",
     "output_type": "stream",
     "text": [
      "t-value: 2.0464192832138046\n",
      "p-value using t-dist: 0.020528674104732036\n"
     ]
    }
   ],
   "source": [
    "# Using scipy.stats.ttest_1samp() \n"
   ]
  },
  {
   "cell_type": "markdown",
   "id": "3ffdc34f",
   "metadata": {},
   "source": [
    "### The claim is that the mean salary is less than or equal to 90000. Check if the data supports this claim or not. i.e., reject this claim or not."
   ]
  },
  {
   "cell_type": "code",
   "execution_count": 49,
   "id": "c68f8657",
   "metadata": {},
   "outputs": [
    {
     "name": "stdout",
     "output_type": "stream",
     "text": [
      "Sample mean: 90433.19633507854\n",
      "t or z value: 0.3643361288778425\n",
      "p-value using z-dist: 0.35780351207386807\n",
      "p-value using t-dist: 0.35785398456828577\n"
     ]
    }
   ],
   "source": [
    "# Using Hypothesis test equations\n"
   ]
  },
  {
   "cell_type": "code",
   "execution_count": 48,
   "id": "a5e6f392",
   "metadata": {},
   "outputs": [
    {
     "name": "stdout",
     "output_type": "stream",
     "text": [
      "z-value: 0.3643361288778422\n",
      "p-value using z-dist: 0.3578035120738682\n"
     ]
    }
   ],
   "source": [
    "# Using statsmodels.stats.weightstats.ztest() \n"
   ]
  },
  {
   "cell_type": "code",
   "execution_count": 49,
   "id": "ac7728ba",
   "metadata": {},
   "outputs": [
    {
     "name": "stdout",
     "output_type": "stream",
     "text": [
      "t-value: 0.3643361288778422\n",
      "p-value using t-dist: 0.3578539845682859\n"
     ]
    }
   ],
   "source": [
    "# Using scipy.stats.ttest_1samp() \n"
   ]
  }
 ],
 "metadata": {
  "kernelspec": {
   "display_name": "Python 3 (ipykernel)",
   "language": "python",
   "name": "python3"
  },
  "language_info": {
   "codemirror_mode": {
    "name": "ipython",
    "version": 3
   },
   "file_extension": ".py",
   "mimetype": "text/x-python",
   "name": "python",
   "nbconvert_exporter": "python",
   "pygments_lexer": "ipython3",
   "version": "3.11.1"
  }
 },
 "nbformat": 4,
 "nbformat_minor": 5
}
