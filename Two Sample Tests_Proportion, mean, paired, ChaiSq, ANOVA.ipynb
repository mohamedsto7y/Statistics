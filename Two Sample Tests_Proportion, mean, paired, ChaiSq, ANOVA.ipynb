{
 "cells": [
  {
   "cell_type": "markdown",
   "id": "461ca126",
   "metadata": {},
   "source": [
    "## Read advertising.csv"
   ]
  },
  {
   "cell_type": "code",
   "execution_count": 127,
   "id": "50b8a79a-9b18-44a7-aeee-58d397fec766",
   "metadata": {},
   "outputs": [],
   "source": [
    "import pandas as pd\n",
    "import numpy as np\n",
    "import scipy.stats as st\n",
    "import seaborn as sns\n",
    "from scipy.stats import ttest_ind\n",
    "from scipy.stats import norm, t\n",
    "from statsmodels.stats.proportion import proportions_ztest, proportion_confint\n"
   ]
  },
  {
   "cell_type": "code",
   "execution_count": 22,
   "id": "5ac4b231-d4bb-4f7c-ad9f-8bce611c1515",
   "metadata": {},
   "outputs": [],
   "source": [
    "df = pd.read_csv('advertising.csv')"
   ]
  },
  {
   "cell_type": "code",
   "execution_count": 23,
   "id": "ff393009-6fb0-4d33-be43-62b35e8f21ee",
   "metadata": {},
   "outputs": [
    {
     "name": "stdout",
     "output_type": "stream",
     "text": [
      "<class 'pandas.core.frame.DataFrame'>\n",
      "RangeIndex: 1000 entries, 0 to 999\n",
      "Data columns (total 10 columns):\n",
      " #   Column                    Non-Null Count  Dtype  \n",
      "---  ------                    --------------  -----  \n",
      " 0   Daily Time Spent on Site  1000 non-null   float64\n",
      " 1   Age                       1000 non-null   int64  \n",
      " 2   Area Income               1000 non-null   float64\n",
      " 3   Daily Internet Usage      1000 non-null   float64\n",
      " 4   Ad Topic Line             1000 non-null   object \n",
      " 5   City                      1000 non-null   object \n",
      " 6   Male                      1000 non-null   int64  \n",
      " 7   Country                   1000 non-null   object \n",
      " 8   Timestamp                 1000 non-null   object \n",
      " 9   Clicked on Ad             1000 non-null   int64  \n",
      "dtypes: float64(3), int64(3), object(4)\n",
      "memory usage: 78.2+ KB\n"
     ]
    }
   ],
   "source": [
    "df.info()"
   ]
  },
  {
   "cell_type": "code",
   "execution_count": 3,
   "id": "650598e2",
   "metadata": {},
   "outputs": [
    {
     "name": "stdout",
     "output_type": "stream",
     "text": [
      "<class 'pandas.core.frame.DataFrame'>\n",
      "RangeIndex: 1000 entries, 0 to 999\n",
      "Data columns (total 10 columns):\n",
      " #   Column                    Non-Null Count  Dtype  \n",
      "---  ------                    --------------  -----  \n",
      " 0   Daily Time Spent on Site  1000 non-null   float64\n",
      " 1   Age                       1000 non-null   int64  \n",
      " 2   Area Income               1000 non-null   float64\n",
      " 3   Daily Internet Usage      1000 non-null   float64\n",
      " 4   Ad Topic Line             1000 non-null   object \n",
      " 5   City                      1000 non-null   object \n",
      " 6   Male                      1000 non-null   int64  \n",
      " 7   Country                   1000 non-null   object \n",
      " 8   Timestamp                 1000 non-null   object \n",
      " 9   Clicked on Ad             1000 non-null   int64  \n",
      "dtypes: float64(3), int64(3), object(4)\n",
      "memory usage: 78.2+ KB\n"
     ]
    }
   ],
   "source": []
  },
  {
   "cell_type": "code",
   "execution_count": 6,
   "id": "8d4e34e3-9c13-485d-82ad-ac2a88ce215b",
   "metadata": {},
   "outputs": [
    {
     "data": {
      "text/html": [
       "<div>\n",
       "<style scoped>\n",
       "    .dataframe tbody tr th:only-of-type {\n",
       "        vertical-align: middle;\n",
       "    }\n",
       "\n",
       "    .dataframe tbody tr th {\n",
       "        vertical-align: top;\n",
       "    }\n",
       "\n",
       "    .dataframe thead th {\n",
       "        text-align: right;\n",
       "    }\n",
       "</style>\n",
       "<table border=\"1\" class=\"dataframe\">\n",
       "  <thead>\n",
       "    <tr style=\"text-align: right;\">\n",
       "      <th></th>\n",
       "      <th>Daily Time Spent on Site</th>\n",
       "      <th>Age</th>\n",
       "      <th>Area Income</th>\n",
       "      <th>Daily Internet Usage</th>\n",
       "      <th>Ad Topic Line</th>\n",
       "      <th>City</th>\n",
       "      <th>Male</th>\n",
       "      <th>Country</th>\n",
       "      <th>Timestamp</th>\n",
       "      <th>Clicked on Ad</th>\n",
       "    </tr>\n",
       "  </thead>\n",
       "  <tbody>\n",
       "    <tr>\n",
       "      <th>0</th>\n",
       "      <td>68.95</td>\n",
       "      <td>35</td>\n",
       "      <td>61833.90</td>\n",
       "      <td>256.09</td>\n",
       "      <td>Cloned 5thgeneration orchestration</td>\n",
       "      <td>Wrightburgh</td>\n",
       "      <td>0</td>\n",
       "      <td>Tunisia</td>\n",
       "      <td>2016-03-27 00:53:11</td>\n",
       "      <td>0</td>\n",
       "    </tr>\n",
       "    <tr>\n",
       "      <th>1</th>\n",
       "      <td>80.23</td>\n",
       "      <td>31</td>\n",
       "      <td>68441.85</td>\n",
       "      <td>193.77</td>\n",
       "      <td>Monitored national standardization</td>\n",
       "      <td>West Jodi</td>\n",
       "      <td>1</td>\n",
       "      <td>Nauru</td>\n",
       "      <td>2016-04-04 01:39:02</td>\n",
       "      <td>0</td>\n",
       "    </tr>\n",
       "    <tr>\n",
       "      <th>2</th>\n",
       "      <td>69.47</td>\n",
       "      <td>26</td>\n",
       "      <td>59785.94</td>\n",
       "      <td>236.50</td>\n",
       "      <td>Organic bottom-line service-desk</td>\n",
       "      <td>Davidton</td>\n",
       "      <td>0</td>\n",
       "      <td>San Marino</td>\n",
       "      <td>2016-03-13 20:35:42</td>\n",
       "      <td>0</td>\n",
       "    </tr>\n",
       "    <tr>\n",
       "      <th>3</th>\n",
       "      <td>74.15</td>\n",
       "      <td>29</td>\n",
       "      <td>54806.18</td>\n",
       "      <td>245.89</td>\n",
       "      <td>Triple-buffered reciprocal time-frame</td>\n",
       "      <td>West Terrifurt</td>\n",
       "      <td>1</td>\n",
       "      <td>Italy</td>\n",
       "      <td>2016-01-10 02:31:19</td>\n",
       "      <td>0</td>\n",
       "    </tr>\n",
       "    <tr>\n",
       "      <th>4</th>\n",
       "      <td>68.37</td>\n",
       "      <td>35</td>\n",
       "      <td>73889.99</td>\n",
       "      <td>225.58</td>\n",
       "      <td>Robust logistical utilization</td>\n",
       "      <td>South Manuel</td>\n",
       "      <td>0</td>\n",
       "      <td>Iceland</td>\n",
       "      <td>2016-06-03 03:36:18</td>\n",
       "      <td>0</td>\n",
       "    </tr>\n",
       "  </tbody>\n",
       "</table>\n",
       "</div>"
      ],
      "text/plain": [
       "   Daily Time Spent on Site  Age  Area Income  Daily Internet Usage  \\\n",
       "0                     68.95   35     61833.90                256.09   \n",
       "1                     80.23   31     68441.85                193.77   \n",
       "2                     69.47   26     59785.94                236.50   \n",
       "3                     74.15   29     54806.18                245.89   \n",
       "4                     68.37   35     73889.99                225.58   \n",
       "\n",
       "                           Ad Topic Line            City  Male     Country  \\\n",
       "0     Cloned 5thgeneration orchestration     Wrightburgh     0     Tunisia   \n",
       "1     Monitored national standardization       West Jodi     1       Nauru   \n",
       "2       Organic bottom-line service-desk        Davidton     0  San Marino   \n",
       "3  Triple-buffered reciprocal time-frame  West Terrifurt     1       Italy   \n",
       "4          Robust logistical utilization    South Manuel     0     Iceland   \n",
       "\n",
       "             Timestamp  Clicked on Ad  \n",
       "0  2016-03-27 00:53:11              0  \n",
       "1  2016-04-04 01:39:02              0  \n",
       "2  2016-03-13 20:35:42              0  \n",
       "3  2016-01-10 02:31:19              0  \n",
       "4  2016-06-03 03:36:18              0  "
      ]
     },
     "execution_count": 6,
     "metadata": {},
     "output_type": "execute_result"
    }
   ],
   "source": [
    "df.head()"
   ]
  },
  {
   "cell_type": "code",
   "execution_count": 4,
   "id": "c0ad3edb",
   "metadata": {
    "scrolled": true
   },
   "outputs": [
    {
     "data": {
      "text/html": [
       "<div>\n",
       "<style scoped>\n",
       "    .dataframe tbody tr th:only-of-type {\n",
       "        vertical-align: middle;\n",
       "    }\n",
       "\n",
       "    .dataframe tbody tr th {\n",
       "        vertical-align: top;\n",
       "    }\n",
       "\n",
       "    .dataframe thead th {\n",
       "        text-align: right;\n",
       "    }\n",
       "</style>\n",
       "<table border=\"1\" class=\"dataframe\">\n",
       "  <thead>\n",
       "    <tr style=\"text-align: right;\">\n",
       "      <th></th>\n",
       "      <th>Daily Time Spent on Site</th>\n",
       "      <th>Age</th>\n",
       "      <th>Area Income</th>\n",
       "      <th>Daily Internet Usage</th>\n",
       "      <th>Ad Topic Line</th>\n",
       "      <th>City</th>\n",
       "      <th>Male</th>\n",
       "      <th>Country</th>\n",
       "      <th>Timestamp</th>\n",
       "      <th>Clicked on Ad</th>\n",
       "    </tr>\n",
       "  </thead>\n",
       "  <tbody>\n",
       "    <tr>\n",
       "      <th>0</th>\n",
       "      <td>68.95</td>\n",
       "      <td>35</td>\n",
       "      <td>61833.90</td>\n",
       "      <td>256.09</td>\n",
       "      <td>Cloned 5thgeneration orchestration</td>\n",
       "      <td>Wrightburgh</td>\n",
       "      <td>0</td>\n",
       "      <td>Tunisia</td>\n",
       "      <td>2016-03-27 00:53:11</td>\n",
       "      <td>0</td>\n",
       "    </tr>\n",
       "    <tr>\n",
       "      <th>1</th>\n",
       "      <td>80.23</td>\n",
       "      <td>31</td>\n",
       "      <td>68441.85</td>\n",
       "      <td>193.77</td>\n",
       "      <td>Monitored national standardization</td>\n",
       "      <td>West Jodi</td>\n",
       "      <td>1</td>\n",
       "      <td>Nauru</td>\n",
       "      <td>2016-04-04 01:39:02</td>\n",
       "      <td>0</td>\n",
       "    </tr>\n",
       "    <tr>\n",
       "      <th>2</th>\n",
       "      <td>69.47</td>\n",
       "      <td>26</td>\n",
       "      <td>59785.94</td>\n",
       "      <td>236.50</td>\n",
       "      <td>Organic bottom-line service-desk</td>\n",
       "      <td>Davidton</td>\n",
       "      <td>0</td>\n",
       "      <td>San Marino</td>\n",
       "      <td>2016-03-13 20:35:42</td>\n",
       "      <td>0</td>\n",
       "    </tr>\n",
       "    <tr>\n",
       "      <th>3</th>\n",
       "      <td>74.15</td>\n",
       "      <td>29</td>\n",
       "      <td>54806.18</td>\n",
       "      <td>245.89</td>\n",
       "      <td>Triple-buffered reciprocal time-frame</td>\n",
       "      <td>West Terrifurt</td>\n",
       "      <td>1</td>\n",
       "      <td>Italy</td>\n",
       "      <td>2016-01-10 02:31:19</td>\n",
       "      <td>0</td>\n",
       "    </tr>\n",
       "    <tr>\n",
       "      <th>4</th>\n",
       "      <td>68.37</td>\n",
       "      <td>35</td>\n",
       "      <td>73889.99</td>\n",
       "      <td>225.58</td>\n",
       "      <td>Robust logistical utilization</td>\n",
       "      <td>South Manuel</td>\n",
       "      <td>0</td>\n",
       "      <td>Iceland</td>\n",
       "      <td>2016-06-03 03:36:18</td>\n",
       "      <td>0</td>\n",
       "    </tr>\n",
       "  </tbody>\n",
       "</table>\n",
       "</div>"
      ],
      "text/plain": [
       "   Daily Time Spent on Site  Age  Area Income  Daily Internet Usage  \\\n",
       "0                     68.95   35     61833.90                256.09   \n",
       "1                     80.23   31     68441.85                193.77   \n",
       "2                     69.47   26     59785.94                236.50   \n",
       "3                     74.15   29     54806.18                245.89   \n",
       "4                     68.37   35     73889.99                225.58   \n",
       "\n",
       "                           Ad Topic Line            City  Male     Country  \\\n",
       "0     Cloned 5thgeneration orchestration     Wrightburgh     0     Tunisia   \n",
       "1     Monitored national standardization       West Jodi     1       Nauru   \n",
       "2       Organic bottom-line service-desk        Davidton     0  San Marino   \n",
       "3  Triple-buffered reciprocal time-frame  West Terrifurt     1       Italy   \n",
       "4          Robust logistical utilization    South Manuel     0     Iceland   \n",
       "\n",
       "             Timestamp  Clicked on Ad  \n",
       "0  2016-03-27 00:53:11              0  \n",
       "1  2016-04-04 01:39:02              0  \n",
       "2  2016-03-13 20:35:42              0  \n",
       "3  2016-01-10 02:31:19              0  \n",
       "4  2016-06-03 03:36:18              0  "
      ]
     },
     "execution_count": 4,
     "metadata": {},
     "output_type": "execute_result"
    }
   ],
   "source": []
  },
  {
   "cell_type": "markdown",
   "id": "48f07234",
   "metadata": {},
   "source": [
    "## Comparing Proportions (CI - Hypothesis Test)\n",
    "### Check for significance difference between Male and Female in Click on Ad.\n",
    "### Find the CI for this difference.\n",
    "### Define and write your null and alternate hypothesis.\n",
    "### Write your conclusion (Reject/not reject null hypothesis) and explain what does it mean (there is significance difference or not).\n",
    "### Solve using the calculation steps and confirm using \"scipy.stats.ttest_ind()\""
   ]
  },
  {
   "cell_type": "code",
   "execution_count": 9,
   "id": "0dd61043-d824-4e11-bbe7-d12d97339ba5",
   "metadata": {},
   "outputs": [
    {
     "data": {
      "text/plain": [
       "Male\n",
       "0    519\n",
       "1    481\n",
       "Name: count, dtype: int64"
      ]
     },
     "execution_count": 9,
     "metadata": {},
     "output_type": "execute_result"
    }
   ],
   "source": [
    "df['Male'].value_counts()"
   ]
  },
  {
   "cell_type": "code",
   "execution_count": 5,
   "id": "afde3481",
   "metadata": {},
   "outputs": [
    {
     "data": {
      "text/plain": [
       "0    519\n",
       "1    481\n",
       "Name: Male, dtype: int64"
      ]
     },
     "execution_count": 5,
     "metadata": {},
     "output_type": "execute_result"
    }
   ],
   "source": []
  },
  {
   "cell_type": "code",
   "execution_count": 13,
   "id": "a933efc3-8bb1-4ef2-abb1-e6f419c1dda8",
   "metadata": {},
   "outputs": [
    {
     "data": {
      "text/plain": [
       "Clicked on Ad\n",
       "0    500\n",
       "1    500\n",
       "Name: count, dtype: int64"
      ]
     },
     "execution_count": 13,
     "metadata": {},
     "output_type": "execute_result"
    }
   ],
   "source": [
    "df['Clicked on Ad'].value_counts()"
   ]
  },
  {
   "cell_type": "code",
   "execution_count": 6,
   "id": "8a8fe9ea",
   "metadata": {},
   "outputs": [
    {
     "data": {
      "text/plain": [
       "0    500\n",
       "1    500\n",
       "Name: Clicked on Ad, dtype: int64"
      ]
     },
     "execution_count": 6,
     "metadata": {},
     "output_type": "execute_result"
    }
   ],
   "source": []
  },
  {
   "cell_type": "code",
   "execution_count": null,
   "id": "68f243b6-a4ca-4c83-9f76-3f4fafa52ec1",
   "metadata": {},
   "outputs": [],
   "source": []
  },
  {
   "cell_type": "code",
   "execution_count": 116,
   "id": "1d021add-a982-4f74-8d8c-574e301a9d9c",
   "metadata": {},
   "outputs": [
    {
     "data": {
      "text/plain": [
       "<Axes: xlabel='Clicked on Ad', ylabel='count'>"
      ]
     },
     "execution_count": 116,
     "metadata": {},
     "output_type": "execute_result"
    },
    {
     "data": {
      "image/png": "[encoded data removed]",
      "text/plain": [
       "<Figure size 640x480 with 1 Axes>"
      ]
     },
     "metadata": {},
     "output_type": "display_data"
    }
   ],
   "source": [
    "sns.countplot(x='Clicked on Ad', data=df,hue='Male')"
   ]
  },
  {
   "cell_type": "code",
   "execution_count": 43,
   "id": "25a6d1e7",
   "metadata": {},
   "outputs": [
    {
     "data": {
      "text/plain": [
       "<AxesSubplot:xlabel='Clicked on Ad', ylabel='count'>"
      ]
     },
     "execution_count": 43,
     "metadata": {},
     "output_type": "execute_result"
    },
    {
     "data": {
      "image/png": "[encoded data removed]",
      "text/plain": [
       "<Figure size 432x288 with 1 Axes>"
      ]
     },
     "metadata": {
      "needs_background": "light"
     },
     "output_type": "display_data"
    }
   ],
   "source": []
  },
  {
   "cell_type": "code",
   "execution_count": 117,
   "id": "dfb58a2b",
   "metadata": {},
   "outputs": [
    {
     "data": {
      "text/plain": [
       "<Axes: xlabel='Male', ylabel='count'>"
      ]
     },
     "execution_count": 117,
     "metadata": {},
     "output_type": "execute_result"
    },
    {
     "data": {
      "image/png": "[encoded data removed]",
      "text/plain": [
       "<Figure size 640x480 with 1 Axes>"
      ]
     },
     "metadata": {},
     "output_type": "display_data"
    }
   ],
   "source": [
    "sns.countplot(x='Male', data=df,hue='Clicked on Ad')"
   ]
  },
  {
   "cell_type": "code",
   "execution_count": 10,
   "id": "5f403969",
   "metadata": {},
   "outputs": [
    {
     "data": {
      "text/plain": [
       "<AxesSubplot:xlabel='Male', ylabel='Clicked on Ad'>"
      ]
     },
     "execution_count": 10,
     "metadata": {},
     "output_type": "execute_result"
    },
    {
     "data": {
      "image/png": "[encoded data removed]",
      "text/plain": [
       "<Figure size 432x288 with 1 Axes>"
      ]
     },
     "metadata": {
      "needs_background": "light"
     },
     "output_type": "display_data"
    }
   ],
   "source": []
  },
  {
   "cell_type": "code",
   "execution_count": null,
   "id": "cca76b94-2036-49cb-82dd-9dd95ace367f",
   "metadata": {},
   "outputs": [],
   "source": []
  },
  {
   "cell_type": "code",
   "execution_count": 118,
   "id": "c2f846ba-5f6b-4694-bb91-4bc5e0683972",
   "metadata": {},
   "outputs": [
    {
     "name": "stdout",
     "output_type": "stream",
     "text": [
      "<pandas.core.groupby.generic.DataFrameGroupBy object at 0x0000018222F94350>\n"
     ]
    }
   ],
   "source": [
    "male_clicked_counts = df.groupby(['Male', 'Clicked on Ad'])\n",
    "print(male_clicked_counts)"
   ]
  },
  {
   "cell_type": "code",
   "execution_count": 199,
   "id": "0aa7adb3-78d8-4f60-a89c-c8f82c186a84",
   "metadata": {},
   "outputs": [
    {
     "data": {
      "text/html": [
       "<div>\n",
       "<style scoped>\n",
       "    .dataframe tbody tr th:only-of-type {\n",
       "        vertical-align: middle;\n",
       "    }\n",
       "\n",
       "    .dataframe tbody tr th {\n",
       "        vertical-align: top;\n",
       "    }\n",
       "\n",
       "    .dataframe thead th {\n",
       "        text-align: right;\n",
       "    }\n",
       "</style>\n",
       "<table border=\"1\" class=\"dataframe\">\n",
       "  <thead>\n",
       "    <tr style=\"text-align: right;\">\n",
       "      <th></th>\n",
       "      <th>Clicked on Ad</th>\n",
       "    </tr>\n",
       "    <tr>\n",
       "      <th>Male</th>\n",
       "      <th></th>\n",
       "    </tr>\n",
       "  </thead>\n",
       "  <tbody>\n",
       "    <tr>\n",
       "      <th>0</th>\n",
       "      <td>519</td>\n",
       "    </tr>\n",
       "    <tr>\n",
       "      <th>1</th>\n",
       "      <td>481</td>\n",
       "    </tr>\n",
       "  </tbody>\n",
       "</table>\n",
       "</div>"
      ],
      "text/plain": [
       "      Clicked on Ad\n",
       "Male               \n",
       "0               519\n",
       "1               481"
      ]
     },
     "execution_count": 199,
     "metadata": {},
     "output_type": "execute_result"
    }
   ],
   "source": [
    "df_male = pd.DataFrame(df.groupby('Male')['Clicked on Ad'].count())\n",
    "df_male"
   ]
  },
  {
   "cell_type": "code",
   "execution_count": 12,
   "id": "e568b454",
   "metadata": {},
   "outputs": [
    {
     "data": {
      "text/html": [
       "<div>\n",
       "<style scoped>\n",
       "    .dataframe tbody tr th:only-of-type {\n",
       "        vertical-align: middle;\n",
       "    }\n",
       "\n",
       "    .dataframe tbody tr th {\n",
       "        vertical-align: top;\n",
       "    }\n",
       "\n",
       "    .dataframe thead th {\n",
       "        text-align: right;\n",
       "    }\n",
       "</style>\n",
       "<table border=\"1\" class=\"dataframe\">\n",
       "  <thead>\n",
       "    <tr style=\"text-align: right;\">\n",
       "      <th></th>\n",
       "      <th>Clicked on Ad</th>\n",
       "    </tr>\n",
       "    <tr>\n",
       "      <th>Male</th>\n",
       "      <th></th>\n",
       "    </tr>\n",
       "  </thead>\n",
       "  <tbody>\n",
       "    <tr>\n",
       "      <th>0</th>\n",
       "      <td>519</td>\n",
       "    </tr>\n",
       "    <tr>\n",
       "      <th>1</th>\n",
       "      <td>481</td>\n",
       "    </tr>\n",
       "  </tbody>\n",
       "</table>\n",
       "</div>"
      ],
      "text/plain": [
       "      Clicked on Ad\n",
       "Male               \n",
       "0               519\n",
       "1               481"
      ]
     },
     "execution_count": 12,
     "metadata": {},
     "output_type": "execute_result"
    }
   ],
   "source": []
  },
  {
   "cell_type": "code",
   "execution_count": 123,
   "id": "75ed450f-fa24-4338-a2c1-5f976c5d0e85",
   "metadata": {},
   "outputs": [
    {
     "name": "stdout",
     "output_type": "stream",
     "text": [
      "Male\n",
      "0    269\n",
      "1    231\n",
      "Name: count, dtype: int64\n"
     ]
    }
   ],
   "source": [
    "clicked_on_ad_male_counts = df[df['Clicked on Ad'] == 1]['Male'].value_counts()\n",
    "print(clicked_on_ad_male_counts)"
   ]
  },
  {
   "cell_type": "code",
   "execution_count": null,
   "id": "e49fdb58-35f9-4149-910e-3e9a7a1bf21e",
   "metadata": {},
   "outputs": [],
   "source": []
  },
  {
   "cell_type": "code",
   "execution_count": 201,
   "id": "9be77176-7895-4e8b-8a05-be044b263279",
   "metadata": {},
   "outputs": [
    {
     "data": {
      "text/html": [
       "<div>\n",
       "<style scoped>\n",
       "    .dataframe tbody tr th:only-of-type {\n",
       "        vertical-align: middle;\n",
       "    }\n",
       "\n",
       "    .dataframe tbody tr th {\n",
       "        vertical-align: top;\n",
       "    }\n",
       "\n",
       "    .dataframe thead th {\n",
       "        text-align: right;\n",
       "    }\n",
       "</style>\n",
       "<table border=\"1\" class=\"dataframe\">\n",
       "  <thead>\n",
       "    <tr style=\"text-align: right;\">\n",
       "      <th></th>\n",
       "      <th>Clicked on Ad</th>\n",
       "    </tr>\n",
       "    <tr>\n",
       "      <th>Male</th>\n",
       "      <th></th>\n",
       "    </tr>\n",
       "  </thead>\n",
       "  <tbody>\n",
       "    <tr>\n",
       "      <th>0</th>\n",
       "      <td>0.519</td>\n",
       "    </tr>\n",
       "    <tr>\n",
       "      <th>1</th>\n",
       "      <td>0.481</td>\n",
       "    </tr>\n",
       "  </tbody>\n",
       "</table>\n",
       "</div>"
      ],
      "text/plain": [
       "      Clicked on Ad\n",
       "Male               \n",
       "0             0.519\n",
       "1             0.481"
      ]
     },
     "execution_count": 201,
     "metadata": {},
     "output_type": "execute_result"
    }
   ],
   "source": [
    "proportion = df_male /df_male.sum()\n",
    "proportion"
   ]
  },
  {
   "cell_type": "code",
   "execution_count": 13,
   "id": "84263d1a",
   "metadata": {},
   "outputs": [
    {
     "data": {
      "text/html": [
       "<div>\n",
       "<style scoped>\n",
       "    .dataframe tbody tr th:only-of-type {\n",
       "        vertical-align: middle;\n",
       "    }\n",
       "\n",
       "    .dataframe tbody tr th {\n",
       "        vertical-align: top;\n",
       "    }\n",
       "\n",
       "    .dataframe thead th {\n",
       "        text-align: right;\n",
       "    }\n",
       "</style>\n",
       "<table border=\"1\" class=\"dataframe\">\n",
       "  <thead>\n",
       "    <tr style=\"text-align: right;\">\n",
       "      <th></th>\n",
       "      <th>Clicked on Ad</th>\n",
       "    </tr>\n",
       "    <tr>\n",
       "      <th>Male</th>\n",
       "      <th></th>\n",
       "    </tr>\n",
       "  </thead>\n",
       "  <tbody>\n",
       "    <tr>\n",
       "      <th>0</th>\n",
       "      <td>0.518304</td>\n",
       "    </tr>\n",
       "    <tr>\n",
       "      <th>1</th>\n",
       "      <td>0.480249</td>\n",
       "    </tr>\n",
       "  </tbody>\n",
       "</table>\n",
       "</div>"
      ],
      "text/plain": [
       "      Clicked on Ad\n",
       "Male               \n",
       "0          0.518304\n",
       "1          0.480249"
      ]
     },
     "execution_count": 13,
     "metadata": {},
     "output_type": "execute_result"
    }
   ],
   "source": []
  },
  {
   "cell_type": "code",
   "execution_count": null,
   "id": "587c295c-392a-4849-a779-679f5176c1a3",
   "metadata": {},
   "outputs": [],
   "source": []
  },
  {
   "cell_type": "code",
   "execution_count": 14,
   "id": "61241cd1",
   "metadata": {},
   "outputs": [
    {
     "name": "stdout",
     "output_type": "stream",
     "text": [
      "Difference in proportion: 0.0383\n",
      "95% CI: [-0.02367968847313774, 0.10027968847313774]\n"
     ]
    }
   ],
   "source": [
    "## CI\n"
   ]
  },
  {
   "cell_type": "code",
   "execution_count": 15,
   "id": "d1f2dec6",
   "metadata": {},
   "outputs": [
    {
     "name": "stdout",
     "output_type": "stream",
     "text": [
      "z_score: 1.211170979546546\n",
      "p_value: 0.2258298825298657\n"
     ]
    }
   ],
   "source": [
    "## Using Calculation steps\n"
   ]
  },
  {
   "cell_type": "markdown",
   "id": "12adcea5-1a01-4c86-8cd0-f9fb273183ef",
   "metadata": {},
   "source": [
    "***Since p-value > alpha therefore we cannot reject null hypothesis***"
   ]
  },
  {
   "cell_type": "code",
   "execution_count": null,
   "id": "2d2ddce1-0a96-4135-ba07-9b8b80ca25e1",
   "metadata": {},
   "outputs": [],
   "source": []
  },
  {
   "cell_type": "code",
   "execution_count": 203,
   "id": "691fc1c2-b6b8-49a2-922d-29c3ccb4239f",
   "metadata": {},
   "outputs": [],
   "source": [
    "proportion_male = proportion.loc[1,'Clicked on Ad']\n",
    "proportion_female = proportion.loc[0,'Clicked on Ad']"
   ]
  },
  {
   "cell_type": "code",
   "execution_count": null,
   "id": "fc1c0191-4021-47e7-8aec-613ca1ff6e47",
   "metadata": {},
   "outputs": [],
   "source": []
  },
  {
   "cell_type": "code",
   "execution_count": null,
   "id": "20df297f-3b19-44bc-933b-4d9ee2835a72",
   "metadata": {},
   "outputs": [],
   "source": []
  },
  {
   "cell_type": "code",
   "execution_count": 205,
   "id": "4f7658de-7c42-4a5e-90e8-c5de8d2372d2",
   "metadata": {},
   "outputs": [
    {
     "name": "stdout",
     "output_type": "stream",
     "text": [
      "difference in prop 0.038000000000000034\n",
      "95% CI:-0.02398031773329573, 0.0999803177332958)\n"
     ]
    }
   ],
   "source": [
    "diff = proportion_female - proportion_male\n",
    "print(f'difference in prop {diff}')\n",
    "ci_lower = diff - 1.96 * se_difference\n",
    "ci_upper = diff + 1.96 * se_difference\n",
    "print(f'95% CI:{ci_lower}, {ci_upper})')"
   ]
  },
  {
   "cell_type": "code",
   "execution_count": 245,
   "id": "0666aa0f-801b-43d7-a0d2-5842a0541379",
   "metadata": {},
   "outputs": [
    {
     "name": "stdout",
     "output_type": "stream",
     "text": [
      "t_score: 1.203409523753369\n",
      "p_value: 0.22910326213314347\n"
     ]
    }
   ],
   "source": [
    "male_clicked = df[df['Male'] == 1]['Clicked on Ad']\n",
    "female_clicked = df[df['Male'] == 0]['Clicked on Ad']\n",
    "prop_male = male_clicked.mean()\n",
    "prop_female = female_clicked.mean()\n",
    "n_male = len(male_clicked)\n",
    "n_female = len(female_clicked)\n",
    "se_difference = np.sqrt((prop_male * (1 - prop_male) / n_male) + (prop_female * (1 - prop_female) / n_female))\n",
    "t_score = (prop_female - prop_male) / se_difference\n",
    "degrees_of_freedom = n_male + n_female - 2\n",
    "p_value_t = 2 * (1 - t.cdf(t_score, df=degrees_of_freedom))\n",
    "print(f't_score: {t_score}')\n",
    "print(f'p_value: {p_value_t}')"
   ]
  },
  {
   "cell_type": "markdown",
   "id": "a4e5d553-e6ea-4738-abc0-064a73425a50",
   "metadata": {},
   "source": [
    "**Since p-value > alpha\n",
    "therefore we cannot reject null hypothesis**"
   ]
  },
  {
   "cell_type": "code",
   "execution_count": null,
   "id": "32c07b80-5ff3-4bf3-9130-329b1a526c72",
   "metadata": {},
   "outputs": [],
   "source": []
  },
  {
   "cell_type": "code",
   "execution_count": 16,
   "id": "d4afd0ff",
   "metadata": {
    "scrolled": true
   },
   "outputs": [
    {
     "data": {
      "text/plain": [
       "Ttest_indResult(statistic=1.2022004765958763, pvalue=0.22957103161130843)"
      ]
     },
     "execution_count": 16,
     "metadata": {},
     "output_type": "execute_result"
    }
   ],
   "source": [
    "## Using scipy.stats.ttest_ind()\n"
   ]
  },
  {
   "cell_type": "code",
   "execution_count": null,
   "id": "456097eb-5c3a-42ad-a469-775e39946747",
   "metadata": {},
   "outputs": [],
   "source": []
  },
  {
   "cell_type": "code",
   "execution_count": 134,
   "id": "191e38bc-357f-4b2f-8775-ee2537e8c7da",
   "metadata": {},
   "outputs": [
    {
     "name": "stdout",
     "output_type": "stream",
     "text": [
      "t_stat: 1.202202029513623\n",
      "p_value: 0.22957208126839102\n"
     ]
    }
   ],
   "source": [
    "t_stat, p_value_t = ttest_ind(female_clicked,male_clicked,alternative='two-sided', equal_var=False)\n",
    "print(f't_stat: {t_stat}')\n",
    "print(f'p_value: {p_value_t}')"
   ]
  },
  {
   "cell_type": "code",
   "execution_count": null,
   "id": "07868e41-8d3f-4e88-a5a0-d788e0689038",
   "metadata": {},
   "outputs": [],
   "source": []
  },
  {
   "cell_type": "markdown",
   "id": "164ab350",
   "metadata": {},
   "source": [
    "## Comparing Means (CI - Hypothesis Test)\n",
    "### Check for significance difference between Male and Female in Click on Ad.\n",
    "### Find the CI for this difference.\n",
    "### Define and write your null and alternate hypothesis.\n",
    "### Write your conclusion (Reject/not reject null hypothesis) and explain what does it mean (there is significance difference or not).\n",
    "### Solve using the calculation steps and confirm using \"scipy.stats.ttest_ind()\""
   ]
  },
  {
   "cell_type": "code",
   "execution_count": null,
   "id": "e681aa55-fb15-4260-86e6-9a7c88881642",
   "metadata": {},
   "outputs": [],
   "source": []
  },
  {
   "cell_type": "code",
   "execution_count": null,
   "id": "05c9b1b2-4d6b-4fe4-9011-759ed0c3cd08",
   "metadata": {},
   "outputs": [],
   "source": [
    "#HO :There is no difference between Male and Female regarding Click on Ad\n",
    "#H1 :There is  difference between Male and Female regarding Click on Ad\n"
   ]
  },
  {
   "cell_type": "code",
   "execution_count": 106,
   "id": "5b531995-0060-4c70-9eda-0c80b4689eb6",
   "metadata": {},
   "outputs": [],
   "source": [
    "male_clicked = df[df['Male'] == 1]['Clicked on Ad']\n",
    "female_clicked = df[df['Male'] == 0]['Clicked on Ad']\n"
   ]
  },
  {
   "cell_type": "code",
   "execution_count": 109,
   "id": "123826fe-186d-42a9-990e-205d89f1f4e6",
   "metadata": {},
   "outputs": [
    {
     "name": "stdout",
     "output_type": "stream",
     "text": [
      "1      0\n",
      "3      0\n",
      "5      0\n",
      "7      1\n",
      "8      0\n",
      "      ..\n",
      "991    1\n",
      "993    0\n",
      "995    1\n",
      "996    1\n",
      "997    1\n",
      "Name: Clicked on Ad, Length: 481, dtype: int64\n"
     ]
    }
   ],
   "source": [
    "print(male_clicked)"
   ]
  },
  {
   "cell_type": "code",
   "execution_count": 110,
   "id": "254998a1-692e-491e-961b-066434e5ec3e",
   "metadata": {},
   "outputs": [
    {
     "data": {
      "text/plain": [
       "Clicked on Ad\n",
       "0    250\n",
       "1    231\n",
       "Name: count, dtype: int64"
      ]
     },
     "execution_count": 110,
     "metadata": {},
     "output_type": "execute_result"
    }
   ],
   "source": [
    "male_clicked.value_counts()"
   ]
  },
  {
   "cell_type": "code",
   "execution_count": null,
   "id": "bb011b0c-2e65-4572-baa2-c5f64e955aff",
   "metadata": {},
   "outputs": [],
   "source": []
  },
  {
   "cell_type": "code",
   "execution_count": 140,
   "id": "9396fe35-cd21-4d86-a91c-8de6f4c5460c",
   "metadata": {},
   "outputs": [
    {
     "data": {
      "text/plain": [
       "Male\n",
       "0    519\n",
       "1    481\n",
       "Name: count, dtype: int64"
      ]
     },
     "execution_count": 140,
     "metadata": {},
     "output_type": "execute_result"
    }
   ],
   "source": [
    "df['Male'].value_counts()"
   ]
  },
  {
   "cell_type": "code",
   "execution_count": 18,
   "id": "ab0b52ca",
   "metadata": {},
   "outputs": [
    {
     "data": {
      "text/plain": [
       "0    519\n",
       "1    481\n",
       "Name: Male, dtype: int64"
      ]
     },
     "execution_count": 18,
     "metadata": {},
     "output_type": "execute_result"
    }
   ],
   "source": []
  },
  {
   "cell_type": "code",
   "execution_count": null,
   "id": "5e24238b-b928-454d-bd63-a9c27f78c53f",
   "metadata": {},
   "outputs": [],
   "source": []
  },
  {
   "cell_type": "code",
   "execution_count": 142,
   "id": "1e29f22c-b457-4f59-b61d-70fb77c7c7bc",
   "metadata": {},
   "outputs": [
    {
     "data": {
      "text/plain": [
       "<Axes: xlabel='Male', ylabel='Daily Time Spent on Site'>"
      ]
     },
     "execution_count": 142,
     "metadata": {},
     "output_type": "execute_result"
    },
    {
     "data": {
      "image/png": "[encoded data removed]",
      "text/plain": [
       "<Figure size 640x480 with 1 Axes>"
      ]
     },
     "metadata": {},
     "output_type": "display_data"
    }
   ],
   "source": [
    "sns.boxplot(x='Male', y='Daily Time Spent on Site', data=df,hue='Male')"
   ]
  },
  {
   "cell_type": "code",
   "execution_count": 19,
   "id": "7fd7dff3",
   "metadata": {},
   "outputs": [
    {
     "data": {
      "text/plain": [
       "<AxesSubplot:xlabel='Male', ylabel='Daily Time Spent on Site'>"
      ]
     },
     "execution_count": 19,
     "metadata": {},
     "output_type": "execute_result"
    },
    {
     "data": {
      "image/png": "[encoded data removed]",
      "text/plain": [
       "<Figure size 432x288 with 1 Axes>"
      ]
     },
     "metadata": {
      "needs_background": "light"
     },
     "output_type": "display_data"
    }
   ],
   "source": []
  },
  {
   "cell_type": "code",
   "execution_count": null,
   "id": "f5912711-f1cb-40ee-aae0-97d6e928755c",
   "metadata": {},
   "outputs": [],
   "source": []
  },
  {
   "cell_type": "code",
   "execution_count": 144,
   "id": "75349c7a-e20e-4911-bfb5-42b8a2367f57",
   "metadata": {},
   "outputs": [
    {
     "data": {
      "text/plain": [
       "<Axes: xlabel='Male', ylabel='Daily Time Spent on Site'>"
      ]
     },
     "execution_count": 144,
     "metadata": {},
     "output_type": "execute_result"
    },
    {
     "data": {
      "image/png": "[encoded data removed]",
      "text/plain": [
       "<Figure size 640x480 with 1 Axes>"
      ]
     },
     "metadata": {},
     "output_type": "display_data"
    }
   ],
   "source": [
    "sns.violinplot(x='Male', y='Daily Time Spent on Site', data=df,hue='Male')\n"
   ]
  },
  {
   "cell_type": "code",
   "execution_count": 20,
   "id": "5b16bb1a",
   "metadata": {},
   "outputs": [
    {
     "data": {
      "text/plain": [
       "<AxesSubplot:xlabel='Male', ylabel='Daily Time Spent on Site'>"
      ]
     },
     "execution_count": 20,
     "metadata": {},
     "output_type": "execute_result"
    },
    {
     "data": {
      "image/png": "[encoded data removed]",
      "text/plain": [
       "<Figure size 432x288 with 1 Axes>"
      ]
     },
     "metadata": {
      "needs_background": "light"
     },
     "output_type": "display_data"
    }
   ],
   "source": []
  },
  {
   "cell_type": "code",
   "execution_count": null,
   "id": "b7fc43a3-ebf3-488c-a20a-1e14dbf4a022",
   "metadata": {},
   "outputs": [],
   "source": []
  },
  {
   "cell_type": "code",
   "execution_count": 145,
   "id": "1021426e-d1ae-475e-8359-ca3790adfa9f",
   "metadata": {},
   "outputs": [
    {
     "data": {
      "text/plain": [
       "<Axes: xlabel='Male', ylabel='Daily Time Spent on Site'>"
      ]
     },
     "execution_count": 145,
     "metadata": {},
     "output_type": "execute_result"
    },
    {
     "data": {
      "image/png": "[encoded data removed]",
      "text/plain": [
       "<Figure size 640x480 with 1 Axes>"
      ]
     },
     "metadata": {},
     "output_type": "display_data"
    }
   ],
   "source": [
    "sns.barplot(x='Male', y='Daily Time Spent on Site', data=df,hue='Male')"
   ]
  },
  {
   "cell_type": "code",
   "execution_count": 21,
   "id": "1df9ecd0",
   "metadata": {},
   "outputs": [
    {
     "data": {
      "text/plain": [
       "<AxesSubplot:xlabel='Male', ylabel='Daily Time Spent on Site'>"
      ]
     },
     "execution_count": 21,
     "metadata": {},
     "output_type": "execute_result"
    },
    {
     "data": {
      "image/png": "[encoded data removed]",
      "text/plain": [
       "<Figure size 432x288 with 1 Axes>"
      ]
     },
     "metadata": {
      "needs_background": "light"
     },
     "output_type": "display_data"
    }
   ],
   "source": []
  },
  {
   "cell_type": "code",
   "execution_count": null,
   "id": "2f343aa5-f373-4815-883e-5ba8e1320a06",
   "metadata": {},
   "outputs": [],
   "source": []
  },
  {
   "cell_type": "code",
   "execution_count": 207,
   "id": "724ab685-7d49-44a5-be24-d7ad43aa0f96",
   "metadata": {},
   "outputs": [
    {
     "data": {
      "text/html": [
       "<div>\n",
       "<style scoped>\n",
       "    .dataframe tbody tr th:only-of-type {\n",
       "        vertical-align: middle;\n",
       "    }\n",
       "\n",
       "    .dataframe tbody tr th {\n",
       "        vertical-align: top;\n",
       "    }\n",
       "\n",
       "    .dataframe thead th {\n",
       "        text-align: right;\n",
       "    }\n",
       "</style>\n",
       "<table border=\"1\" class=\"dataframe\">\n",
       "  <thead>\n",
       "    <tr style=\"text-align: right;\">\n",
       "      <th></th>\n",
       "      <th>Daily Time Spent on Site</th>\n",
       "    </tr>\n",
       "    <tr>\n",
       "      <th>Male</th>\n",
       "      <th></th>\n",
       "    </tr>\n",
       "  </thead>\n",
       "  <tbody>\n",
       "    <tr>\n",
       "      <th>0</th>\n",
       "      <td>65.289287</td>\n",
       "    </tr>\n",
       "    <tr>\n",
       "      <th>1</th>\n",
       "      <td>64.688274</td>\n",
       "    </tr>\n",
       "  </tbody>\n",
       "</table>\n",
       "</div>"
      ],
      "text/plain": [
       "      Daily Time Spent on Site\n",
       "Male                          \n",
       "0                    65.289287\n",
       "1                    64.688274"
      ]
     },
     "execution_count": 207,
     "metadata": {},
     "output_type": "execute_result"
    }
   ],
   "source": [
    "df_male_site = pd.DataFrame(df.groupby('Male')['Daily Time Spent on Site'].mean())\n",
    "df_male_site"
   ]
  },
  {
   "cell_type": "code",
   "execution_count": 22,
   "id": "4b0e4ec7",
   "metadata": {},
   "outputs": [
    {
     "data": {
      "text/html": [
       "<div>\n",
       "<style scoped>\n",
       "    .dataframe tbody tr th:only-of-type {\n",
       "        vertical-align: middle;\n",
       "    }\n",
       "\n",
       "    .dataframe tbody tr th {\n",
       "        vertical-align: top;\n",
       "    }\n",
       "\n",
       "    .dataframe thead th {\n",
       "        text-align: right;\n",
       "    }\n",
       "</style>\n",
       "<table border=\"1\" class=\"dataframe\">\n",
       "  <thead>\n",
       "    <tr style=\"text-align: right;\">\n",
       "      <th></th>\n",
       "      <th>Daily Time Spent on Site</th>\n",
       "    </tr>\n",
       "    <tr>\n",
       "      <th>Male</th>\n",
       "      <th></th>\n",
       "    </tr>\n",
       "  </thead>\n",
       "  <tbody>\n",
       "    <tr>\n",
       "      <th>0</th>\n",
       "      <td>65.289287</td>\n",
       "    </tr>\n",
       "    <tr>\n",
       "      <th>1</th>\n",
       "      <td>64.688274</td>\n",
       "    </tr>\n",
       "  </tbody>\n",
       "</table>\n",
       "</div>"
      ],
      "text/plain": [
       "      Daily Time Spent on Site\n",
       "Male                          \n",
       "0                    65.289287\n",
       "1                    64.688274"
      ]
     },
     "execution_count": 22,
     "metadata": {},
     "output_type": "execute_result"
    }
   ],
   "source": []
  },
  {
   "cell_type": "code",
   "execution_count": 208,
   "id": "0fc32641-5771-4371-bf24-9a3e347a37c6",
   "metadata": {},
   "outputs": [
    {
     "data": {
      "text/html": [
       "<div>\n",
       "<style scoped>\n",
       "    .dataframe tbody tr th:only-of-type {\n",
       "        vertical-align: middle;\n",
       "    }\n",
       "\n",
       "    .dataframe tbody tr th {\n",
       "        vertical-align: top;\n",
       "    }\n",
       "\n",
       "    .dataframe thead th {\n",
       "        text-align: right;\n",
       "    }\n",
       "</style>\n",
       "<table border=\"1\" class=\"dataframe\">\n",
       "  <thead>\n",
       "    <tr style=\"text-align: right;\">\n",
       "      <th></th>\n",
       "      <th>Daily Time Spent on Site</th>\n",
       "    </tr>\n",
       "    <tr>\n",
       "      <th>Male</th>\n",
       "      <th></th>\n",
       "    </tr>\n",
       "  </thead>\n",
       "  <tbody>\n",
       "    <tr>\n",
       "      <th>0</th>\n",
       "      <td>15.623040</td>\n",
       "    </tr>\n",
       "    <tr>\n",
       "      <th>1</th>\n",
       "      <td>16.109163</td>\n",
       "    </tr>\n",
       "  </tbody>\n",
       "</table>\n",
       "</div>"
      ],
      "text/plain": [
       "      Daily Time Spent on Site\n",
       "Male                          \n",
       "0                    15.623040\n",
       "1                    16.109163"
      ]
     },
     "execution_count": 208,
     "metadata": {},
     "output_type": "execute_result"
    }
   ],
   "source": [
    "df_male_site = pd.DataFrame(df.groupby('Male')['Daily Time Spent on Site'].std())\n",
    "df_male_site"
   ]
  },
  {
   "cell_type": "code",
   "execution_count": 23,
   "id": "aef1546e",
   "metadata": {},
   "outputs": [
    {
     "data": {
      "text/html": [
       "<div>\n",
       "<style scoped>\n",
       "    .dataframe tbody tr th:only-of-type {\n",
       "        vertical-align: middle;\n",
       "    }\n",
       "\n",
       "    .dataframe tbody tr th {\n",
       "        vertical-align: top;\n",
       "    }\n",
       "\n",
       "    .dataframe thead th {\n",
       "        text-align: right;\n",
       "    }\n",
       "</style>\n",
       "<table border=\"1\" class=\"dataframe\">\n",
       "  <thead>\n",
       "    <tr style=\"text-align: right;\">\n",
       "      <th></th>\n",
       "      <th>Daily Time Spent on Site</th>\n",
       "    </tr>\n",
       "    <tr>\n",
       "      <th>Male</th>\n",
       "      <th></th>\n",
       "    </tr>\n",
       "  </thead>\n",
       "  <tbody>\n",
       "    <tr>\n",
       "      <th>0</th>\n",
       "      <td>15.623040</td>\n",
       "    </tr>\n",
       "    <tr>\n",
       "      <th>1</th>\n",
       "      <td>16.109163</td>\n",
       "    </tr>\n",
       "  </tbody>\n",
       "</table>\n",
       "</div>"
      ],
      "text/plain": [
       "      Daily Time Spent on Site\n",
       "Male                          \n",
       "0                    15.623040\n",
       "1                    16.109163"
      ]
     },
     "execution_count": 23,
     "metadata": {},
     "output_type": "execute_result"
    }
   ],
   "source": []
  },
  {
   "cell_type": "code",
   "execution_count": 243,
   "id": "241a533e-ab09-40f6-bb96-445a4d1dcb10",
   "metadata": {},
   "outputs": [],
   "source": [
    "df_male_site = pd.DataFrame(df.groupby('Male')['Daily Time Spent on Site'])"
   ]
  },
  {
   "cell_type": "code",
   "execution_count": null,
   "id": "263d9088-2e73-40c3-a5ec-3d748c205818",
   "metadata": {},
   "outputs": [],
   "source": [
    "m0=df_male_site.loc"
   ]
  },
  {
   "cell_type": "code",
   "execution_count": 25,
   "id": "4767eb5a",
   "metadata": {},
   "outputs": [
    {
     "name": "stdout",
     "output_type": "stream",
     "text": [
      "Difference in mean: 0.6010129999999947\n",
      "95% CI: [-1.3709224295437132, 2.5729484295437026]\n"
     ]
    }
   ],
   "source": [
    "## CI"
   ]
  },
  {
   "cell_type": "code",
   "execution_count": null,
   "id": "c5779570-d110-4111-b004-b0ba969cf7e2",
   "metadata": {},
   "outputs": [],
   "source": []
  },
  {
   "cell_type": "code",
   "execution_count": 238,
   "id": "e88a7eb2-4c37-464a-b506-7d23422dba24",
   "metadata": {},
   "outputs": [
    {
     "name": "stdout",
     "output_type": "stream",
     "text": [
      "difference in mean 0.038054951349748956\n",
      "95% CI:-0.023987619544665537, 0.10009752224416345)\n",
      "t_score: -1.202202029513623\n",
      "p_value: 0.014323197423499238\n"
     ]
    }
   ],
   "source": [
    "np.random.seed(42)\n",
    "mean_male = male_clicked.mean()\n",
    "mean_female = female_clicked.mean()\n",
    "diff = mean_female - mean_male\n",
    "print(f'difference in mean {diff}')\n",
    "se_difference = ((std_male**2 / male_clicked.count()) + (std_female**2 / female_clicked.count()))**0.5\n",
    "ci_lower = diff - 1.96 * se_difference\n",
    "ci_upper = diff + 1.96 * se_difference\n",
    "print(f'95% CI:{ci_lower}, {ci_upper})')\n",
    "null_hypothesis_mean_diff = 0\n",
    "t_score= (mean_male - mean_female - null_hypothesis_mean_diff) / se_difference\n",
    "degrees_of_freedom = male_clicked.count() + female_clicked.count() - 2\n",
    "p_value_t = 2 * (1 - t.cdf(t_value, df=degrees_of_freedom))\n",
    "alpha = 0.05\n",
    "print(f't_score: {t_score:}')\n",
    "print(f'p_value: {p_value}')"
   ]
  },
  {
   "cell_type": "markdown",
   "id": "474b758b-9032-4a45-b8fe-108dd5a3dd6e",
   "metadata": {},
   "source": []
  },
  {
   "cell_type": "code",
   "execution_count": 26,
   "id": "c3a6f322",
   "metadata": {},
   "outputs": [
    {
     "name": "stdout",
     "output_type": "stream",
     "text": [
      "t_score: 0.5980896455209542\n",
      "p_value: 0.5499158167679443\n"
     ]
    }
   ],
   "source": [
    "## Using Calculation steps\n"
   ]
  },
  {
   "cell_type": "code",
   "execution_count": null,
   "id": "2fd6a377-7b66-4f83-952e-a8eb3fdb4b4b",
   "metadata": {},
   "outputs": [],
   "source": []
  },
  {
   "cell_type": "code",
   "execution_count": 46,
   "id": "88735dda-b1bc-4a61-b3b1-a3cb2646e14c",
   "metadata": {},
   "outputs": [
    {
     "name": "stdout",
     "output_type": "stream",
     "text": [
      "TtestResult(statistic=-1.2022004765958763, pvalue=0.22957103161130848, df=998.0)\n"
     ]
    }
   ],
   "source": [
    "print(ttest_ind(male_clicked, female_clicked))"
   ]
  },
  {
   "cell_type": "code",
   "execution_count": 27,
   "id": "1d85cfcb",
   "metadata": {},
   "outputs": [
    {
     "data": {
      "text/plain": [
       "Ttest_indResult(statistic=0.5987865950462051, pvalue=0.5494510852945214)"
      ]
     },
     "execution_count": 27,
     "metadata": {},
     "output_type": "execute_result"
    }
   ],
   "source": [
    "## Using scipy.stats.ttest_ind()\n"
   ]
  },
  {
   "cell_type": "markdown",
   "id": "caea87e9",
   "metadata": {},
   "source": [
    "## Paired t-test\n",
    "### Check for significant difference in Daily Time Spent on Site in April and May.\n",
    "### Solve using the calculation steps and confirm using \"scipy.stats.ttest_rel()\"\n",
    "### Write your conclusion.\n",
    "##### Hint: In this exercise we suppose we compare the Daily Time Spent on Site in April and May for the same people. That is why we selected April and May because it has the same value counts."
   ]
  },
  {
   "cell_type": "code",
   "execution_count": 28,
   "id": "0147875a",
   "metadata": {},
   "outputs": [
    {
     "name": "stdout",
     "output_type": "stream",
     "text": [
      "<class 'pandas.core.frame.DataFrame'>\n",
      "RangeIndex: 1000 entries, 0 to 999\n",
      "Data columns (total 10 columns):\n",
      " #   Column                    Non-Null Count  Dtype  \n",
      "---  ------                    --------------  -----  \n",
      " 0   Daily Time Spent on Site  1000 non-null   float64\n",
      " 1   Age                       1000 non-null   int64  \n",
      " 2   Area Income               1000 non-null   float64\n",
      " 3   Daily Internet Usage      1000 non-null   float64\n",
      " 4   Ad Topic Line             1000 non-null   object \n",
      " 5   City                      1000 non-null   object \n",
      " 6   Male                      1000 non-null   int64  \n",
      " 7   Country                   1000 non-null   object \n",
      " 8   Timestamp                 1000 non-null   object \n",
      " 9   Clicked on Ad             1000 non-null   int64  \n",
      "dtypes: float64(3), int64(3), object(4)\n",
      "memory usage: 78.2+ KB\n"
     ]
    }
   ],
   "source": []
  },
  {
   "cell_type": "code",
   "execution_count": 29,
   "id": "6983079f",
   "metadata": {},
   "outputs": [],
   "source": []
  },
  {
   "cell_type": "code",
   "execution_count": 30,
   "id": "d9c0202e",
   "metadata": {},
   "outputs": [
    {
     "name": "stdout",
     "output_type": "stream",
     "text": [
      "<class 'pandas.core.frame.DataFrame'>\n",
      "RangeIndex: 1000 entries, 0 to 999\n",
      "Data columns (total 11 columns):\n",
      " #   Column                    Non-Null Count  Dtype         \n",
      "---  ------                    --------------  -----         \n",
      " 0   Daily Time Spent on Site  1000 non-null   float64       \n",
      " 1   Age                       1000 non-null   int64         \n",
      " 2   Area Income               1000 non-null   float64       \n",
      " 3   Daily Internet Usage      1000 non-null   float64       \n",
      " 4   Ad Topic Line             1000 non-null   object        \n",
      " 5   City                      1000 non-null   object        \n",
      " 6   Male                      1000 non-null   int64         \n",
      " 7   Country                   1000 non-null   object        \n",
      " 8   Timestamp                 1000 non-null   object        \n",
      " 9   Clicked on Ad             1000 non-null   int64         \n",
      " 10  date                      1000 non-null   datetime64[ns]\n",
      "dtypes: datetime64[ns](1), float64(3), int64(3), object(4)\n",
      "memory usage: 86.1+ KB\n"
     ]
    }
   ],
   "source": []
  },
  {
   "cell_type": "code",
   "execution_count": 31,
   "id": "128ff4a2",
   "metadata": {},
   "outputs": [
    {
     "data": {
      "text/html": [
       "<div>\n",
       "<style scoped>\n",
       "    .dataframe tbody tr th:only-of-type {\n",
       "        vertical-align: middle;\n",
       "    }\n",
       "\n",
       "    .dataframe tbody tr th {\n",
       "        vertical-align: top;\n",
       "    }\n",
       "\n",
       "    .dataframe thead th {\n",
       "        text-align: right;\n",
       "    }\n",
       "</style>\n",
       "<table border=\"1\" class=\"dataframe\">\n",
       "  <thead>\n",
       "    <tr style=\"text-align: right;\">\n",
       "      <th></th>\n",
       "      <th>Daily Time Spent on Site</th>\n",
       "      <th>Age</th>\n",
       "      <th>Area Income</th>\n",
       "      <th>Daily Internet Usage</th>\n",
       "      <th>Ad Topic Line</th>\n",
       "      <th>City</th>\n",
       "      <th>Male</th>\n",
       "      <th>Country</th>\n",
       "      <th>Timestamp</th>\n",
       "      <th>Clicked on Ad</th>\n",
       "      <th>date</th>\n",
       "    </tr>\n",
       "  </thead>\n",
       "  <tbody>\n",
       "    <tr>\n",
       "      <th>0</th>\n",
       "      <td>68.95</td>\n",
       "      <td>35</td>\n",
       "      <td>61833.90</td>\n",
       "      <td>256.09</td>\n",
       "      <td>Cloned 5thgeneration orchestration</td>\n",
       "      <td>Wrightburgh</td>\n",
       "      <td>0</td>\n",
       "      <td>Tunisia</td>\n",
       "      <td>2016-03-27 00:53:11</td>\n",
       "      <td>0</td>\n",
       "      <td>2016-03-27 00:53:11</td>\n",
       "    </tr>\n",
       "    <tr>\n",
       "      <th>1</th>\n",
       "      <td>80.23</td>\n",
       "      <td>31</td>\n",
       "      <td>68441.85</td>\n",
       "      <td>193.77</td>\n",
       "      <td>Monitored national standardization</td>\n",
       "      <td>West Jodi</td>\n",
       "      <td>1</td>\n",
       "      <td>Nauru</td>\n",
       "      <td>2016-04-04 01:39:02</td>\n",
       "      <td>0</td>\n",
       "      <td>2016-04-04 01:39:02</td>\n",
       "    </tr>\n",
       "    <tr>\n",
       "      <th>2</th>\n",
       "      <td>69.47</td>\n",
       "      <td>26</td>\n",
       "      <td>59785.94</td>\n",
       "      <td>236.50</td>\n",
       "      <td>Organic bottom-line service-desk</td>\n",
       "      <td>Davidton</td>\n",
       "      <td>0</td>\n",
       "      <td>San Marino</td>\n",
       "      <td>2016-03-13 20:35:42</td>\n",
       "      <td>0</td>\n",
       "      <td>2016-03-13 20:35:42</td>\n",
       "    </tr>\n",
       "    <tr>\n",
       "      <th>3</th>\n",
       "      <td>74.15</td>\n",
       "      <td>29</td>\n",
       "      <td>54806.18</td>\n",
       "      <td>245.89</td>\n",
       "      <td>Triple-buffered reciprocal time-frame</td>\n",
       "      <td>West Terrifurt</td>\n",
       "      <td>1</td>\n",
       "      <td>Italy</td>\n",
       "      <td>2016-01-10 02:31:19</td>\n",
       "      <td>0</td>\n",
       "      <td>2016-01-10 02:31:19</td>\n",
       "    </tr>\n",
       "    <tr>\n",
       "      <th>4</th>\n",
       "      <td>68.37</td>\n",
       "      <td>35</td>\n",
       "      <td>73889.99</td>\n",
       "      <td>225.58</td>\n",
       "      <td>Robust logistical utilization</td>\n",
       "      <td>South Manuel</td>\n",
       "      <td>0</td>\n",
       "      <td>Iceland</td>\n",
       "      <td>2016-06-03 03:36:18</td>\n",
       "      <td>0</td>\n",
       "      <td>2016-06-03 03:36:18</td>\n",
       "    </tr>\n",
       "  </tbody>\n",
       "</table>\n",
       "</div>"
      ],
      "text/plain": [
       "   Daily Time Spent on Site  Age  Area Income  Daily Internet Usage  \\\n",
       "0                     68.95   35     61833.90                256.09   \n",
       "1                     80.23   31     68441.85                193.77   \n",
       "2                     69.47   26     59785.94                236.50   \n",
       "3                     74.15   29     54806.18                245.89   \n",
       "4                     68.37   35     73889.99                225.58   \n",
       "\n",
       "                           Ad Topic Line            City  Male     Country  \\\n",
       "0     Cloned 5thgeneration orchestration     Wrightburgh     0     Tunisia   \n",
       "1     Monitored national standardization       West Jodi     1       Nauru   \n",
       "2       Organic bottom-line service-desk        Davidton     0  San Marino   \n",
       "3  Triple-buffered reciprocal time-frame  West Terrifurt     1       Italy   \n",
       "4          Robust logistical utilization    South Manuel     0     Iceland   \n",
       "\n",
       "             Timestamp  Clicked on Ad                date  \n",
       "0  2016-03-27 00:53:11              0 2016-03-27 00:53:11  \n",
       "1  2016-04-04 01:39:02              0 2016-04-04 01:39:02  \n",
       "2  2016-03-13 20:35:42              0 2016-03-13 20:35:42  \n",
       "3  2016-01-10 02:31:19              0 2016-01-10 02:31:19  \n",
       "4  2016-06-03 03:36:18              0 2016-06-03 03:36:18  "
      ]
     },
     "execution_count": 31,
     "metadata": {},
     "output_type": "execute_result"
    }
   ],
   "source": []
  },
  {
   "cell_type": "code",
   "execution_count": 32,
   "id": "6a870aa4",
   "metadata": {},
   "outputs": [
    {
     "name": "stdout",
     "output_type": "stream",
     "text": [
      "<class 'pandas.core.frame.DataFrame'>\n",
      "RangeIndex: 1000 entries, 0 to 999\n",
      "Data columns (total 11 columns):\n",
      " #   Column                    Non-Null Count  Dtype         \n",
      "---  ------                    --------------  -----         \n",
      " 0   Daily Time Spent on Site  1000 non-null   float64       \n",
      " 1   Age                       1000 non-null   int64         \n",
      " 2   Area Income               1000 non-null   float64       \n",
      " 3   Daily Internet Usage      1000 non-null   float64       \n",
      " 4   Ad Topic Line             1000 non-null   object        \n",
      " 5   City                      1000 non-null   object        \n",
      " 6   Male                      1000 non-null   int64         \n",
      " 7   Country                   1000 non-null   object        \n",
      " 8   Timestamp                 1000 non-null   object        \n",
      " 9   Clicked on Ad             1000 non-null   int64         \n",
      " 10  date                      1000 non-null   datetime64[ns]\n",
      "dtypes: datetime64[ns](1), float64(3), int64(3), object(4)\n",
      "memory usage: 86.1+ KB\n"
     ]
    }
   ],
   "source": []
  },
  {
   "cell_type": "code",
   "execution_count": 33,
   "id": "413c8b36",
   "metadata": {},
   "outputs": [
    {
     "data": {
      "text/html": [
       "<div>\n",
       "<style scoped>\n",
       "    .dataframe tbody tr th:only-of-type {\n",
       "        vertical-align: middle;\n",
       "    }\n",
       "\n",
       "    .dataframe tbody tr th {\n",
       "        vertical-align: top;\n",
       "    }\n",
       "\n",
       "    .dataframe thead th {\n",
       "        text-align: right;\n",
       "    }\n",
       "</style>\n",
       "<table border=\"1\" class=\"dataframe\">\n",
       "  <thead>\n",
       "    <tr style=\"text-align: right;\">\n",
       "      <th></th>\n",
       "      <th>Daily Time Spent on Site</th>\n",
       "      <th>Age</th>\n",
       "      <th>Area Income</th>\n",
       "      <th>Daily Internet Usage</th>\n",
       "      <th>Ad Topic Line</th>\n",
       "      <th>City</th>\n",
       "      <th>Male</th>\n",
       "      <th>Country</th>\n",
       "      <th>Timestamp</th>\n",
       "      <th>Clicked on Ad</th>\n",
       "      <th>date</th>\n",
       "    </tr>\n",
       "  </thead>\n",
       "  <tbody>\n",
       "    <tr>\n",
       "      <th>0</th>\n",
       "      <td>68.95</td>\n",
       "      <td>35</td>\n",
       "      <td>61833.90</td>\n",
       "      <td>256.09</td>\n",
       "      <td>Cloned 5thgeneration orchestration</td>\n",
       "      <td>Wrightburgh</td>\n",
       "      <td>0</td>\n",
       "      <td>Tunisia</td>\n",
       "      <td>2016-03-27 00:53:11</td>\n",
       "      <td>0</td>\n",
       "      <td>2016-03-27 00:53:11</td>\n",
       "    </tr>\n",
       "    <tr>\n",
       "      <th>1</th>\n",
       "      <td>80.23</td>\n",
       "      <td>31</td>\n",
       "      <td>68441.85</td>\n",
       "      <td>193.77</td>\n",
       "      <td>Monitored national standardization</td>\n",
       "      <td>West Jodi</td>\n",
       "      <td>1</td>\n",
       "      <td>Nauru</td>\n",
       "      <td>2016-04-04 01:39:02</td>\n",
       "      <td>0</td>\n",
       "      <td>2016-04-04 01:39:02</td>\n",
       "    </tr>\n",
       "    <tr>\n",
       "      <th>2</th>\n",
       "      <td>69.47</td>\n",
       "      <td>26</td>\n",
       "      <td>59785.94</td>\n",
       "      <td>236.50</td>\n",
       "      <td>Organic bottom-line service-desk</td>\n",
       "      <td>Davidton</td>\n",
       "      <td>0</td>\n",
       "      <td>San Marino</td>\n",
       "      <td>2016-03-13 20:35:42</td>\n",
       "      <td>0</td>\n",
       "      <td>2016-03-13 20:35:42</td>\n",
       "    </tr>\n",
       "    <tr>\n",
       "      <th>3</th>\n",
       "      <td>74.15</td>\n",
       "      <td>29</td>\n",
       "      <td>54806.18</td>\n",
       "      <td>245.89</td>\n",
       "      <td>Triple-buffered reciprocal time-frame</td>\n",
       "      <td>West Terrifurt</td>\n",
       "      <td>1</td>\n",
       "      <td>Italy</td>\n",
       "      <td>2016-01-10 02:31:19</td>\n",
       "      <td>0</td>\n",
       "      <td>2016-01-10 02:31:19</td>\n",
       "    </tr>\n",
       "    <tr>\n",
       "      <th>4</th>\n",
       "      <td>68.37</td>\n",
       "      <td>35</td>\n",
       "      <td>73889.99</td>\n",
       "      <td>225.58</td>\n",
       "      <td>Robust logistical utilization</td>\n",
       "      <td>South Manuel</td>\n",
       "      <td>0</td>\n",
       "      <td>Iceland</td>\n",
       "      <td>2016-06-03 03:36:18</td>\n",
       "      <td>0</td>\n",
       "      <td>2016-06-03 03:36:18</td>\n",
       "    </tr>\n",
       "  </tbody>\n",
       "</table>\n",
       "</div>"
      ],
      "text/plain": [
       "   Daily Time Spent on Site  Age  Area Income  Daily Internet Usage  \\\n",
       "0                     68.95   35     61833.90                256.09   \n",
       "1                     80.23   31     68441.85                193.77   \n",
       "2                     69.47   26     59785.94                236.50   \n",
       "3                     74.15   29     54806.18                245.89   \n",
       "4                     68.37   35     73889.99                225.58   \n",
       "\n",
       "                           Ad Topic Line            City  Male     Country  \\\n",
       "0     Cloned 5thgeneration orchestration     Wrightburgh     0     Tunisia   \n",
       "1     Monitored national standardization       West Jodi     1       Nauru   \n",
       "2       Organic bottom-line service-desk        Davidton     0  San Marino   \n",
       "3  Triple-buffered reciprocal time-frame  West Terrifurt     1       Italy   \n",
       "4          Robust logistical utilization    South Manuel     0     Iceland   \n",
       "\n",
       "             Timestamp  Clicked on Ad                date  \n",
       "0  2016-03-27 00:53:11              0 2016-03-27 00:53:11  \n",
       "1  2016-04-04 01:39:02              0 2016-04-04 01:39:02  \n",
       "2  2016-03-13 20:35:42              0 2016-03-13 20:35:42  \n",
       "3  2016-01-10 02:31:19              0 2016-01-10 02:31:19  \n",
       "4  2016-06-03 03:36:18              0 2016-06-03 03:36:18  "
      ]
     },
     "execution_count": 33,
     "metadata": {},
     "output_type": "execute_result"
    }
   ],
   "source": []
  },
  {
   "cell_type": "code",
   "execution_count": 34,
   "id": "ed605fb8",
   "metadata": {},
   "outputs": [],
   "source": []
  },
  {
   "cell_type": "code",
   "execution_count": 35,
   "id": "4e4dd4e4",
   "metadata": {},
   "outputs": [
    {
     "data": {
      "text/plain": [
       "2    160\n",
       "3    156\n",
       "4    147\n",
       "1    147\n",
       "5    147\n",
       "6    142\n",
       "7    101\n",
       "Name: month, dtype: int64"
      ]
     },
     "execution_count": 35,
     "metadata": {},
     "output_type": "execute_result"
    }
   ],
   "source": []
  },
  {
   "cell_type": "code",
   "execution_count": 36,
   "id": "9addbd79",
   "metadata": {},
   "outputs": [],
   "source": []
  },
  {
   "cell_type": "code",
   "execution_count": 37,
   "id": "b3bc795b",
   "metadata": {},
   "outputs": [
    {
     "data": {
      "text/html": [
       "<div>\n",
       "<style scoped>\n",
       "    .dataframe tbody tr th:only-of-type {\n",
       "        vertical-align: middle;\n",
       "    }\n",
       "\n",
       "    .dataframe tbody tr th {\n",
       "        vertical-align: top;\n",
       "    }\n",
       "\n",
       "    .dataframe thead th {\n",
       "        text-align: right;\n",
       "    }\n",
       "</style>\n",
       "<table border=\"1\" class=\"dataframe\">\n",
       "  <thead>\n",
       "    <tr style=\"text-align: right;\">\n",
       "      <th></th>\n",
       "      <th>month</th>\n",
       "      <th>Daily Time Spent on Site</th>\n",
       "    </tr>\n",
       "  </thead>\n",
       "  <tbody>\n",
       "    <tr>\n",
       "      <th>0</th>\n",
       "      <td>3</td>\n",
       "      <td>68.95</td>\n",
       "    </tr>\n",
       "    <tr>\n",
       "      <th>1</th>\n",
       "      <td>4</td>\n",
       "      <td>80.23</td>\n",
       "    </tr>\n",
       "    <tr>\n",
       "      <th>2</th>\n",
       "      <td>3</td>\n",
       "      <td>69.47</td>\n",
       "    </tr>\n",
       "    <tr>\n",
       "      <th>3</th>\n",
       "      <td>1</td>\n",
       "      <td>74.15</td>\n",
       "    </tr>\n",
       "    <tr>\n",
       "      <th>4</th>\n",
       "      <td>6</td>\n",
       "      <td>68.37</td>\n",
       "    </tr>\n",
       "  </tbody>\n",
       "</table>\n",
       "</div>"
      ],
      "text/plain": [
       "   month  Daily Time Spent on Site\n",
       "0      3                     68.95\n",
       "1      4                     80.23\n",
       "2      3                     69.47\n",
       "3      1                     74.15\n",
       "4      6                     68.37"
      ]
     },
     "execution_count": 37,
     "metadata": {},
     "output_type": "execute_result"
    }
   ],
   "source": []
  },
  {
   "cell_type": "code",
   "execution_count": null,
   "id": "758337eb-6351-4c25-85d0-1ec55b627641",
   "metadata": {},
   "outputs": [],
   "source": []
  },
  {
   "cell_type": "code",
   "execution_count": 221,
   "id": "c37f6e55-9bac-4c04-8da4-a800dbb1ab36",
   "metadata": {},
   "outputs": [
    {
     "name": "stdout",
     "output_type": "stream",
     "text": [
      "difference in mean -1.6135374149660038\n",
      "S.E: 1.8682401540388407\n",
      "95% CI:-5.275288116882131, 2.0482132869501237)\n"
     ]
    }
   ],
   "source": [
    "df['Timestamp'] = pd.to_datetime(df['Timestamp'])\n",
    "april_data = df[df['Timestamp'].dt.month == 4]['Daily Time Spent on Site']\n",
    "may_data = df[df['Timestamp'].dt.month == 5]['Daily Time Spent on Site']\n",
    "mean_april = april_data.mean()\n",
    "mean_may = may_data.mean()\n",
    "diff = mean_may - mean_april\n",
    "std_april = april_data.std()\n",
    "std_may = may_data.std()\n",
    "print(f'difference in mean {diff}')\n",
    "se_difference = ((std_april**2 / april_data.count()) + (std_may**2 / may_data.count()))**0.5\n",
    "main_std = diff.std()\n",
    "#n = diff.count()\n",
    "#se = std / npsqrt(n)\n",
    "print(f'S.E: {se_difference}')\n",
    "ci_lower = diff - 1.96 * se_difference\n",
    "ci_upper = diff + 1.96 * se_difference\n",
    "print(f'95% CI:{ci_lower}, {ci_upper})')"
   ]
  },
  {
   "cell_type": "code",
   "execution_count": 219,
   "id": "0d13b52e-96c9-46e1-be60-7b91c2ddf457",
   "metadata": {
    "scrolled": true
   },
   "outputs": [
    {
     "name": "stdout",
     "output_type": "stream",
     "text": [
      "t_score: -0.020369410895853056\n",
      "p_value: 0.014323197423499238\n"
     ]
    }
   ],
   "source": [
    "null_hypothesis_mean_diff = 0\n",
    "t_score= (mean_male - mean_female - null_hypothesis_mean_diff) / se_difference\n",
    "degrees_of_freedom = male_clicked.count() + female_clicked.count() - 2\n",
    "p_value_t = 2 * (1 - t.cdf(t_value, df=degrees_of_freedom))\n",
    "alpha = 0.05\n",
    "print(f't_score: {t_score:}')\n",
    "print(f'p_value: {p_value}')"
   ]
  },
  {
   "cell_type": "code",
   "execution_count": 47,
   "id": "55e3596b",
   "metadata": {},
   "outputs": [
    {
     "name": "stdout",
     "output_type": "stream",
     "text": [
      "mean of diffs.: -1.613537414965986\n",
      "S.E: 1.7810750769712742\n",
      "t_score: -0.9059345312437999\n",
      "p_value: 0.36646315120526873\n"
     ]
    }
   ],
   "source": [
    "# Using Steps\n"
   ]
  },
  {
   "cell_type": "code",
   "execution_count": null,
   "id": "46bc58dc-0229-40dd-9295-f05a011a93ae",
   "metadata": {},
   "outputs": [],
   "source": []
  },
  {
   "cell_type": "code",
   "execution_count": 49,
   "id": "6839e86f",
   "metadata": {},
   "outputs": [
    {
     "data": {
      "text/plain": [
       "Ttest_relResult(statistic=-0.9059345312438, pvalue=0.36646315120526884)"
      ]
     },
     "execution_count": 49,
     "metadata": {},
     "output_type": "execute_result"
    }
   ],
   "source": [
    "# using ttest_rel\n"
   ]
  },
  {
   "cell_type": "code",
   "execution_count": null,
   "id": "aed11b77-a415-433e-8870-45cbe7675c2f",
   "metadata": {},
   "outputs": [],
   "source": []
  },
  {
   "cell_type": "code",
   "execution_count": 228,
   "id": "02f6c6f9-8ac7-4501-a374-872d0d85ff4f",
   "metadata": {},
   "outputs": [],
   "source": [
    "from scipy.stats import ttest_rel"
   ]
  },
  {
   "cell_type": "code",
   "execution_count": 231,
   "id": "7f246be2-7779-4c3c-8f48-a07338592413",
   "metadata": {},
   "outputs": [
    {
     "name": "stdout",
     "output_type": "stream",
     "text": [
      "TtestResult(statistic=0.9059345312438, pvalue=0.36646315120526884, df=146)\n"
     ]
    }
   ],
   "source": [
    "t_stat, p_value_t = ttest_rel(may_data,april_data)\n",
    "print(ttest_rel(april_data, may_data))"
   ]
  },
  {
   "cell_type": "code",
   "execution_count": null,
   "id": "3c91489f-b53b-4753-9ec4-8e07fe0b477d",
   "metadata": {},
   "outputs": [],
   "source": []
  },
  {
   "cell_type": "markdown",
   "id": "5107e289",
   "metadata": {},
   "source": [
    "## Chi-Squared Distribution    (Optional Exercise)\n",
    "### Draw 10 different random sample of size = 1000 from standard normal distribution.\n",
    "### Derive a Chi-square distribution of k=1,2,....10 using these samples.\n",
    "### Plot your results.\n",
    "### Compare with the one from scipy.stats.chi2()\n",
    "### You can also compare with the one from np.random.chisquare()"
   ]
  },
  {
   "cell_type": "code",
   "execution_count": null,
   "id": "80e2a469",
   "metadata": {},
   "outputs": [],
   "source": []
  },
  {
   "cell_type": "markdown",
   "id": "9bafa12a",
   "metadata": {},
   "source": [
    "## Chi-square goodness of fit\n",
    "### Create a new column that contain the month.\n",
    "### Check if all existing months are equally distributed.\n",
    "### Confirm using from scipy.stats.chisquare()"
   ]
  },
  {
   "cell_type": "code",
   "execution_count": null,
   "id": "1b290a09-150d-4af0-bd19-07a59b9193f1",
   "metadata": {},
   "outputs": [],
   "source": []
  },
  {
   "cell_type": "code",
   "execution_count": 81,
   "id": "d09ebf3c-3c32-498b-af66-741d809f8520",
   "metadata": {},
   "outputs": [
    {
     "name": "stdout",
     "output_type": "stream",
     "text": [
      "<class 'pandas.core.frame.DataFrame'>\n",
      "RangeIndex: 1000 entries, 0 to 999\n",
      "Data columns (total 11 columns):\n",
      " #   Column                    Non-Null Count  Dtype         \n",
      "---  ------                    --------------  -----         \n",
      " 0   Daily Time Spent on Site  1000 non-null   float64       \n",
      " 1   Age                       1000 non-null   int64         \n",
      " 2   Area Income               1000 non-null   float64       \n",
      " 3   Daily Internet Usage      1000 non-null   float64       \n",
      " 4   Ad Topic Line             1000 non-null   object        \n",
      " 5   City                      1000 non-null   object        \n",
      " 6   Male                      1000 non-null   int64         \n",
      " 7   Country                   1000 non-null   object        \n",
      " 8   Timestamp                 1000 non-null   datetime64[ns]\n",
      " 9   Clicked on Ad             1000 non-null   int64         \n",
      " 10  Age Group                 1000 non-null   category      \n",
      "dtypes: category(1), datetime64[ns](1), float64(3), int64(3), object(3)\n",
      "memory usage: 79.4+ KB\n"
     ]
    }
   ],
   "source": [
    "df.info()"
   ]
  },
  {
   "cell_type": "code",
   "execution_count": null,
   "id": "d7370a96-82ad-4b3c-8597-42da6656436a",
   "metadata": {},
   "outputs": [],
   "source": []
  },
  {
   "cell_type": "code",
   "execution_count": 83,
   "id": "d0c7e472-f0dd-4d19-aa59-c895529ab9b2",
   "metadata": {},
   "outputs": [],
   "source": [
    "df['date'] = pd.to_datetime(df['Timestamp'])\n",
    "df['month'] = df['date'].dt.month"
   ]
  },
  {
   "cell_type": "code",
   "execution_count": null,
   "id": "5bb8ea0f-28ac-45c4-91d6-5642646a5e53",
   "metadata": {},
   "outputs": [],
   "source": []
  },
  {
   "cell_type": "code",
   "execution_count": 94,
   "id": "3f1b99a9-2496-4931-9fce-d8a62708d8bc",
   "metadata": {},
   "outputs": [
    {
     "name": "stdout",
     "output_type": "stream",
     "text": [
      "<class 'pandas.core.frame.DataFrame'>\n",
      "RangeIndex: 1000 entries, 0 to 999\n",
      "Data columns (total 13 columns):\n",
      " #   Column                    Non-Null Count  Dtype         \n",
      "---  ------                    --------------  -----         \n",
      " 0   Daily Time Spent on Site  1000 non-null   float64       \n",
      " 1   Age                       1000 non-null   int64         \n",
      " 2   Area Income               1000 non-null   float64       \n",
      " 3   Daily Internet Usage      1000 non-null   float64       \n",
      " 4   Ad Topic Line             1000 non-null   object        \n",
      " 5   City                      1000 non-null   object        \n",
      " 6   Male                      1000 non-null   int64         \n",
      " 7   Country                   1000 non-null   object        \n",
      " 8   Timestamp                 1000 non-null   datetime64[ns]\n",
      " 9   Clicked on Ad             1000 non-null   int64         \n",
      " 10  Age Group                 1000 non-null   category      \n",
      " 11  date                      1000 non-null   datetime64[ns]\n",
      " 12  month                     1000 non-null   int32         \n",
      "dtypes: category(1), datetime64[ns](2), float64(3), int32(1), int64(3), object(3)\n",
      "memory usage: 91.1+ KB\n"
     ]
    }
   ],
   "source": [
    "df.info()"
   ]
  },
  {
   "cell_type": "code",
   "execution_count": null,
   "id": "75b40a83-117d-4ae7-9b99-f2aa75def886",
   "metadata": {},
   "outputs": [],
   "source": []
  },
  {
   "cell_type": "code",
   "execution_count": 42,
   "id": "04478633",
   "metadata": {
    "scrolled": true
   },
   "outputs": [
    {
     "name": "stdout",
     "output_type": "stream",
     "text": [
      "<class 'pandas.core.frame.DataFrame'>\n",
      "RangeIndex: 1000 entries, 0 to 999\n",
      "Data columns (total 12 columns):\n",
      " #   Column                    Non-Null Count  Dtype         \n",
      "---  ------                    --------------  -----         \n",
      " 0   Daily Time Spent on Site  1000 non-null   float64       \n",
      " 1   Age                       1000 non-null   int64         \n",
      " 2   Area Income               1000 non-null   float64       \n",
      " 3   Daily Internet Usage      1000 non-null   float64       \n",
      " 4   Ad Topic Line             1000 non-null   object        \n",
      " 5   City                      1000 non-null   object        \n",
      " 6   Male                      1000 non-null   int64         \n",
      " 7   Country                   1000 non-null   object        \n",
      " 8   Timestamp                 1000 non-null   object        \n",
      " 9   Clicked on Ad             1000 non-null   int64         \n",
      " 10  date                      1000 non-null   datetime64[ns]\n",
      " 11  month                     1000 non-null   int64         \n",
      "dtypes: datetime64[ns](1), float64(3), int64(4), object(4)\n",
      "memory usage: 93.9+ KB\n"
     ]
    }
   ],
   "source": []
  },
  {
   "cell_type": "code",
   "execution_count": null,
   "id": "4533d248-4ce7-4984-ae12-11e4de5fc787",
   "metadata": {},
   "outputs": [],
   "source": []
  },
  {
   "cell_type": "code",
   "execution_count": 84,
   "id": "231a6256-baf1-496b-8a41-89b116d75867",
   "metadata": {},
   "outputs": [
    {
     "name": "stdout",
     "output_type": "stream",
     "text": [
      "month\n",
      "2    160\n",
      "3    156\n",
      "4    147\n",
      "1    147\n",
      "5    147\n",
      "6    142\n",
      "7    101\n",
      "Name: count, dtype: int64\n"
     ]
    }
   ],
   "source": [
    "month_distribution = df['month'].value_counts()\n",
    "print(month_distribution)"
   ]
  },
  {
   "cell_type": "code",
   "execution_count": null,
   "id": "3ed8e06d-03f7-4694-a5cb-779640f51ca8",
   "metadata": {},
   "outputs": [],
   "source": []
  },
  {
   "cell_type": "code",
   "execution_count": 43,
   "id": "69fb52d0",
   "metadata": {},
   "outputs": [
    {
     "data": {
      "text/plain": [
       "2    160\n",
       "3    156\n",
       "4    147\n",
       "1    147\n",
       "5    147\n",
       "6    142\n",
       "7    101\n",
       "Name: month, dtype: int64"
      ]
     },
     "execution_count": 43,
     "metadata": {},
     "output_type": "execute_result"
    }
   ],
   "source": []
  },
  {
   "cell_type": "code",
   "execution_count": null,
   "id": "1db1245f-8b29-4f39-b8d5-a79a4b11738b",
   "metadata": {},
   "outputs": [],
   "source": []
  },
  {
   "cell_type": "code",
   "execution_count": 88,
   "id": "a2922292-2c0c-41ce-9c82-2f8b3f612fd9",
   "metadata": {},
   "outputs": [
    {
     "data": {
      "text/plain": [
       "<Axes: xlabel='month', ylabel='count'>"
      ]
     },
     "execution_count": 88,
     "metadata": {},
     "output_type": "execute_result"
    },
    {
     "data": {
      "image/png": "[encoded data removed]",
      "text/plain": [
       "<Figure size 640x480 with 1 Axes>"
      ]
     },
     "metadata": {},
     "output_type": "display_data"
    }
   ],
   "source": [
    "sns.countplot(x=df['month'])"
   ]
  },
  {
   "cell_type": "code",
   "execution_count": 44,
   "id": "0bd4320e",
   "metadata": {
    "scrolled": true
   },
   "outputs": [
    {
     "data": {
      "text/plain": [
       "<AxesSubplot:xlabel='month', ylabel='count'>"
      ]
     },
     "execution_count": 44,
     "metadata": {},
     "output_type": "execute_result"
    },
    {
     "data": {
      "image/png": "[encoded data removed]",
      "text/plain": [
       "<Figure size 432x288 with 1 Axes>"
      ]
     },
     "metadata": {
      "needs_background": "light"
     },
     "output_type": "display_data"
    }
   ],
   "source": []
  },
  {
   "cell_type": "code",
   "execution_count": 46,
   "id": "15ef2642",
   "metadata": {},
   "outputs": [
    {
     "name": "stdout",
     "output_type": "stream",
     "text": [
      "Chi_Square_Score: 15.896\n",
      "p-value: 0.01432319742349919\n"
     ]
    }
   ],
   "source": [
    "# using steps\n"
   ]
  },
  {
   "cell_type": "code",
   "execution_count": null,
   "id": "3debfc83-4b85-448a-9dc0-7bb47517b109",
   "metadata": {},
   "outputs": [],
   "source": []
  },
  {
   "cell_type": "code",
   "execution_count": null,
   "id": "236e7a83-a7be-46e9-8bbe-01317a2e6ddd",
   "metadata": {},
   "outputs": [],
   "source": []
  },
  {
   "cell_type": "code",
   "execution_count": null,
   "id": "f8bd68fb-4f17-4f6d-b5bb-236db151e919",
   "metadata": {},
   "outputs": [],
   "source": []
  },
  {
   "cell_type": "code",
   "execution_count": 186,
   "id": "34052da4-c7b3-46b0-86b1-229879b1dbcf",
   "metadata": {},
   "outputs": [
    {
     "name": "stdout",
     "output_type": "stream",
     "text": [
      "chi2_statistic 15.896\n",
      "P-value: 0.01432319742349919\n"
     ]
    }
   ],
   "source": [
    "df['date'] = pd.to_datetime(df['Timestamp'])\n",
    "df['month'] = df['date'].dt.month\n",
    "\n",
    "month_distribution = df['month'].value_counts()\n",
    "observed_frequencies = month_distribution.values\n",
    "expected_frequency = len(df) / len (month_distribution)\n",
    "chi2_statistic = np.sum((observed_frequencies - expected_frequency) ** 2) / expected_frequency\n",
    "degree_of_freedom = len(month_distribution) - 1\n",
    "critical_chi2 = chi2.ppf(0.95,degree_of_freedom)\n",
    "p_value = 1 - chi2.cdf(chi2_statistic,degree_of_freedom)\n",
    "print(f\"chi2_statistic {chi2_statistic}\")\n",
    "print(f\"P-value: {p_value}\")\n"
   ]
  },
  {
   "cell_type": "code",
   "execution_count": null,
   "id": "c564b784-b600-4b7e-be42-1e853b6031d8",
   "metadata": {},
   "outputs": [],
   "source": []
  },
  {
   "cell_type": "markdown",
   "id": "743a638c-6d98-4a4c-8f84-aab4f8803cc6",
   "metadata": {},
   "source": [
    "**since p-value < alpha\n",
    "therefore reject null hypthothesis can be rejected**"
   ]
  },
  {
   "cell_type": "code",
   "execution_count": null,
   "id": "49ffd50e-7249-47cd-8ecd-c5d8e7279e6a",
   "metadata": {},
   "outputs": [],
   "source": []
  },
  {
   "cell_type": "code",
   "execution_count": 47,
   "id": "37978ca2",
   "metadata": {},
   "outputs": [
    {
     "name": "stdout",
     "output_type": "stream",
     "text": [
      "Chi_Square_Score: 15.896\n",
      "p-value: 0.01432319742349924\n"
     ]
    }
   ],
   "source": [
    "# using chisquare\n"
   ]
  },
  {
   "cell_type": "code",
   "execution_count": null,
   "id": "1d992d05-ea6b-47d8-9b94-fb49cd577d5c",
   "metadata": {},
   "outputs": [],
   "source": []
  },
  {
   "cell_type": "code",
   "execution_count": 189,
   "id": "f120a882-3235-4ed8-8f79-7c1cc6f6634e",
   "metadata": {},
   "outputs": [
    {
     "name": "stdout",
     "output_type": "stream",
     "text": [
      "Chi-square Statistic: 15.896\n",
      "P-value: 0.014323197423499238\n"
     ]
    }
   ],
   "source": [
    "chi2_stat, p_value = chisquare(month_distribution, f_exp=expected_frequency)\n",
    "print(f\"Chi-square Statistic: {chi2_stat}\")\n",
    "print(f\"P-value: {p_value}\")\n"
   ]
  },
  {
   "cell_type": "markdown",
   "id": "97cf0ca3",
   "metadata": {},
   "source": [
    "## Chi-square test of independence\n",
    "### Check if there is a significant relation between \"Clicked on Ad\" and \"month\".\n",
    "### Use from scipy.stats.chi2_contingency() only.\n",
    "### Write your conclusion"
   ]
  },
  {
   "cell_type": "code",
   "execution_count": 112,
   "id": "b0d2c00d-14cc-4998-8665-0c2134e04314",
   "metadata": {},
   "outputs": [],
   "source": [
    "from scipy.stats import chi2_contingency"
   ]
  },
  {
   "cell_type": "code",
   "execution_count": null,
   "id": "18650295-377f-4c9e-a99a-fb60fca032e2",
   "metadata": {},
   "outputs": [],
   "source": []
  },
  {
   "cell_type": "code",
   "execution_count": 149,
   "id": "1f088e48-6788-4e5d-8ae8-f862194489a1",
   "metadata": {},
   "outputs": [
    {
     "data": {
      "text/plain": [
       "<Axes: xlabel='Clicked on Ad', ylabel='count'>"
      ]
     },
     "execution_count": 149,
     "metadata": {},
     "output_type": "execute_result"
    },
    {
     "data": {
      "image/png": "[encoded data removed]",
      "text/plain": [
       "<Figure size 640x480 with 1 Axes>"
      ]
     },
     "metadata": {},
     "output_type": "display_data"
    }
   ],
   "source": [
    "sns.countplot(x='Clicked on Ad', data=df,hue='month')"
   ]
  },
  {
   "cell_type": "code",
   "execution_count": 48,
   "id": "d3e1ab42",
   "metadata": {},
   "outputs": [
    {
     "data": {
      "text/plain": [
       "<AxesSubplot:xlabel='Clicked on Ad', ylabel='count'>"
      ]
     },
     "execution_count": 48,
     "metadata": {},
     "output_type": "execute_result"
    },
    {
     "data": {
      "image/png": "[encoded data removed]",
      "text/plain": [
       "<Figure size 720x504 with 1 Axes>"
      ]
     },
     "metadata": {
      "needs_background": "light"
     },
     "output_type": "display_data"
    }
   ],
   "source": []
  },
  {
   "cell_type": "code",
   "execution_count": null,
   "id": "3f61ff38-53c1-4876-b4f1-c0fd8088e2dd",
   "metadata": {},
   "outputs": [],
   "source": []
  },
  {
   "cell_type": "code",
   "execution_count": 191,
   "id": "ceed0030-267d-48df-81a9-3d9482b1c72e",
   "metadata": {},
   "outputs": [
    {
     "data": {
      "text/plain": [
       "<Axes: xlabel='month', ylabel='Clicked on Ad'>"
      ]
     },
     "execution_count": 191,
     "metadata": {},
     "output_type": "execute_result"
    },
    {
     "data": {
      "image/png": "[encoded data removed]",
      "text/plain": [
       "<Figure size 640x480 with 1 Axes>"
      ]
     },
     "metadata": {},
     "output_type": "display_data"
    }
   ],
   "source": [
    "sns.barplot(x=df['month'],y=df['Clicked on Ad'])"
   ]
  },
  {
   "cell_type": "code",
   "execution_count": 32,
   "id": "69f00a1b",
   "metadata": {},
   "outputs": [
    {
     "data": {
      "text/plain": [
       "<AxesSubplot:xlabel='month', ylabel='Clicked on Ad'>"
      ]
     },
     "execution_count": 32,
     "metadata": {},
     "output_type": "execute_result"
    },
    {
     "data": {
      "image/png": "[encoded data removed]",
      "text/plain": [
       "<Figure size 720x504 with 1 Axes>"
      ]
     },
     "metadata": {
      "needs_background": "light"
     },
     "output_type": "display_data"
    }
   ],
   "source": []
  },
  {
   "cell_type": "code",
   "execution_count": 196,
   "id": "bcb95794-7558-4406-bd8b-3e611b435609",
   "metadata": {},
   "outputs": [
    {
     "data": {
      "text/html": [
       "<div>\n",
       "<style scoped>\n",
       "    .dataframe tbody tr th:only-of-type {\n",
       "        vertical-align: middle;\n",
       "    }\n",
       "\n",
       "    .dataframe tbody tr th {\n",
       "        vertical-align: top;\n",
       "    }\n",
       "\n",
       "    .dataframe thead th {\n",
       "        text-align: right;\n",
       "    }\n",
       "</style>\n",
       "<table border=\"1\" class=\"dataframe\">\n",
       "  <thead>\n",
       "    <tr style=\"text-align: right;\">\n",
       "      <th>Clicked on Ad</th>\n",
       "      <th>0</th>\n",
       "      <th>1</th>\n",
       "    </tr>\n",
       "    <tr>\n",
       "      <th>month</th>\n",
       "      <th></th>\n",
       "      <th></th>\n",
       "    </tr>\n",
       "  </thead>\n",
       "  <tbody>\n",
       "    <tr>\n",
       "      <th>1</th>\n",
       "      <td>78</td>\n",
       "      <td>69</td>\n",
       "    </tr>\n",
       "    <tr>\n",
       "      <th>2</th>\n",
       "      <td>77</td>\n",
       "      <td>83</td>\n",
       "    </tr>\n",
       "    <tr>\n",
       "      <th>3</th>\n",
       "      <td>82</td>\n",
       "      <td>74</td>\n",
       "    </tr>\n",
       "    <tr>\n",
       "      <th>4</th>\n",
       "      <td>73</td>\n",
       "      <td>74</td>\n",
       "    </tr>\n",
       "    <tr>\n",
       "      <th>5</th>\n",
       "      <td>68</td>\n",
       "      <td>79</td>\n",
       "    </tr>\n",
       "    <tr>\n",
       "      <th>6</th>\n",
       "      <td>71</td>\n",
       "      <td>71</td>\n",
       "    </tr>\n",
       "    <tr>\n",
       "      <th>7</th>\n",
       "      <td>51</td>\n",
       "      <td>50</td>\n",
       "    </tr>\n",
       "  </tbody>\n",
       "</table>\n",
       "</div>"
      ],
      "text/plain": [
       "Clicked on Ad   0   1\n",
       "month                \n",
       "1              78  69\n",
       "2              77  83\n",
       "3              82  74\n",
       "4              73  74\n",
       "5              68  79\n",
       "6              71  71\n",
       "7              51  50"
      ]
     },
     "execution_count": 196,
     "metadata": {},
     "output_type": "execute_result"
    }
   ],
   "source": [
    "clicked_contingency = pd.crosstab(df['month'],df['Clicked on Ad'])\n",
    "clicked_contingency"
   ]
  },
  {
   "cell_type": "code",
   "execution_count": 49,
   "id": "99fe8f5c",
   "metadata": {},
   "outputs": [
    {
     "data": {
      "text/html": [
       "<div>\n",
       "<style scoped>\n",
       "    .dataframe tbody tr th:only-of-type {\n",
       "        vertical-align: middle;\n",
       "    }\n",
       "\n",
       "    .dataframe tbody tr th {\n",
       "        vertical-align: top;\n",
       "    }\n",
       "\n",
       "    .dataframe thead th {\n",
       "        text-align: right;\n",
       "    }\n",
       "</style>\n",
       "<table border=\"1\" class=\"dataframe\">\n",
       "  <thead>\n",
       "    <tr style=\"text-align: right;\">\n",
       "      <th>Clicked on Ad</th>\n",
       "      <th>0</th>\n",
       "      <th>1</th>\n",
       "    </tr>\n",
       "    <tr>\n",
       "      <th>month</th>\n",
       "      <th></th>\n",
       "      <th></th>\n",
       "    </tr>\n",
       "  </thead>\n",
       "  <tbody>\n",
       "    <tr>\n",
       "      <th>1</th>\n",
       "      <td>78</td>\n",
       "      <td>69</td>\n",
       "    </tr>\n",
       "    <tr>\n",
       "      <th>2</th>\n",
       "      <td>77</td>\n",
       "      <td>83</td>\n",
       "    </tr>\n",
       "    <tr>\n",
       "      <th>3</th>\n",
       "      <td>82</td>\n",
       "      <td>74</td>\n",
       "    </tr>\n",
       "    <tr>\n",
       "      <th>4</th>\n",
       "      <td>73</td>\n",
       "      <td>74</td>\n",
       "    </tr>\n",
       "    <tr>\n",
       "      <th>5</th>\n",
       "      <td>68</td>\n",
       "      <td>79</td>\n",
       "    </tr>\n",
       "    <tr>\n",
       "      <th>6</th>\n",
       "      <td>71</td>\n",
       "      <td>71</td>\n",
       "    </tr>\n",
       "    <tr>\n",
       "      <th>7</th>\n",
       "      <td>51</td>\n",
       "      <td>50</td>\n",
       "    </tr>\n",
       "  </tbody>\n",
       "</table>\n",
       "</div>"
      ],
      "text/plain": [
       "Clicked on Ad   0   1\n",
       "month                \n",
       "1              78  69\n",
       "2              77  83\n",
       "3              82  74\n",
       "4              73  74\n",
       "5              68  79\n",
       "6              71  71\n",
       "7              51  50"
      ]
     },
     "execution_count": 49,
     "metadata": {},
     "output_type": "execute_result"
    }
   ],
   "source": []
  },
  {
   "cell_type": "code",
   "execution_count": 197,
   "id": "eebd2851-8d32-4db1-af29-47a14592d1a1",
   "metadata": {},
   "outputs": [
    {
     "data": {
      "text/plain": [
       "<Axes: xlabel='Clicked on Ad', ylabel='month'>"
      ]
     },
     "execution_count": 197,
     "metadata": {},
     "output_type": "execute_result"
    },
    {
     "data": {
      "image/png": "[encoded data removed]",
      "text/plain": [
       "<Figure size 640x480 with 2 Axes>"
      ]
     },
     "metadata": {},
     "output_type": "display_data"
    }
   ],
   "source": [
    "sns.heatmap(clicked_contingency)"
   ]
  },
  {
   "cell_type": "code",
   "execution_count": 50,
   "id": "8bb90d0a",
   "metadata": {},
   "outputs": [
    {
     "data": {
      "text/plain": [
       "<AxesSubplot:xlabel='Clicked on Ad', ylabel='month'>"
      ]
     },
     "execution_count": 50,
     "metadata": {},
     "output_type": "execute_result"
    },
    {
     "data": {
      "image/png": "[encoded data removed]",
      "text/plain": [
       "<Figure size 864x576 with 2 Axes>"
      ]
     },
     "metadata": {
      "needs_background": "light"
     },
     "output_type": "display_data"
    }
   ],
   "source": []
  },
  {
   "cell_type": "code",
   "execution_count": null,
   "id": "8a1acef0-f2f7-44a8-b554-a7b1b8bc2fbf",
   "metadata": {},
   "outputs": [],
   "source": []
  },
  {
   "cell_type": "code",
   "execution_count": 178,
   "id": "5fe91a48-f945-465f-a6b3-88a547da729b",
   "metadata": {},
   "outputs": [
    {
     "name": "stdout",
     "output_type": "stream",
     "text": [
      "Expected:\n",
      "[[73.5 80.  78.  73.5 73.5 71.  50.5]\n",
      " [73.5 80.  78.  73.5 73.5 71.  50.5]]\n",
      "Chi_Square_Score: 2.026109781307801\n",
      "p-value: 0.9172816839796131\n",
      "dof: 6\n"
     ]
    }
   ],
   "source": [
    "contingency_table = pd.crosstab(df['Clicked on Ad'], df['month'])\n",
    "chi2_stat, p_value, dof, expected = chi2_contingency(contingency_table)\n",
    "print(\"Expected:\")\n",
    "print(expected)\n",
    "print(f\"Chi_Square_Score: {chi2_stat}\")\n",
    "print(f\"p-value: {p_value}\")\n",
    "print(f\"dof: {dof}\")"
   ]
  },
  {
   "cell_type": "code",
   "execution_count": null,
   "id": "75f33a81-56dd-4a52-85f1-8988953598d2",
   "metadata": {},
   "outputs": [],
   "source": []
  },
  {
   "cell_type": "code",
   "execution_count": 53,
   "id": "960d5bcf",
   "metadata": {},
   "outputs": [
    {
     "name": "stdout",
     "output_type": "stream",
     "text": [
      "Expected:\n",
      "[[73.5 73.5]\n",
      " [80.  80. ]\n",
      " [78.  78. ]\n",
      " [73.5 73.5]\n",
      " [73.5 73.5]\n",
      " [71.  71. ]\n",
      " [50.5 50.5]]\n",
      "Chi_Square_Score: 2.026109781307801\n",
      "p-value: 0.9172816839796131\n",
      "dof: 6\n"
     ]
    }
   ],
   "source": []
  },
  {
   "cell_type": "markdown",
   "id": "752973fe",
   "metadata": {},
   "source": [
    "## F Distribution (Optional)\n",
    "### Generate different F distributions from different Chai distributions using np.random.chisquare().\n",
    "### Compare with scipy.stats.f()"
   ]
  },
  {
   "cell_type": "code",
   "execution_count": null,
   "id": "86a89bc8",
   "metadata": {},
   "outputs": [],
   "source": []
  },
  {
   "cell_type": "code",
   "execution_count": 174,
   "id": "05584b7c-964a-40ac-a28c-d7445227c73f",
   "metadata": {},
   "outputs": [],
   "source": [
    "chi_square_1 = np.random.chisquare(5, size=100)\n",
    "chi_square_2 = np.random.chisquare(10, size=100)\n",
    "\n",
    "f_distribution = (chi_square_1 / 5) / (chi_square_2 / 10)"
   ]
  },
  {
   "cell_type": "code",
   "execution_count": 175,
   "id": "0d127e03-5d22-4df4-8f52-898fadf9f3c4",
   "metadata": {},
   "outputs": [
    {
     "data": {
      "text/plain": [
       "array([1.19440031, 0.18765194, 0.21369115, 0.82660337, 0.30121962,\n",
       "       1.16274264, 0.14001069, 0.22886484, 0.69268914, 0.29153381,\n",
       "       0.30021848, 0.45495569, 0.17490948, 2.17898434, 1.16089247,\n",
       "       0.90371273, 0.83559076, 1.44490595, 0.67197296, 0.4842048 ,\n",
       "       0.84222137, 0.25452106, 0.25353912, 1.3486295 , 0.79804625,\n",
       "       2.27476619, 0.62788773, 0.66583456, 2.43598268, 0.75055265,\n",
       "       0.64390321, 0.85441279, 1.09787501, 0.39395829, 0.70145442,\n",
       "       1.48722235, 1.69016712, 1.58097064, 1.60300138, 0.61853603,\n",
       "       1.47758655, 1.4876821 , 0.43720895, 0.7870677 , 0.10066633,\n",
       "       0.74279629, 1.88819748, 0.45643105, 0.44675353, 0.42001278,\n",
       "       1.10225088, 0.65562188, 1.22361433, 0.17557532, 2.44210801,\n",
       "       0.86813327, 1.2685232 , 2.30753126, 1.41569601, 5.13432877,\n",
       "       0.90735277, 1.58705017, 1.09400013, 0.89918505, 0.35638973,\n",
       "       0.90528529, 0.74933269, 0.21878843, 1.55651072, 1.60700669,\n",
       "       0.50202245, 2.72472523, 2.44293261, 1.63381734, 0.23710585,\n",
       "       0.95580418, 1.78816584, 1.05507328, 2.84332378, 1.52508847,\n",
       "       0.98086725, 1.0848143 , 0.60342968, 0.96949896, 0.57534736,\n",
       "       0.75096806, 1.31765512, 0.47025347, 1.46937811, 0.96783558,\n",
       "       2.38916792, 0.32644317, 1.47466054, 1.45380657, 0.56489799,\n",
       "       0.5350337 , 0.78776936, 2.77165892, 0.48898069, 1.8757252 ])"
      ]
     },
     "execution_count": 175,
     "metadata": {},
     "output_type": "execute_result"
    }
   ],
   "source": [
    "f_distribution"
   ]
  },
  {
   "cell_type": "code",
   "execution_count": null,
   "id": "c45cfe2f-70b3-4724-99b3-a4a566bc9c81",
   "metadata": {},
   "outputs": [],
   "source": [
    "#using scipy f"
   ]
  },
  {
   "cell_type": "code",
   "execution_count": 176,
   "id": "872ca1f4-7de8-4ebe-8748-2f9294cb2fb1",
   "metadata": {},
   "outputs": [],
   "source": [
    "pdf_values = f.pdf(f_distribution, 5, 10)"
   ]
  },
  {
   "cell_type": "code",
   "execution_count": 177,
   "id": "677717ce-5835-4557-b387-49a6201da8a5",
   "metadata": {},
   "outputs": [
    {
     "data": {
      "text/plain": [
       "array([0.40386867, 0.43015823, 0.47834082, 0.58196191, 0.59851456,\n",
       "       0.41800535, 0.3270074 , 0.50370465, 0.64246027, 0.58819553,\n",
       "       0.59747993, 0.68400861, 0.4044329 , 0.13267403, 0.4188422 ,\n",
       "       0.54366151, 0.57756272, 0.30504537, 0.65046301, 0.68718475,\n",
       "       0.5743022 , 0.54214283, 0.54077245, 0.34022881, 0.59575236,\n",
       "       0.11939819, 0.66559077, 0.65273349, 0.10023579, 0.61781348,\n",
       "       0.66042666, 0.56827836, 0.44800774, 0.66563534, 0.63892841,\n",
       "       0.29067114, 0.23040111, 0.2611051 , 0.25459682, 0.66841117,\n",
       "       0.29388684, 0.29051855, 0.68041391, 0.60096212, 0.22913088,\n",
       "       0.62128131, 0.18382057, 0.68424839, 0.68251258, 0.67561092,\n",
       "       0.4459428 , 0.65640023, 0.39113718, 0.40581176, 0.09957821,\n",
       "       0.56146152, 0.37217413, 0.11519761, 0.31535249, 0.00868985,\n",
       "       0.54183446, 0.2592928 , 0.44984092, 0.54593312, 0.64486634,\n",
       "       0.54287226, 0.6183618 , 0.48708268, 0.26852369, 0.25343102,\n",
       "       0.68760027, 0.07389163, 0.09949005, 0.24576351, 0.51665395,\n",
       "       0.51751304, 0.20598219, 0.46848646, 0.06540313, 0.27835739,\n",
       "       0.50498786, 0.4542038 , 0.6726381 , 0.51066082, 0.67930049,\n",
       "       0.61762652, 0.35229274, 0.68607561, 0.2966528 , 0.51149212,\n",
       "       0.10542385, 0.62223347, 0.29486999, 0.3019675 , 0.68134122,\n",
       "       0.68569191, 0.6006309 , 0.07039221, 0.68740306, 0.18644118])"
      ]
     },
     "execution_count": 177,
     "metadata": {},
     "output_type": "execute_result"
    }
   ],
   "source": [
    "pdf_values"
   ]
  },
  {
   "cell_type": "markdown",
   "id": "74be4e3e",
   "metadata": {},
   "source": [
    "## ANOVA\n",
    "### Create a new column that identifies age groups (young,adult,old). You can use pd.cut()\n",
    "### Check if the age group affects the Daily Time Spent on Site.\n",
    "### Use only scipy.stats.f_oneway()\n",
    "### Write your conclusion."
   ]
  },
  {
   "cell_type": "code",
   "execution_count": 60,
   "id": "d6ee4121-d017-425f-9529-d3ab5a2a4681",
   "metadata": {},
   "outputs": [
    {
     "name": "stdout",
     "output_type": "stream",
     "text": [
      "<class 'pandas.core.frame.DataFrame'>\n",
      "RangeIndex: 1000 entries, 0 to 999\n",
      "Data columns (total 11 columns):\n",
      " #   Column                    Non-Null Count  Dtype   \n",
      "---  ------                    --------------  -----   \n",
      " 0   Daily Time Spent on Site  1000 non-null   float64 \n",
      " 1   Age                       1000 non-null   int64   \n",
      " 2   Area Income               1000 non-null   float64 \n",
      " 3   Daily Internet Usage      1000 non-null   float64 \n",
      " 4   Ad Topic Line             1000 non-null   object  \n",
      " 5   City                      1000 non-null   object  \n",
      " 6   Male                      1000 non-null   int64   \n",
      " 7   Country                   1000 non-null   object  \n",
      " 8   Timestamp                 1000 non-null   object  \n",
      " 9   Clicked on Ad             1000 non-null   int64   \n",
      " 10  Age Group                 1000 non-null   category\n",
      "dtypes: category(1), float64(3), int64(3), object(4)\n",
      "memory usage: 79.4+ KB\n"
     ]
    }
   ],
   "source": [
    "df.info()"
   ]
  },
  {
   "cell_type": "code",
   "execution_count": 54,
   "id": "015d5aa7",
   "metadata": {},
   "outputs": [
    {
     "name": "stdout",
     "output_type": "stream",
     "text": [
      "<class 'pandas.core.frame.DataFrame'>\n",
      "RangeIndex: 1000 entries, 0 to 999\n",
      "Data columns (total 12 columns):\n",
      " #   Column                    Non-Null Count  Dtype         \n",
      "---  ------                    --------------  -----         \n",
      " 0   Daily Time Spent on Site  1000 non-null   float64       \n",
      " 1   Age                       1000 non-null   int64         \n",
      " 2   Area Income               1000 non-null   float64       \n",
      " 3   Daily Internet Usage      1000 non-null   float64       \n",
      " 4   Ad Topic Line             1000 non-null   object        \n",
      " 5   City                      1000 non-null   object        \n",
      " 6   Male                      1000 non-null   int64         \n",
      " 7   Country                   1000 non-null   object        \n",
      " 8   Timestamp                 1000 non-null   object        \n",
      " 9   Clicked on Ad             1000 non-null   int64         \n",
      " 10  date                      1000 non-null   datetime64[ns]\n",
      " 11  month                     1000 non-null   int64         \n",
      "dtypes: datetime64[ns](1), float64(3), int64(4), object(4)\n",
      "memory usage: 93.9+ KB\n"
     ]
    }
   ],
   "source": []
  },
  {
   "cell_type": "code",
   "execution_count": 63,
   "id": "cbb4297e-557d-4083-837a-b8511646ecec",
   "metadata": {},
   "outputs": [
    {
     "data": {
      "text/plain": [
       "<Axes: xlabel='Daily Time Spent on Site', ylabel='Count'>"
      ]
     },
     "execution_count": 63,
     "metadata": {},
     "output_type": "execute_result"
    },
    {
     "data": {
      "image/png": "[encoded data removed]",
      "text/plain": [
       "<Figure size 640x480 with 1 Axes>"
      ]
     },
     "metadata": {},
     "output_type": "display_data"
    }
   ],
   "source": [
    "sns.histplot(x=df['Daily Time Spent on Site'],discrete=True)"
   ]
  },
  {
   "cell_type": "code",
   "execution_count": null,
   "id": "8ea69f11-1dcd-4ae3-a7ce-4b0ad7d1b190",
   "metadata": {},
   "outputs": [],
   "source": []
  },
  {
   "cell_type": "code",
   "execution_count": 61,
   "id": "39408d7a",
   "metadata": {
    "scrolled": true
   },
   "outputs": [
    {
     "data": {
      "text/plain": [
       "<AxesSubplot:xlabel='Daily Time Spent on Site', ylabel='Count'>"
      ]
     },
     "execution_count": 61,
     "metadata": {},
     "output_type": "execute_result"
    },
    {
     "data": {
      "image/png": "[encoded data removed]",
      "text/plain": [
       "<Figure size 432x288 with 1 Axes>"
      ]
     },
     "metadata": {
      "needs_background": "light"
     },
     "output_type": "display_data"
    }
   ],
   "source": []
  },
  {
   "cell_type": "code",
   "execution_count": null,
   "id": "37bb5fdb-3592-41f1-b873-5d394e9f0c91",
   "metadata": {},
   "outputs": [],
   "source": []
  },
  {
   "cell_type": "code",
   "execution_count": 159,
   "id": "737dedf0-2446-43dd-9364-e18c75014ede",
   "metadata": {},
   "outputs": [
    {
     "data": {
      "text/plain": [
       "<Axes: xlabel='Age', ylabel='Count'>"
      ]
     },
     "execution_count": 159,
     "metadata": {},
     "output_type": "execute_result"
    },
    {
     "data": {
      "image/png": "[encoded data removed]",
      "text/plain": [
       "<Figure size 640x480 with 1 Axes>"
      ]
     },
     "metadata": {},
     "output_type": "display_data"
    }
   ],
   "source": [
    "sns.histplot(x=df['Age'])"
   ]
  },
  {
   "cell_type": "code",
   "execution_count": 55,
   "id": "8c5bacde",
   "metadata": {},
   "outputs": [
    {
     "data": {
      "text/plain": [
       "<AxesSubplot:xlabel='Age', ylabel='Count'>"
      ]
     },
     "execution_count": 55,
     "metadata": {},
     "output_type": "execute_result"
    },
    {
     "data": {
      "image/png": "[encoded data removed]",
      "text/plain": [
       "<Figure size 432x288 with 1 Axes>"
      ]
     },
     "metadata": {
      "needs_background": "light"
     },
     "output_type": "display_data"
    }
   ],
   "source": []
  },
  {
   "cell_type": "code",
   "execution_count": null,
   "id": "d8d4f9b7-413c-4bf3-a55a-a77cd52c0e76",
   "metadata": {},
   "outputs": [],
   "source": []
  },
  {
   "cell_type": "code",
   "execution_count": 157,
   "id": "33e96993-a28c-4753-b005-3dcfdd2940b8",
   "metadata": {},
   "outputs": [
    {
     "data": {
      "text/plain": [
       "<Axes: xlabel='Age', ylabel='count'>"
      ]
     },
     "execution_count": 157,
     "metadata": {},
     "output_type": "execute_result"
    },
    {
     "data": {
      "image/png": "[encoded data removed]",
      "text/plain": [
       "<Figure size 1000x600 with 1 Axes>"
      ]
     },
     "metadata": {},
     "output_type": "display_data"
    }
   ],
   "source": [
    "plt.figure(figsize=(10, 6))\n",
    "sns.countplot(x=df['Age'])"
   ]
  },
  {
   "cell_type": "code",
   "execution_count": 57,
   "id": "e19bb383",
   "metadata": {},
   "outputs": [
    {
     "data": {
      "text/plain": [
       "<AxesSubplot:xlabel='Age', ylabel='count'>"
      ]
     },
     "execution_count": 57,
     "metadata": {},
     "output_type": "execute_result"
    },
    {
     "data": {
      "image/png": "[encoded data removed]",
      "text/plain": [
       "<Figure size 1080x504 with 1 Axes>"
      ]
     },
     "metadata": {
      "needs_background": "light"
     },
     "output_type": "display_data"
    }
   ],
   "source": []
  },
  {
   "cell_type": "code",
   "execution_count": null,
   "id": "1c17b9fb-4709-437c-82db-1a298763de7c",
   "metadata": {},
   "outputs": [],
   "source": []
  },
  {
   "cell_type": "code",
   "execution_count": null,
   "id": "e0df9237-a402-4191-9b4f-15425a0b4d31",
   "metadata": {},
   "outputs": [],
   "source": []
  },
  {
   "cell_type": "code",
   "execution_count": 233,
   "id": "b221ce4c-33bf-4d4c-bb06-b8b16b1d16f0",
   "metadata": {},
   "outputs": [
    {
     "data": {
      "text/plain": [
       "Age\n",
       "31    60\n",
       "36    50\n",
       "28    48\n",
       "29    48\n",
       "33    43\n",
       "35    39\n",
       "30    39\n",
       "34    39\n",
       "32    38\n",
       "26    37\n",
       "38    37\n",
       "37    36\n",
       "40    36\n",
       "27    33\n",
       "41    32\n",
       "45    30\n",
       "39    30\n",
       "25    27\n",
       "42    26\n",
       "43    23\n",
       "44    21\n",
       "24    21\n",
       "50    20\n",
       "23    19\n",
       "46    18\n",
       "49    18\n",
       "48    16\n",
       "52    15\n",
       "47    13\n",
       "22    13\n",
       "51    12\n",
       "53    10\n",
       "54     9\n",
       "55     7\n",
       "20     6\n",
       "21     6\n",
       "57     6\n",
       "19     6\n",
       "60     4\n",
       "58     4\n",
       "56     2\n",
       "59     2\n",
       "61     1\n",
       "Name: count, dtype: int64"
      ]
     },
     "execution_count": 233,
     "metadata": {},
     "output_type": "execute_result"
    }
   ],
   "source": [
    "df['Age'].value_counts()"
   ]
  },
  {
   "cell_type": "code",
   "execution_count": 60,
   "id": "0063545a",
   "metadata": {},
   "outputs": [
    {
     "data": {
      "text/plain": [
       "31    60\n",
       "36    50\n",
       "28    48\n",
       "29    48\n",
       "33    43\n",
       "35    39\n",
       "30    39\n",
       "34    39\n",
       "32    38\n",
       "26    37\n",
       "38    37\n",
       "37    36\n",
       "40    36\n",
       "27    33\n",
       "41    32\n",
       "45    30\n",
       "39    30\n",
       "25    27\n",
       "42    26\n",
       "43    23\n",
       "44    21\n",
       "24    21\n",
       "50    20\n",
       "23    19\n",
       "46    18\n",
       "49    18\n",
       "48    16\n",
       "52    15\n",
       "47    13\n",
       "22    13\n",
       "51    12\n",
       "53    10\n",
       "54     9\n",
       "55     7\n",
       "20     6\n",
       "21     6\n",
       "57     6\n",
       "19     6\n",
       "60     4\n",
       "58     4\n",
       "56     2\n",
       "59     2\n",
       "61     1\n",
       "Name: Age, dtype: int64"
      ]
     },
     "execution_count": 60,
     "metadata": {},
     "output_type": "execute_result"
    }
   ],
   "source": []
  },
  {
   "cell_type": "code",
   "execution_count": 70,
   "id": "b19f8be4",
   "metadata": {},
   "outputs": [],
   "source": []
  },
  {
   "cell_type": "code",
   "execution_count": 68,
   "id": "e2e5c51e-2c87-4daf-a6e4-cb79f9d0175d",
   "metadata": {},
   "outputs": [
    {
     "data": {
      "text/plain": [
       "Age Group\n",
       "adult    644\n",
       "young    264\n",
       "old       92\n",
       "Name: count, dtype: int64"
      ]
     },
     "execution_count": 68,
     "metadata": {},
     "output_type": "execute_result"
    }
   ],
   "source": [
    "df['Age Group'].value_counts()\n"
   ]
  },
  {
   "cell_type": "code",
   "execution_count": 71,
   "id": "2144af0b",
   "metadata": {},
   "outputs": [
    {
     "data": {
      "text/plain": [
       "Young    444\n",
       "Adult    430\n",
       "Old      126\n",
       "Name: AgeGroups, dtype: int64"
      ]
     },
     "execution_count": 71,
     "metadata": {},
     "output_type": "execute_result"
    }
   ],
   "source": []
  },
  {
   "cell_type": "code",
   "execution_count": 72,
   "id": "a2c36c61",
   "metadata": {},
   "outputs": [
    {
     "name": "stdout",
     "output_type": "stream",
     "text": [
      "<class 'pandas.core.frame.DataFrame'>\n",
      "RangeIndex: 1000 entries, 0 to 999\n",
      "Data columns (total 13 columns):\n",
      " #   Column                    Non-Null Count  Dtype         \n",
      "---  ------                    --------------  -----         \n",
      " 0   Daily Time Spent on Site  1000 non-null   float64       \n",
      " 1   Age                       1000 non-null   int64         \n",
      " 2   Area Income               1000 non-null   float64       \n",
      " 3   Daily Internet Usage      1000 non-null   float64       \n",
      " 4   Ad Topic Line             1000 non-null   object        \n",
      " 5   City                      1000 non-null   object        \n",
      " 6   Male                      1000 non-null   int64         \n",
      " 7   Country                   1000 non-null   object        \n",
      " 8   Timestamp                 1000 non-null   object        \n",
      " 9   Clicked on Ad             1000 non-null   int64         \n",
      " 10  date                      1000 non-null   datetime64[ns]\n",
      " 11  month                     1000 non-null   int64         \n",
      " 12  AgeGroups                 1000 non-null   category      \n",
      "dtypes: category(1), datetime64[ns](1), float64(3), int64(4), object(4)\n",
      "memory usage: 95.0+ KB\n"
     ]
    }
   ],
   "source": []
  },
  {
   "cell_type": "code",
   "execution_count": null,
   "id": "f2283631-10f8-4763-94f0-a6da65303fcb",
   "metadata": {},
   "outputs": [],
   "source": []
  },
  {
   "cell_type": "code",
   "execution_count": 160,
   "id": "d9af2103-d23d-4221-9dbb-b69e7dbef485",
   "metadata": {},
   "outputs": [],
   "source": [
    "labels = ['young', 'adult', 'old']\n",
    "bins = [0, 33, 47, float('inf')]\n",
    "df['Age Group'] = pd.cut(df['Age'], bins=bins, labels=labels, right=False)\n",
    "young_group = df[df['Age Group'] == 'young']['Daily Time Spent on Site']\n",
    "adult_group = df[df['Age Group'] == 'adult']['Daily Time Spent on Site']\n",
    "old_group = df[df['Age Group'] == 'old']['Daily Time Spent on Site']"
   ]
  },
  {
   "cell_type": "code",
   "execution_count": 41,
   "id": "39eadcf0",
   "metadata": {},
   "outputs": [
    {
     "data": {
      "text/plain": [
       "<AxesSubplot:xlabel='AgeGroups', ylabel='Age'>"
      ]
     },
     "execution_count": 41,
     "metadata": {},
     "output_type": "execute_result"
    },
    {
     "data": {
      "image/png": "[encoded data removed]",
      "text/plain": [
       "<Figure size 1080x504 with 1 Axes>"
      ]
     },
     "metadata": {
      "needs_background": "light"
     },
     "output_type": "display_data"
    }
   ],
   "source": []
  },
  {
   "cell_type": "code",
   "execution_count": 164,
   "id": "d17bf351-b183-4f0d-b00b-d0e16a519acd",
   "metadata": {},
   "outputs": [
    {
     "data": {
      "text/plain": [
       "<Axes: xlabel='Age Group', ylabel='count'>"
      ]
     },
     "execution_count": 164,
     "metadata": {},
     "output_type": "execute_result"
    },
    {
     "data": {
      "image/png": "[encoded data removed]",
      "text/plain": [
       "<Figure size 640x480 with 1 Axes>"
      ]
     },
     "metadata": {},
     "output_type": "display_data"
    }
   ],
   "source": [
    "sns.countplot(x=df['Age Group'])"
   ]
  },
  {
   "cell_type": "code",
   "execution_count": 73,
   "id": "bc2b0e76",
   "metadata": {},
   "outputs": [
    {
     "data": {
      "text/plain": [
       "<AxesSubplot:xlabel='AgeGroups', ylabel='count'>"
      ]
     },
     "execution_count": 73,
     "metadata": {},
     "output_type": "execute_result"
    },
    {
     "data": {
      "image/png": "[encoded data removed]",
      "text/plain": [
       "<Figure size 1080x504 with 1 Axes>"
      ]
     },
     "metadata": {
      "needs_background": "light"
     },
     "output_type": "display_data"
    }
   ],
   "source": []
  },
  {
   "cell_type": "code",
   "execution_count": 75,
   "id": "d61f4783",
   "metadata": {},
   "outputs": [
    {
     "data": {
      "text/plain": [
       "<AxesSubplot:xlabel='AgeGroups', ylabel='Daily Time Spent on Site'>"
      ]
     },
     "execution_count": 75,
     "metadata": {},
     "output_type": "execute_result"
    },
    {
     "data": {
      "image/png": "[encoded data removed]",
      "text/plain": [
       "<Figure size 1080x504 with 1 Axes>"
      ]
     },
     "metadata": {
      "needs_background": "light"
     },
     "output_type": "display_data"
    }
   ],
   "source": []
  },
  {
   "cell_type": "code",
   "execution_count": null,
   "id": "aee91264-28c9-44a1-9566-c35a086a7284",
   "metadata": {},
   "outputs": [],
   "source": []
  },
  {
   "cell_type": "code",
   "execution_count": 168,
   "id": "c32dcc29-e618-4556-af31-f16014edb95b",
   "metadata": {},
   "outputs": [
    {
     "data": {
      "text/plain": [
       "<Axes: xlabel='Age Group', ylabel='Daily Time Spent on Site'>"
      ]
     },
     "execution_count": 168,
     "metadata": {},
     "output_type": "execute_result"
    },
    {
     "data": {
      "image/png": "[encoded data removed]",
      "text/plain": [
       "<Figure size 640x480 with 1 Axes>"
      ]
     },
     "metadata": {},
     "output_type": "display_data"
    }
   ],
   "source": [
    "sns.boxplot(x='Age Group', y='Daily Time Spent on Site', data=df)"
   ]
  },
  {
   "cell_type": "code",
   "execution_count": 76,
   "id": "198f5bbc",
   "metadata": {},
   "outputs": [
    {
     "data": {
      "text/plain": [
       "<AxesSubplot:xlabel='AgeGroups', ylabel='Daily Time Spent on Site'>"
      ]
     },
     "execution_count": 76,
     "metadata": {},
     "output_type": "execute_result"
    },
    {
     "data": {
      "image/png": "[encoded data removed]",
      "text/plain": [
       "<Figure size 432x288 with 1 Axes>"
      ]
     },
     "metadata": {
      "needs_background": "light"
     },
     "output_type": "display_data"
    }
   ],
   "source": []
  },
  {
   "cell_type": "code",
   "execution_count": null,
   "id": "1aedc854-4160-4b12-b346-1ae8044b88df",
   "metadata": {},
   "outputs": [],
   "source": []
  },
  {
   "cell_type": "code",
   "execution_count": 169,
   "id": "2943057d-173f-4ce2-83ab-da62026363d2",
   "metadata": {},
   "outputs": [
    {
     "data": {
      "text/plain": [
       "<Axes: xlabel='Age Group', ylabel='Daily Time Spent on Site'>"
      ]
     },
     "execution_count": 169,
     "metadata": {},
     "output_type": "execute_result"
    },
    {
     "data": {
      "image/png": "[encoded data removed]",
      "text/plain": [
       "<Figure size 640x480 with 1 Axes>"
      ]
     },
     "metadata": {},
     "output_type": "display_data"
    }
   ],
   "source": [
    "sns.violinplot(x='Age Group', y='Daily Time Spent on Site', data=df)"
   ]
  },
  {
   "cell_type": "code",
   "execution_count": 77,
   "id": "edbe8327",
   "metadata": {},
   "outputs": [
    {
     "data": {
      "text/plain": [
       "<AxesSubplot:xlabel='AgeGroups', ylabel='Daily Time Spent on Site'>"
      ]
     },
     "execution_count": 77,
     "metadata": {},
     "output_type": "execute_result"
    },
    {
     "data": {
      "image/png": "[encoded data removed]",
      "text/plain": [
       "<Figure size 432x288 with 1 Axes>"
      ]
     },
     "metadata": {
      "needs_background": "light"
     },
     "output_type": "display_data"
    }
   ],
   "source": []
  },
  {
   "cell_type": "code",
   "execution_count": null,
   "id": "f1f9cff7-a867-4e66-8c77-d90d6ae4df07",
   "metadata": {},
   "outputs": [],
   "source": []
  },
  {
   "cell_type": "code",
   "execution_count": 198,
   "id": "359578dd-ed14-4c83-9317-5e61e5ce2cd2",
   "metadata": {},
   "outputs": [
    {
     "data": {
      "text/plain": [
       "<Axes: xlabel='Age Group', ylabel='Daily Time Spent on Site'>"
      ]
     },
     "execution_count": 198,
     "metadata": {},
     "output_type": "execute_result"
    },
    {
     "data": {
      "image/png": "[encoded data removed]",
      "text/plain": [
       "<Figure size 640x480 with 1 Axes>"
      ]
     },
     "metadata": {},
     "output_type": "display_data"
    }
   ],
   "source": [
    "sns.stripplot(x='Age Group', y='Daily Time Spent on Site', data=df)"
   ]
  },
  {
   "cell_type": "code",
   "execution_count": 78,
   "id": "55ec9070",
   "metadata": {},
   "outputs": [
    {
     "data": {
      "text/plain": [
       "<AxesSubplot:xlabel='AgeGroups', ylabel='Daily Time Spent on Site'>"
      ]
     },
     "execution_count": 78,
     "metadata": {},
     "output_type": "execute_result"
    },
    {
     "data": {
      "image/png": "[encoded data removed]",
      "text/plain": [
       "<Figure size 432x288 with 1 Axes>"
      ]
     },
     "metadata": {
      "needs_background": "light"
     },
     "output_type": "display_data"
    }
   ],
   "source": []
  },
  {
   "cell_type": "code",
   "execution_count": 82,
   "id": "bb3873f9",
   "metadata": {},
   "outputs": [
    {
     "name": "stdout",
     "output_type": "stream",
     "text": [
      "F-score: 59.26824116449695\n",
      "p-value: 4.77389772073441e-25\n"
     ]
    }
   ],
   "source": []
  },
  {
   "cell_type": "code",
   "execution_count": null,
   "id": "7360a4dd-ebd2-44e9-ae66-0b48f3534c42",
   "metadata": {},
   "outputs": [],
   "source": []
  },
  {
   "cell_type": "code",
   "execution_count": 135,
   "id": "454f0685-9512-48e8-8310-19a4ee3bb4c7",
   "metadata": {},
   "outputs": [
    {
     "name": "stdout",
     "output_type": "stream",
     "text": [
      "F-Statistic: 59.25151607240828\n",
      "P-Value: 4.845794511400376e-25\n"
     ]
    }
   ],
   "source": [
    "from scipy.stats import f_oneway\n",
    "\n",
    "f_statistic, p_value = f_oneway(young_group, adult_group, old_group)\n",
    "print(f'F-Statistic: {f_statistic}')\n",
    "print(f'P-Value: {p_value}')\n"
   ]
  },
  {
   "cell_type": "code",
   "execution_count": 66,
   "id": "329b6b8f-7fd3-476b-adbf-00b69cacdf86",
   "metadata": {},
   "outputs": [
    {
     "name": "stdout",
     "output_type": "stream",
     "text": [
      "<class 'pandas.core.frame.DataFrame'>\n",
      "RangeIndex: 1000 entries, 0 to 999\n",
      "Data columns (total 11 columns):\n",
      " #   Column                    Non-Null Count  Dtype   \n",
      "---  ------                    --------------  -----   \n",
      " 0   Daily Time Spent on Site  1000 non-null   float64 \n",
      " 1   Age                       1000 non-null   int64   \n",
      " 2   Area Income               1000 non-null   float64 \n",
      " 3   Daily Internet Usage      1000 non-null   float64 \n",
      " 4   Ad Topic Line             1000 non-null   object  \n",
      " 5   City                      1000 non-null   object  \n",
      " 6   Male                      1000 non-null   int64   \n",
      " 7   Country                   1000 non-null   object  \n",
      " 8   Timestamp                 1000 non-null   object  \n",
      " 9   Clicked on Ad             1000 non-null   int64   \n",
      " 10  Age Group                 1000 non-null   category\n",
      "dtypes: category(1), float64(3), int64(3), object(4)\n",
      "memory usage: 79.4+ KB\n"
     ]
    }
   ],
   "source": [
    "df.info()"
   ]
  },
  {
   "cell_type": "code",
   "execution_count": 67,
   "id": "67c59e97",
   "metadata": {},
   "outputs": [
    {
     "data": {
      "text/plain": [
       "Age Group\n",
       "adult    644\n",
       "young    264\n",
       "old       92\n",
       "Name: count, dtype: int64"
      ]
     },
     "execution_count": 67,
     "metadata": {},
     "output_type": "execute_result"
    }
   ],
   "source": [
    "df['Age Group'].value_counts()"
   ]
  },
  {
   "cell_type": "code",
   "execution_count": null,
   "id": "a720efb5-abfb-466e-ac8b-55c098a3028f",
   "metadata": {},
   "outputs": [],
   "source": []
  }
 ],
 "metadata": {
  "kernelspec": {
   "display_name": "Python 3 (ipykernel)",
   "language": "python",
   "name": "python3"
  },
  "language_info": {
   "codemirror_mode": {
    "name": "ipython",
    "version": 3
   },
   "file_extension": ".py",
   "mimetype": "text/x-python",
   "name": "python",
   "nbconvert_exporter": "python",
   "pygments_lexer": "ipython3",
   "version": "3.11.1"
  }
 },
 "nbformat": 4,
 "nbformat_minor": 5
}
